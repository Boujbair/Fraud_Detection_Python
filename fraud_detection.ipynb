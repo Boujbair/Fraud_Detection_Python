{
 "cells": [
  {
   "cell_type": "markdown",
   "metadata": {},
   "source": [
    "## **Fraud Detection in Python**\n",
    "\n",
    "**Course Description**\n",
    "\n",
    "A typical organization loses an estimated 5% of its yearly revenue to fraud. In this course, learn to fight fraud by using data. Apply supervised learning algorithms to detect fraudulent behavior based upon past fraud, and use unsupervised learning methods to discover new types of fraud activities. \n",
    "\n",
    "Fraudulent transactions are rare compared to the norm.  As such, learn to properly classify imbalanced datasets.\n",
    "\n",
    "The course provides technical and theoretical insights and demonstrates how to implement fraud detection models. Finally, get tips and advice from real-life experience to help prevent common mistakes in fraud analytics."
   ]
  },
  {
   "cell_type": "markdown",
   "metadata": {},
   "source": [
    "**Imports**"
   ]
  },
  {
   "cell_type": "code",
   "execution_count": 1,
   "metadata": {},
   "outputs": [],
   "source": [
    "import warnings\n",
    "warnings.filterwarnings('ignore')\n",
    "warnings.simplefilter('ignore')"
   ]
  },
  {
   "cell_type": "markdown",
   "metadata": {},
   "source": [
    "Explain every import by putting a comment in front "
   ]
  },
  {
   "cell_type": "code",
   "execution_count": 2,
   "metadata": {},
   "outputs": [
    {
     "name": "stdout",
     "output_type": "stream",
     "text": [
      "Requirement already satisfied: imblearn in d:\\download 01\\anaconda\\lib\\site-packages (0.0)\n",
      "Requirement already satisfied: imbalanced-learn in d:\\download 01\\anaconda\\lib\\site-packages (from imblearn) (0.9.0)\n",
      "Requirement already satisfied: numpy>=1.14.6 in d:\\download 01\\anaconda\\lib\\site-packages (from imbalanced-learn->imblearn) (1.20.3)\n",
      "Requirement already satisfied: scikit-learn>=1.0.1 in d:\\download 01\\anaconda\\lib\\site-packages (from imbalanced-learn->imblearn) (1.0.2)\n",
      "Requirement already satisfied: joblib>=0.11 in d:\\download 01\\anaconda\\lib\\site-packages (from imbalanced-learn->imblearn) (1.1.0)\n",
      "Requirement already satisfied: threadpoolctl>=2.0.0 in d:\\download 01\\anaconda\\lib\\site-packages (from imbalanced-learn->imblearn) (2.2.0)\n",
      "Requirement already satisfied: scipy>=1.1.0 in d:\\download 01\\anaconda\\lib\\site-packages (from imbalanced-learn->imblearn) (1.7.1)\n",
      "Note: you may need to restart the kernel to use updated packages.\n"
     ]
    }
   ],
   "source": [
    "pip install imblearn"
   ]
  },
  {
   "cell_type": "code",
   "execution_count": 4,
   "metadata": {},
   "outputs": [
    {
     "name": "stdout",
     "output_type": "stream",
     "text": [
      "Collecting gensim\n",
      "  Downloading gensim-4.1.2-cp39-cp39-win_amd64.whl (24.0 MB)\n",
      "Collecting smart-open>=1.8.1\n",
      "  Downloading smart_open-5.2.1-py3-none-any.whl (58 kB)\n",
      "Requirement already satisfied: scipy>=0.18.1 in d:\\download 01\\anaconda\\lib\\site-packages (from gensim) (1.7.1)\n",
      "Requirement already satisfied: numpy>=1.17.0 in d:\\download 01\\anaconda\\lib\\site-packages (from gensim) (1.20.3)\n",
      "Collecting Cython==0.29.23\n",
      "  Downloading Cython-0.29.23-cp39-cp39-win_amd64.whl (1.7 MB)\n",
      "Installing collected packages: smart-open, Cython, gensim\n",
      "  Attempting uninstall: Cython\n",
      "    Found existing installation: Cython 0.29.24\n",
      "    Uninstalling Cython-0.29.24:\n",
      "      Successfully uninstalled Cython-0.29.24\n",
      "Successfully installed Cython-0.29.23 gensim-4.1.2 smart-open-5.2.1\n",
      "Note: you may need to restart the kernel to use updated packages.\n"
     ]
    }
   ],
   "source": [
    "pip install gensim"
   ]
  },
  {
   "cell_type": "code",
   "execution_count": 6,
   "metadata": {},
   "outputs": [],
   "source": [
    "import pandas as pd\n",
    "import matplotlib.pyplot as plt\n",
    "from matplotlib.patches import Rectangle\n",
    "import numpy as np\n",
    "from pprint import pprint as pp\n",
    "import csv\n",
    "from pathlib import Path\n",
    "import seaborn as sns\n",
    "from itertools import product\n",
    "import string\n",
    "\n",
    "import nltk\n",
    "from nltk.corpus import stopwords\n",
    "from nltk.stem.wordnet import WordNetLemmatizer\n",
    "\n",
    "from imblearn.over_sampling import SMOTE\n",
    "from imblearn.over_sampling import BorderlineSMOTE\n",
    "from imblearn.pipeline import Pipeline \n",
    "\n",
    "from sklearn.linear_model import LinearRegression, LogisticRegression\n",
    "from sklearn.model_selection import train_test_split, GridSearchCV\n",
    "from sklearn.tree import DecisionTreeClassifier\n",
    "from sklearn.metrics import r2_score, classification_report, confusion_matrix, accuracy_score, roc_auc_score, roc_curve, precision_recall_curve, average_precision_score\n",
    "from sklearn.metrics import homogeneity_score, silhouette_score\n",
    "from sklearn.ensemble import RandomForestClassifier, VotingClassifier\n",
    "from sklearn.preprocessing import MinMaxScaler\n",
    "from sklearn.cluster import MiniBatchKMeans, DBSCAN\n",
    "\n",
    "import gensim\n",
    "from gensim import corpora"
   ]
  },
  {
   "cell_type": "markdown",
   "metadata": {},
   "source": [
    "**Pandas Configuration Options**"
   ]
  },
  {
   "cell_type": "code",
   "execution_count": 7,
   "metadata": {},
   "outputs": [],
   "source": [
    "pd.set_option('display.max_columns', 700)\n",
    "pd.set_option('display.max_rows', 400)\n",
    "pd.set_option('display.min_rows', 10)\n",
    "pd.set_option('display.expand_frame_repr', True)"
   ]
  },
  {
   "cell_type": "markdown",
   "metadata": {},
   "source": [
    "**Data Files Location**\n",
    "\n",
    "* Most data files for the exercises can be found on the [course site](https://www.datacamp.com/courses/fraud-detection-in-python)\n",
    "    * [Chapter 1](https://assets.datacamp.com/production/repositories/2162/datasets/cc3a36b722c0806e4a7df2634e345975a0724958/chapter_1.zip)\n",
    "    * [Chapter 2](https://assets.datacamp.com/production/repositories/2162/datasets/4fb6199be9b89626dcd6b36c235cbf60cf4c1631/chapter_2.zip)\n",
    "    * [Chapter 3](https://assets.datacamp.com/production/repositories/2162/datasets/08cfcd4158b3a758e72e9bd077a9e44fec9f773b/chapter_3.zip)\n",
    "    * [Chapter 4](https://assets.datacamp.com/production/repositories/2162/datasets/94f2356652dc9ea8f0654b5e9c29645115b6e77f/chapter_4.zip)"
   ]
  },
  {
   "cell_type": "markdown",
   "metadata": {},
   "source": [
    "**Data File Objects**"
   ]
  },
  {
   "cell_type": "code",
   "execution_count": 8,
   "metadata": {},
   "outputs": [],
   "source": [
    "data = Path.cwd() / 'data' / 'fraud_detection'\n",
    "\n",
    "ch1 = data / 'chapter_1'\n",
    "cc1_file = ch1 / 'creditcard_sampledata.csv'\n",
    "cc3_file = ch1 / 'creditcard_sampledata_3.csv'\n",
    "\n",
    "ch2 = data / 'chapter_2'\n",
    "cc2_file = ch2 / 'creditcard_sampledata_2.csv'\n",
    "\n",
    "ch3 = data / 'chapter_3'\n",
    "banksim_file = ch3 / 'banksim.csv'\n",
    "banksim_adj_file = ch3 / 'banksim_adj.csv'\n",
    "db_full_file = ch3 / 'db_full.pickle'\n",
    "labels_file = ch3 / 'labels.pickle'\n",
    "labels_full_file = ch3 / 'labels_full.pickle'\n",
    "x_scaled_file = ch3 / 'x_scaled.pickle'\n",
    "x_scaled_full_file = ch3 / 'x_scaled_full.pickle'\n",
    "\n",
    "ch4 = data / 'chapter_4'\n",
    "enron_emails_clean_file = ch4 / 'enron_emails_clean.csv'\n",
    "cleantext_file = ch4 / 'cleantext.pickle'\n",
    "corpus_file = ch4 / 'corpus.pickle'\n",
    "dict_file = ch4 / 'dict.pickle'\n",
    "ldamodel_file = ch4 / 'ldamodel.pickle'"
   ]
  },
  {
   "cell_type": "markdown",
   "metadata": {},
   "source": [
    "# Introduction and preparing your data\n",
    "\n",
    "Learn about the typical challenges associated with fraud detection. Learn how to resample data in a smart way, and tackle problems with imbalanced data."
   ]
  },
  {
   "cell_type": "markdown",
   "metadata": {},
   "source": [
    "## Introduction to fraud detection\n",
    "\n",
    "* Types:\n",
    "    * Insurance\n",
    "    * Credit card\n",
    "    * Identity theft\n",
    "    * Money laundering\n",
    "    * Tax evasion\n",
    "    * Healthcare\n",
    "    * Product warranty\n",
    "* e-commerce businesses must continuously assess the legitimacy of client transactions\n",
    "* Detecting fraud is challenging:\n",
    "    * Uncommon; < 0.01% of transactions\n",
    "    * Attempts are made to conceal fraud\n",
    "    * Behavior evolves\n",
    "    * Fraudulent activities perpetrated by networks - organized crime\n",
    "* Fraud detection requires training an algorithm to identify concealed observations from any normal observations\n",
    "* Fraud analytics teams:\n",
    "    * Often use rules based systems, based on manually set thresholds and experience\n",
    "    * Check the news\n",
    "    * Receive external lists of fraudulent accounts and names\n",
    "        * suspicious names or track an external hit list from police to reference check against the client base\n",
    "    * Sometimes use machine learning algorithms to detect fraud or suspicious behavior\n",
    "        * Existing sources can be used as inputs into the ML model\n",
    "        * Verify the veracity of rules based labels"
   ]
  },
  {
   "cell_type": "markdown",
   "metadata": {},
   "source": [
    "### Checking the fraud to non-fraud ratio\n",
    "\n",
    "In this chapter, you will work on `creditcard_sampledata.csv`, a dataset containing credit card transactions data. Fraud occurrences are fortunately an **extreme minority** in these transactions.\n",
    "\n",
    "However, Machine Learning algorithms usually work best when the different classes contained in the dataset are more or less equally present. If there are few cases of fraud, then there's little data to learn how to identify them. This is known as **class imbalance**, and it's one of the main challenges of fraud detection.\n",
    "\n",
    "Let's explore this dataset, and observe this class imbalance problem.\n",
    "\n",
    "**Instructions**\n",
    "\n",
    "* `import pandas as pd`, read the credit card data in and assign it to `df`. This has been done for you.\n",
    "* Use `.info()` to print information about `df`.\n",
    "* Use `.value_counts()` to get the count of fraudulent and non-fraudulent transactions in the `'Class'` column. Assign the result to `occ`.\n",
    "* Get the ratio of fraudulent transactions over the total number of transactions in the dataset."
   ]
  },
  {
   "cell_type": "code",
   "execution_count": 26,
   "metadata": {
    "scrolled": true
   },
   "outputs": [],
   "source": [
    "df = pd.read_csv(r'C:\\Users\\dell\\Desktop\\ine 2\\S4\\machine learning\\TP2\\chapitre_1\\creditcard_sampledata_3.csv')"
   ]
  },
  {
   "cell_type": "code",
   "execution_count": 27,
   "metadata": {},
   "outputs": [
    {
     "data": {
      "text/html": [
       "<div>\n",
       "<style scoped>\n",
       "    .dataframe tbody tr th:only-of-type {\n",
       "        vertical-align: middle;\n",
       "    }\n",
       "\n",
       "    .dataframe tbody tr th {\n",
       "        vertical-align: top;\n",
       "    }\n",
       "\n",
       "    .dataframe thead th {\n",
       "        text-align: right;\n",
       "    }\n",
       "</style>\n",
       "<table border=\"1\" class=\"dataframe\">\n",
       "  <thead>\n",
       "    <tr style=\"text-align: right;\">\n",
       "      <th></th>\n",
       "      <th>Unnamed: 0</th>\n",
       "      <th>V1</th>\n",
       "      <th>V2</th>\n",
       "      <th>V3</th>\n",
       "      <th>V4</th>\n",
       "      <th>V5</th>\n",
       "      <th>V6</th>\n",
       "      <th>V7</th>\n",
       "      <th>V8</th>\n",
       "      <th>V9</th>\n",
       "      <th>V10</th>\n",
       "      <th>V11</th>\n",
       "      <th>V12</th>\n",
       "      <th>V13</th>\n",
       "      <th>V14</th>\n",
       "      <th>V15</th>\n",
       "      <th>V16</th>\n",
       "      <th>V17</th>\n",
       "      <th>V18</th>\n",
       "      <th>V19</th>\n",
       "      <th>V20</th>\n",
       "      <th>V21</th>\n",
       "      <th>V22</th>\n",
       "      <th>V23</th>\n",
       "      <th>V24</th>\n",
       "      <th>V25</th>\n",
       "      <th>V26</th>\n",
       "      <th>V27</th>\n",
       "      <th>V28</th>\n",
       "      <th>Amount</th>\n",
       "      <th>Class</th>\n",
       "    </tr>\n",
       "  </thead>\n",
       "  <tbody>\n",
       "    <tr>\n",
       "      <th>0</th>\n",
       "      <td>258647</td>\n",
       "      <td>1.725265</td>\n",
       "      <td>-1.337256</td>\n",
       "      <td>-1.012687</td>\n",
       "      <td>-0.361656</td>\n",
       "      <td>-1.431611</td>\n",
       "      <td>-1.098681</td>\n",
       "      <td>-0.842274</td>\n",
       "      <td>-0.026594</td>\n",
       "      <td>-0.032409</td>\n",
       "      <td>0.215113</td>\n",
       "      <td>1.618952</td>\n",
       "      <td>-0.654046</td>\n",
       "      <td>-1.442665</td>\n",
       "      <td>-1.546538</td>\n",
       "      <td>-0.230008</td>\n",
       "      <td>1.785539</td>\n",
       "      <td>1.419793</td>\n",
       "      <td>0.071666</td>\n",
       "      <td>0.233031</td>\n",
       "      <td>0.275911</td>\n",
       "      <td>0.414524</td>\n",
       "      <td>0.793434</td>\n",
       "      <td>0.028887</td>\n",
       "      <td>0.419421</td>\n",
       "      <td>-0.367529</td>\n",
       "      <td>-0.155634</td>\n",
       "      <td>-0.015768</td>\n",
       "      <td>0.010790</td>\n",
       "      <td>189.00</td>\n",
       "      <td>0</td>\n",
       "    </tr>\n",
       "    <tr>\n",
       "      <th>1</th>\n",
       "      <td>69263</td>\n",
       "      <td>0.683254</td>\n",
       "      <td>-1.681875</td>\n",
       "      <td>0.533349</td>\n",
       "      <td>-0.326064</td>\n",
       "      <td>-1.455603</td>\n",
       "      <td>0.101832</td>\n",
       "      <td>-0.520590</td>\n",
       "      <td>0.114036</td>\n",
       "      <td>-0.601760</td>\n",
       "      <td>0.444011</td>\n",
       "      <td>1.521570</td>\n",
       "      <td>0.499202</td>\n",
       "      <td>-0.127849</td>\n",
       "      <td>-0.237253</td>\n",
       "      <td>-0.752351</td>\n",
       "      <td>0.667190</td>\n",
       "      <td>0.724785</td>\n",
       "      <td>-1.736615</td>\n",
       "      <td>0.702088</td>\n",
       "      <td>0.638186</td>\n",
       "      <td>0.116898</td>\n",
       "      <td>-0.304605</td>\n",
       "      <td>-0.125547</td>\n",
       "      <td>0.244848</td>\n",
       "      <td>0.069163</td>\n",
       "      <td>-0.460712</td>\n",
       "      <td>-0.017068</td>\n",
       "      <td>0.063542</td>\n",
       "      <td>315.17</td>\n",
       "      <td>0</td>\n",
       "    </tr>\n",
       "    <tr>\n",
       "      <th>2</th>\n",
       "      <td>96552</td>\n",
       "      <td>1.067973</td>\n",
       "      <td>-0.656667</td>\n",
       "      <td>1.029738</td>\n",
       "      <td>0.253899</td>\n",
       "      <td>-1.172715</td>\n",
       "      <td>0.073232</td>\n",
       "      <td>-0.745771</td>\n",
       "      <td>0.249803</td>\n",
       "      <td>1.383057</td>\n",
       "      <td>-0.483771</td>\n",
       "      <td>-0.782780</td>\n",
       "      <td>0.005242</td>\n",
       "      <td>-1.273288</td>\n",
       "      <td>-0.269260</td>\n",
       "      <td>0.091287</td>\n",
       "      <td>-0.347973</td>\n",
       "      <td>0.495328</td>\n",
       "      <td>-0.925949</td>\n",
       "      <td>0.099138</td>\n",
       "      <td>-0.083859</td>\n",
       "      <td>-0.189315</td>\n",
       "      <td>-0.426743</td>\n",
       "      <td>0.079539</td>\n",
       "      <td>0.129692</td>\n",
       "      <td>0.002778</td>\n",
       "      <td>0.970498</td>\n",
       "      <td>-0.035056</td>\n",
       "      <td>0.017313</td>\n",
       "      <td>59.98</td>\n",
       "      <td>0</td>\n",
       "    </tr>\n",
       "    <tr>\n",
       "      <th>3</th>\n",
       "      <td>281898</td>\n",
       "      <td>0.119513</td>\n",
       "      <td>0.729275</td>\n",
       "      <td>-1.678879</td>\n",
       "      <td>-1.551408</td>\n",
       "      <td>3.128914</td>\n",
       "      <td>3.210632</td>\n",
       "      <td>0.356276</td>\n",
       "      <td>0.920374</td>\n",
       "      <td>-0.160589</td>\n",
       "      <td>-0.801748</td>\n",
       "      <td>0.137341</td>\n",
       "      <td>-0.156740</td>\n",
       "      <td>-0.429388</td>\n",
       "      <td>-0.752392</td>\n",
       "      <td>0.155272</td>\n",
       "      <td>0.215068</td>\n",
       "      <td>0.352222</td>\n",
       "      <td>-0.376168</td>\n",
       "      <td>-0.398920</td>\n",
       "      <td>0.043715</td>\n",
       "      <td>-0.335825</td>\n",
       "      <td>-0.906171</td>\n",
       "      <td>0.108350</td>\n",
       "      <td>0.593062</td>\n",
       "      <td>-0.424303</td>\n",
       "      <td>0.164201</td>\n",
       "      <td>0.245881</td>\n",
       "      <td>0.071029</td>\n",
       "      <td>0.89</td>\n",
       "      <td>0</td>\n",
       "    </tr>\n",
       "    <tr>\n",
       "      <th>4</th>\n",
       "      <td>86917</td>\n",
       "      <td>1.271253</td>\n",
       "      <td>0.275694</td>\n",
       "      <td>0.159568</td>\n",
       "      <td>1.003096</td>\n",
       "      <td>-0.128535</td>\n",
       "      <td>-0.608730</td>\n",
       "      <td>0.088777</td>\n",
       "      <td>-0.145336</td>\n",
       "      <td>0.156047</td>\n",
       "      <td>0.022707</td>\n",
       "      <td>-0.963306</td>\n",
       "      <td>-0.228074</td>\n",
       "      <td>-0.324933</td>\n",
       "      <td>0.390609</td>\n",
       "      <td>1.065923</td>\n",
       "      <td>0.285930</td>\n",
       "      <td>-0.627072</td>\n",
       "      <td>0.170175</td>\n",
       "      <td>-0.215912</td>\n",
       "      <td>-0.147394</td>\n",
       "      <td>0.031958</td>\n",
       "      <td>0.123503</td>\n",
       "      <td>-0.174528</td>\n",
       "      <td>-0.147535</td>\n",
       "      <td>0.735909</td>\n",
       "      <td>-0.262270</td>\n",
       "      <td>0.015577</td>\n",
       "      <td>0.015955</td>\n",
       "      <td>6.53</td>\n",
       "      <td>0</td>\n",
       "    </tr>\n",
       "    <tr>\n",
       "      <th>...</th>\n",
       "      <td>...</td>\n",
       "      <td>...</td>\n",
       "      <td>...</td>\n",
       "      <td>...</td>\n",
       "      <td>...</td>\n",
       "      <td>...</td>\n",
       "      <td>...</td>\n",
       "      <td>...</td>\n",
       "      <td>...</td>\n",
       "      <td>...</td>\n",
       "      <td>...</td>\n",
       "      <td>...</td>\n",
       "      <td>...</td>\n",
       "      <td>...</td>\n",
       "      <td>...</td>\n",
       "      <td>...</td>\n",
       "      <td>...</td>\n",
       "      <td>...</td>\n",
       "      <td>...</td>\n",
       "      <td>...</td>\n",
       "      <td>...</td>\n",
       "      <td>...</td>\n",
       "      <td>...</td>\n",
       "      <td>...</td>\n",
       "      <td>...</td>\n",
       "      <td>...</td>\n",
       "      <td>...</td>\n",
       "      <td>...</td>\n",
       "      <td>...</td>\n",
       "      <td>...</td>\n",
       "      <td>...</td>\n",
       "    </tr>\n",
       "    <tr>\n",
       "      <th>5045</th>\n",
       "      <td>223366</td>\n",
       "      <td>1.118331</td>\n",
       "      <td>2.074439</td>\n",
       "      <td>-3.837518</td>\n",
       "      <td>5.448060</td>\n",
       "      <td>0.071816</td>\n",
       "      <td>-1.020509</td>\n",
       "      <td>-1.808574</td>\n",
       "      <td>0.521744</td>\n",
       "      <td>-2.032638</td>\n",
       "      <td>-2.732792</td>\n",
       "      <td>3.274075</td>\n",
       "      <td>-3.541687</td>\n",
       "      <td>-0.946820</td>\n",
       "      <td>-7.555729</td>\n",
       "      <td>-1.767005</td>\n",
       "      <td>-0.642333</td>\n",
       "      <td>-2.114429</td>\n",
       "      <td>0.183327</td>\n",
       "      <td>-1.177793</td>\n",
       "      <td>0.163513</td>\n",
       "      <td>0.289861</td>\n",
       "      <td>-0.172718</td>\n",
       "      <td>-0.021910</td>\n",
       "      <td>-0.376560</td>\n",
       "      <td>0.192817</td>\n",
       "      <td>0.114107</td>\n",
       "      <td>0.500996</td>\n",
       "      <td>0.259533</td>\n",
       "      <td>1.00</td>\n",
       "      <td>1</td>\n",
       "    </tr>\n",
       "    <tr>\n",
       "      <th>5046</th>\n",
       "      <td>239499</td>\n",
       "      <td>-2.150855</td>\n",
       "      <td>2.187917</td>\n",
       "      <td>-3.430516</td>\n",
       "      <td>0.119476</td>\n",
       "      <td>-0.173210</td>\n",
       "      <td>0.290700</td>\n",
       "      <td>-2.808988</td>\n",
       "      <td>-2.679351</td>\n",
       "      <td>-0.556685</td>\n",
       "      <td>-4.485483</td>\n",
       "      <td>1.903999</td>\n",
       "      <td>-2.644219</td>\n",
       "      <td>-0.982273</td>\n",
       "      <td>-4.691151</td>\n",
       "      <td>-0.693080</td>\n",
       "      <td>-2.553251</td>\n",
       "      <td>-3.483436</td>\n",
       "      <td>-0.064852</td>\n",
       "      <td>1.490329</td>\n",
       "      <td>0.532145</td>\n",
       "      <td>-0.073205</td>\n",
       "      <td>0.561496</td>\n",
       "      <td>-0.075034</td>\n",
       "      <td>-0.437619</td>\n",
       "      <td>0.353841</td>\n",
       "      <td>-0.521339</td>\n",
       "      <td>0.144465</td>\n",
       "      <td>0.026588</td>\n",
       "      <td>50.00</td>\n",
       "      <td>1</td>\n",
       "    </tr>\n",
       "    <tr>\n",
       "      <th>5047</th>\n",
       "      <td>125342</td>\n",
       "      <td>-7.139060</td>\n",
       "      <td>2.773082</td>\n",
       "      <td>-6.757845</td>\n",
       "      <td>4.446456</td>\n",
       "      <td>-5.464428</td>\n",
       "      <td>-1.713401</td>\n",
       "      <td>-6.485365</td>\n",
       "      <td>3.409395</td>\n",
       "      <td>-3.053493</td>\n",
       "      <td>-6.260706</td>\n",
       "      <td>2.394168</td>\n",
       "      <td>-6.163537</td>\n",
       "      <td>0.602851</td>\n",
       "      <td>-5.606346</td>\n",
       "      <td>0.206622</td>\n",
       "      <td>-6.525081</td>\n",
       "      <td>-11.408368</td>\n",
       "      <td>-4.693978</td>\n",
       "      <td>2.431274</td>\n",
       "      <td>-0.616949</td>\n",
       "      <td>1.303250</td>\n",
       "      <td>-0.016118</td>\n",
       "      <td>-0.876670</td>\n",
       "      <td>0.382230</td>\n",
       "      <td>-1.054624</td>\n",
       "      <td>-0.614606</td>\n",
       "      <td>-0.766848</td>\n",
       "      <td>0.409424</td>\n",
       "      <td>106.90</td>\n",
       "      <td>1</td>\n",
       "    </tr>\n",
       "    <tr>\n",
       "      <th>5048</th>\n",
       "      <td>220725</td>\n",
       "      <td>-1.169203</td>\n",
       "      <td>1.863414</td>\n",
       "      <td>-2.515135</td>\n",
       "      <td>5.463681</td>\n",
       "      <td>-0.297971</td>\n",
       "      <td>1.364918</td>\n",
       "      <td>0.759219</td>\n",
       "      <td>-0.118861</td>\n",
       "      <td>-2.293921</td>\n",
       "      <td>-0.423784</td>\n",
       "      <td>2.375876</td>\n",
       "      <td>-3.244827</td>\n",
       "      <td>-0.556619</td>\n",
       "      <td>-5.152475</td>\n",
       "      <td>0.050906</td>\n",
       "      <td>-1.022045</td>\n",
       "      <td>-1.646505</td>\n",
       "      <td>0.126460</td>\n",
       "      <td>1.819013</td>\n",
       "      <td>-0.299374</td>\n",
       "      <td>-0.393090</td>\n",
       "      <td>-0.708692</td>\n",
       "      <td>0.471309</td>\n",
       "      <td>-0.078616</td>\n",
       "      <td>-0.544655</td>\n",
       "      <td>0.014777</td>\n",
       "      <td>-0.240930</td>\n",
       "      <td>-0.781055</td>\n",
       "      <td>324.59</td>\n",
       "      <td>1</td>\n",
       "    </tr>\n",
       "    <tr>\n",
       "      <th>5049</th>\n",
       "      <td>63421</td>\n",
       "      <td>-8.461845</td>\n",
       "      <td>6.866198</td>\n",
       "      <td>-11.838269</td>\n",
       "      <td>4.194211</td>\n",
       "      <td>-6.923097</td>\n",
       "      <td>-3.221147</td>\n",
       "      <td>-7.553497</td>\n",
       "      <td>6.015618</td>\n",
       "      <td>-2.466143</td>\n",
       "      <td>-6.246243</td>\n",
       "      <td>2.943985</td>\n",
       "      <td>-6.512389</td>\n",
       "      <td>-0.698176</td>\n",
       "      <td>-7.543646</td>\n",
       "      <td>0.926455</td>\n",
       "      <td>-4.330295</td>\n",
       "      <td>-7.339698</td>\n",
       "      <td>-2.550901</td>\n",
       "      <td>0.645905</td>\n",
       "      <td>0.814710</td>\n",
       "      <td>0.918244</td>\n",
       "      <td>-0.715366</td>\n",
       "      <td>0.210747</td>\n",
       "      <td>-0.060211</td>\n",
       "      <td>0.509535</td>\n",
       "      <td>-0.257284</td>\n",
       "      <td>1.170027</td>\n",
       "      <td>0.229301</td>\n",
       "      <td>99.99</td>\n",
       "      <td>1</td>\n",
       "    </tr>\n",
       "  </tbody>\n",
       "</table>\n",
       "<p>5050 rows × 31 columns</p>\n",
       "</div>"
      ],
      "text/plain": [
       "      Unnamed: 0        V1        V2         V3        V4        V5        V6  \\\n",
       "0         258647  1.725265 -1.337256  -1.012687 -0.361656 -1.431611 -1.098681   \n",
       "1          69263  0.683254 -1.681875   0.533349 -0.326064 -1.455603  0.101832   \n",
       "2          96552  1.067973 -0.656667   1.029738  0.253899 -1.172715  0.073232   \n",
       "3         281898  0.119513  0.729275  -1.678879 -1.551408  3.128914  3.210632   \n",
       "4          86917  1.271253  0.275694   0.159568  1.003096 -0.128535 -0.608730   \n",
       "...          ...       ...       ...        ...       ...       ...       ...   \n",
       "5045      223366  1.118331  2.074439  -3.837518  5.448060  0.071816 -1.020509   \n",
       "5046      239499 -2.150855  2.187917  -3.430516  0.119476 -0.173210  0.290700   \n",
       "5047      125342 -7.139060  2.773082  -6.757845  4.446456 -5.464428 -1.713401   \n",
       "5048      220725 -1.169203  1.863414  -2.515135  5.463681 -0.297971  1.364918   \n",
       "5049       63421 -8.461845  6.866198 -11.838269  4.194211 -6.923097 -3.221147   \n",
       "\n",
       "            V7        V8        V9       V10       V11       V12       V13  \\\n",
       "0    -0.842274 -0.026594 -0.032409  0.215113  1.618952 -0.654046 -1.442665   \n",
       "1    -0.520590  0.114036 -0.601760  0.444011  1.521570  0.499202 -0.127849   \n",
       "2    -0.745771  0.249803  1.383057 -0.483771 -0.782780  0.005242 -1.273288   \n",
       "3     0.356276  0.920374 -0.160589 -0.801748  0.137341 -0.156740 -0.429388   \n",
       "4     0.088777 -0.145336  0.156047  0.022707 -0.963306 -0.228074 -0.324933   \n",
       "...        ...       ...       ...       ...       ...       ...       ...   \n",
       "5045 -1.808574  0.521744 -2.032638 -2.732792  3.274075 -3.541687 -0.946820   \n",
       "5046 -2.808988 -2.679351 -0.556685 -4.485483  1.903999 -2.644219 -0.982273   \n",
       "5047 -6.485365  3.409395 -3.053493 -6.260706  2.394168 -6.163537  0.602851   \n",
       "5048  0.759219 -0.118861 -2.293921 -0.423784  2.375876 -3.244827 -0.556619   \n",
       "5049 -7.553497  6.015618 -2.466143 -6.246243  2.943985 -6.512389 -0.698176   \n",
       "\n",
       "           V14       V15       V16        V17       V18       V19       V20  \\\n",
       "0    -1.546538 -0.230008  1.785539   1.419793  0.071666  0.233031  0.275911   \n",
       "1    -0.237253 -0.752351  0.667190   0.724785 -1.736615  0.702088  0.638186   \n",
       "2    -0.269260  0.091287 -0.347973   0.495328 -0.925949  0.099138 -0.083859   \n",
       "3    -0.752392  0.155272  0.215068   0.352222 -0.376168 -0.398920  0.043715   \n",
       "4     0.390609  1.065923  0.285930  -0.627072  0.170175 -0.215912 -0.147394   \n",
       "...        ...       ...       ...        ...       ...       ...       ...   \n",
       "5045 -7.555729 -1.767005 -0.642333  -2.114429  0.183327 -1.177793  0.163513   \n",
       "5046 -4.691151 -0.693080 -2.553251  -3.483436 -0.064852  1.490329  0.532145   \n",
       "5047 -5.606346  0.206622 -6.525081 -11.408368 -4.693978  2.431274 -0.616949   \n",
       "5048 -5.152475  0.050906 -1.022045  -1.646505  0.126460  1.819013 -0.299374   \n",
       "5049 -7.543646  0.926455 -4.330295  -7.339698 -2.550901  0.645905  0.814710   \n",
       "\n",
       "           V21       V22       V23       V24       V25       V26       V27  \\\n",
       "0     0.414524  0.793434  0.028887  0.419421 -0.367529 -0.155634 -0.015768   \n",
       "1     0.116898 -0.304605 -0.125547  0.244848  0.069163 -0.460712 -0.017068   \n",
       "2    -0.189315 -0.426743  0.079539  0.129692  0.002778  0.970498 -0.035056   \n",
       "3    -0.335825 -0.906171  0.108350  0.593062 -0.424303  0.164201  0.245881   \n",
       "4     0.031958  0.123503 -0.174528 -0.147535  0.735909 -0.262270  0.015577   \n",
       "...        ...       ...       ...       ...       ...       ...       ...   \n",
       "5045  0.289861 -0.172718 -0.021910 -0.376560  0.192817  0.114107  0.500996   \n",
       "5046 -0.073205  0.561496 -0.075034 -0.437619  0.353841 -0.521339  0.144465   \n",
       "5047  1.303250 -0.016118 -0.876670  0.382230 -1.054624 -0.614606 -0.766848   \n",
       "5048 -0.393090 -0.708692  0.471309 -0.078616 -0.544655  0.014777 -0.240930   \n",
       "5049  0.918244 -0.715366  0.210747 -0.060211  0.509535 -0.257284  1.170027   \n",
       "\n",
       "           V28  Amount  Class  \n",
       "0     0.010790  189.00      0  \n",
       "1     0.063542  315.17      0  \n",
       "2     0.017313   59.98      0  \n",
       "3     0.071029    0.89      0  \n",
       "4     0.015955    6.53      0  \n",
       "...        ...     ...    ...  \n",
       "5045  0.259533    1.00      1  \n",
       "5046  0.026588   50.00      1  \n",
       "5047  0.409424  106.90      1  \n",
       "5048 -0.781055  324.59      1  \n",
       "5049  0.229301   99.99      1  \n",
       "\n",
       "[5050 rows x 31 columns]"
      ]
     },
     "execution_count": 27,
     "metadata": {},
     "output_type": "execute_result"
    }
   ],
   "source": [
    "df"
   ]
  },
  {
   "cell_type": "markdown",
   "metadata": {},
   "source": [
    "#### Explore the features available in your dataframe"
   ]
  },
  {
   "cell_type": "code",
   "execution_count": 28,
   "metadata": {},
   "outputs": [
    {
     "name": "stdout",
     "output_type": "stream",
     "text": [
      "<class 'pandas.core.frame.DataFrame'>\n",
      "RangeIndex: 5050 entries, 0 to 5049\n",
      "Data columns (total 31 columns):\n",
      " #   Column      Non-Null Count  Dtype  \n",
      "---  ------      --------------  -----  \n",
      " 0   Unnamed: 0  5050 non-null   int64  \n",
      " 1   V1          5050 non-null   float64\n",
      " 2   V2          5050 non-null   float64\n",
      " 3   V3          5050 non-null   float64\n",
      " 4   V4          5050 non-null   float64\n",
      " 5   V5          5050 non-null   float64\n",
      " 6   V6          5050 non-null   float64\n",
      " 7   V7          5050 non-null   float64\n",
      " 8   V8          5050 non-null   float64\n",
      " 9   V9          5050 non-null   float64\n",
      " 10  V10         5050 non-null   float64\n",
      " 11  V11         5050 non-null   float64\n",
      " 12  V12         5050 non-null   float64\n",
      " 13  V13         5050 non-null   float64\n",
      " 14  V14         5050 non-null   float64\n",
      " 15  V15         5050 non-null   float64\n",
      " 16  V16         5050 non-null   float64\n",
      " 17  V17         5050 non-null   float64\n",
      " 18  V18         5050 non-null   float64\n",
      " 19  V19         5050 non-null   float64\n",
      " 20  V20         5050 non-null   float64\n",
      " 21  V21         5050 non-null   float64\n",
      " 22  V22         5050 non-null   float64\n",
      " 23  V23         5050 non-null   float64\n",
      " 24  V24         5050 non-null   float64\n",
      " 25  V25         5050 non-null   float64\n",
      " 26  V26         5050 non-null   float64\n",
      " 27  V27         5050 non-null   float64\n",
      " 28  V28         5050 non-null   float64\n",
      " 29  Amount      5050 non-null   float64\n",
      " 30  Class       5050 non-null   int64  \n",
      "dtypes: float64(29), int64(2)\n",
      "memory usage: 1.2 MB\n"
     ]
    }
   ],
   "source": [
    "df.info()"
   ]
  },
  {
   "cell_type": "code",
   "execution_count": 29,
   "metadata": {},
   "outputs": [
    {
     "data": {
      "text/html": [
       "<div>\n",
       "<style scoped>\n",
       "    .dataframe tbody tr th:only-of-type {\n",
       "        vertical-align: middle;\n",
       "    }\n",
       "\n",
       "    .dataframe tbody tr th {\n",
       "        vertical-align: top;\n",
       "    }\n",
       "\n",
       "    .dataframe thead th {\n",
       "        text-align: right;\n",
       "    }\n",
       "</style>\n",
       "<table border=\"1\" class=\"dataframe\">\n",
       "  <thead>\n",
       "    <tr style=\"text-align: right;\">\n",
       "      <th></th>\n",
       "      <th>Unnamed: 0</th>\n",
       "      <th>V1</th>\n",
       "      <th>V2</th>\n",
       "      <th>V3</th>\n",
       "      <th>V4</th>\n",
       "      <th>V5</th>\n",
       "      <th>V6</th>\n",
       "      <th>V7</th>\n",
       "      <th>V8</th>\n",
       "      <th>V9</th>\n",
       "      <th>V10</th>\n",
       "      <th>V11</th>\n",
       "      <th>V12</th>\n",
       "      <th>V13</th>\n",
       "      <th>V14</th>\n",
       "      <th>V15</th>\n",
       "      <th>V16</th>\n",
       "      <th>V17</th>\n",
       "      <th>V18</th>\n",
       "      <th>V19</th>\n",
       "      <th>V20</th>\n",
       "      <th>V21</th>\n",
       "      <th>V22</th>\n",
       "      <th>V23</th>\n",
       "      <th>V24</th>\n",
       "      <th>V25</th>\n",
       "      <th>V26</th>\n",
       "      <th>V27</th>\n",
       "      <th>V28</th>\n",
       "      <th>Amount</th>\n",
       "      <th>Class</th>\n",
       "    </tr>\n",
       "  </thead>\n",
       "  <tbody>\n",
       "    <tr>\n",
       "      <th>0</th>\n",
       "      <td>258647</td>\n",
       "      <td>1.725265</td>\n",
       "      <td>-1.337256</td>\n",
       "      <td>-1.012687</td>\n",
       "      <td>-0.361656</td>\n",
       "      <td>-1.431611</td>\n",
       "      <td>-1.098681</td>\n",
       "      <td>-0.842274</td>\n",
       "      <td>-0.026594</td>\n",
       "      <td>-0.032409</td>\n",
       "      <td>0.215113</td>\n",
       "      <td>1.618952</td>\n",
       "      <td>-0.654046</td>\n",
       "      <td>-1.442665</td>\n",
       "      <td>-1.546538</td>\n",
       "      <td>-0.230008</td>\n",
       "      <td>1.785539</td>\n",
       "      <td>1.419793</td>\n",
       "      <td>0.071666</td>\n",
       "      <td>0.233031</td>\n",
       "      <td>0.275911</td>\n",
       "      <td>0.414524</td>\n",
       "      <td>0.793434</td>\n",
       "      <td>0.028887</td>\n",
       "      <td>0.419421</td>\n",
       "      <td>-0.367529</td>\n",
       "      <td>-0.155634</td>\n",
       "      <td>-0.015768</td>\n",
       "      <td>0.010790</td>\n",
       "      <td>189.00</td>\n",
       "      <td>0</td>\n",
       "    </tr>\n",
       "    <tr>\n",
       "      <th>1</th>\n",
       "      <td>69263</td>\n",
       "      <td>0.683254</td>\n",
       "      <td>-1.681875</td>\n",
       "      <td>0.533349</td>\n",
       "      <td>-0.326064</td>\n",
       "      <td>-1.455603</td>\n",
       "      <td>0.101832</td>\n",
       "      <td>-0.520590</td>\n",
       "      <td>0.114036</td>\n",
       "      <td>-0.601760</td>\n",
       "      <td>0.444011</td>\n",
       "      <td>1.521570</td>\n",
       "      <td>0.499202</td>\n",
       "      <td>-0.127849</td>\n",
       "      <td>-0.237253</td>\n",
       "      <td>-0.752351</td>\n",
       "      <td>0.667190</td>\n",
       "      <td>0.724785</td>\n",
       "      <td>-1.736615</td>\n",
       "      <td>0.702088</td>\n",
       "      <td>0.638186</td>\n",
       "      <td>0.116898</td>\n",
       "      <td>-0.304605</td>\n",
       "      <td>-0.125547</td>\n",
       "      <td>0.244848</td>\n",
       "      <td>0.069163</td>\n",
       "      <td>-0.460712</td>\n",
       "      <td>-0.017068</td>\n",
       "      <td>0.063542</td>\n",
       "      <td>315.17</td>\n",
       "      <td>0</td>\n",
       "    </tr>\n",
       "    <tr>\n",
       "      <th>2</th>\n",
       "      <td>96552</td>\n",
       "      <td>1.067973</td>\n",
       "      <td>-0.656667</td>\n",
       "      <td>1.029738</td>\n",
       "      <td>0.253899</td>\n",
       "      <td>-1.172715</td>\n",
       "      <td>0.073232</td>\n",
       "      <td>-0.745771</td>\n",
       "      <td>0.249803</td>\n",
       "      <td>1.383057</td>\n",
       "      <td>-0.483771</td>\n",
       "      <td>-0.782780</td>\n",
       "      <td>0.005242</td>\n",
       "      <td>-1.273288</td>\n",
       "      <td>-0.269260</td>\n",
       "      <td>0.091287</td>\n",
       "      <td>-0.347973</td>\n",
       "      <td>0.495328</td>\n",
       "      <td>-0.925949</td>\n",
       "      <td>0.099138</td>\n",
       "      <td>-0.083859</td>\n",
       "      <td>-0.189315</td>\n",
       "      <td>-0.426743</td>\n",
       "      <td>0.079539</td>\n",
       "      <td>0.129692</td>\n",
       "      <td>0.002778</td>\n",
       "      <td>0.970498</td>\n",
       "      <td>-0.035056</td>\n",
       "      <td>0.017313</td>\n",
       "      <td>59.98</td>\n",
       "      <td>0</td>\n",
       "    </tr>\n",
       "    <tr>\n",
       "      <th>3</th>\n",
       "      <td>281898</td>\n",
       "      <td>0.119513</td>\n",
       "      <td>0.729275</td>\n",
       "      <td>-1.678879</td>\n",
       "      <td>-1.551408</td>\n",
       "      <td>3.128914</td>\n",
       "      <td>3.210632</td>\n",
       "      <td>0.356276</td>\n",
       "      <td>0.920374</td>\n",
       "      <td>-0.160589</td>\n",
       "      <td>-0.801748</td>\n",
       "      <td>0.137341</td>\n",
       "      <td>-0.156740</td>\n",
       "      <td>-0.429388</td>\n",
       "      <td>-0.752392</td>\n",
       "      <td>0.155272</td>\n",
       "      <td>0.215068</td>\n",
       "      <td>0.352222</td>\n",
       "      <td>-0.376168</td>\n",
       "      <td>-0.398920</td>\n",
       "      <td>0.043715</td>\n",
       "      <td>-0.335825</td>\n",
       "      <td>-0.906171</td>\n",
       "      <td>0.108350</td>\n",
       "      <td>0.593062</td>\n",
       "      <td>-0.424303</td>\n",
       "      <td>0.164201</td>\n",
       "      <td>0.245881</td>\n",
       "      <td>0.071029</td>\n",
       "      <td>0.89</td>\n",
       "      <td>0</td>\n",
       "    </tr>\n",
       "    <tr>\n",
       "      <th>4</th>\n",
       "      <td>86917</td>\n",
       "      <td>1.271253</td>\n",
       "      <td>0.275694</td>\n",
       "      <td>0.159568</td>\n",
       "      <td>1.003096</td>\n",
       "      <td>-0.128535</td>\n",
       "      <td>-0.608730</td>\n",
       "      <td>0.088777</td>\n",
       "      <td>-0.145336</td>\n",
       "      <td>0.156047</td>\n",
       "      <td>0.022707</td>\n",
       "      <td>-0.963306</td>\n",
       "      <td>-0.228074</td>\n",
       "      <td>-0.324933</td>\n",
       "      <td>0.390609</td>\n",
       "      <td>1.065923</td>\n",
       "      <td>0.285930</td>\n",
       "      <td>-0.627072</td>\n",
       "      <td>0.170175</td>\n",
       "      <td>-0.215912</td>\n",
       "      <td>-0.147394</td>\n",
       "      <td>0.031958</td>\n",
       "      <td>0.123503</td>\n",
       "      <td>-0.174528</td>\n",
       "      <td>-0.147535</td>\n",
       "      <td>0.735909</td>\n",
       "      <td>-0.262270</td>\n",
       "      <td>0.015577</td>\n",
       "      <td>0.015955</td>\n",
       "      <td>6.53</td>\n",
       "      <td>0</td>\n",
       "    </tr>\n",
       "  </tbody>\n",
       "</table>\n",
       "</div>"
      ],
      "text/plain": [
       "   Unnamed: 0        V1        V2        V3        V4        V5        V6  \\\n",
       "0      258647  1.725265 -1.337256 -1.012687 -0.361656 -1.431611 -1.098681   \n",
       "1       69263  0.683254 -1.681875  0.533349 -0.326064 -1.455603  0.101832   \n",
       "2       96552  1.067973 -0.656667  1.029738  0.253899 -1.172715  0.073232   \n",
       "3      281898  0.119513  0.729275 -1.678879 -1.551408  3.128914  3.210632   \n",
       "4       86917  1.271253  0.275694  0.159568  1.003096 -0.128535 -0.608730   \n",
       "\n",
       "         V7        V8        V9       V10       V11       V12       V13  \\\n",
       "0 -0.842274 -0.026594 -0.032409  0.215113  1.618952 -0.654046 -1.442665   \n",
       "1 -0.520590  0.114036 -0.601760  0.444011  1.521570  0.499202 -0.127849   \n",
       "2 -0.745771  0.249803  1.383057 -0.483771 -0.782780  0.005242 -1.273288   \n",
       "3  0.356276  0.920374 -0.160589 -0.801748  0.137341 -0.156740 -0.429388   \n",
       "4  0.088777 -0.145336  0.156047  0.022707 -0.963306 -0.228074 -0.324933   \n",
       "\n",
       "        V14       V15       V16       V17       V18       V19       V20  \\\n",
       "0 -1.546538 -0.230008  1.785539  1.419793  0.071666  0.233031  0.275911   \n",
       "1 -0.237253 -0.752351  0.667190  0.724785 -1.736615  0.702088  0.638186   \n",
       "2 -0.269260  0.091287 -0.347973  0.495328 -0.925949  0.099138 -0.083859   \n",
       "3 -0.752392  0.155272  0.215068  0.352222 -0.376168 -0.398920  0.043715   \n",
       "4  0.390609  1.065923  0.285930 -0.627072  0.170175 -0.215912 -0.147394   \n",
       "\n",
       "        V21       V22       V23       V24       V25       V26       V27  \\\n",
       "0  0.414524  0.793434  0.028887  0.419421 -0.367529 -0.155634 -0.015768   \n",
       "1  0.116898 -0.304605 -0.125547  0.244848  0.069163 -0.460712 -0.017068   \n",
       "2 -0.189315 -0.426743  0.079539  0.129692  0.002778  0.970498 -0.035056   \n",
       "3 -0.335825 -0.906171  0.108350  0.593062 -0.424303  0.164201  0.245881   \n",
       "4  0.031958  0.123503 -0.174528 -0.147535  0.735909 -0.262270  0.015577   \n",
       "\n",
       "        V28  Amount  Class  \n",
       "0  0.010790  189.00      0  \n",
       "1  0.063542  315.17      0  \n",
       "2  0.017313   59.98      0  \n",
       "3  0.071029    0.89      0  \n",
       "4  0.015955    6.53      0  "
      ]
     },
     "execution_count": 29,
     "metadata": {},
     "output_type": "execute_result"
    }
   ],
   "source": [
    "df.head()"
   ]
  },
  {
   "cell_type": "code",
   "execution_count": 30,
   "metadata": {},
   "outputs": [
    {
     "data": {
      "text/plain": [
       "0    5000\n",
       "1      50\n",
       "Name: Class, dtype: int64"
      ]
     },
     "execution_count": 30,
     "metadata": {},
     "output_type": "execute_result"
    }
   ],
   "source": [
    "# Count the occurrences of fraud and no fraud and print them\n",
    "occ = df['Class'].value_counts()\n",
    "occ"
   ]
  },
  {
   "cell_type": "code",
   "execution_count": 32,
   "metadata": {},
   "outputs": [
    {
     "name": "stdout",
     "output_type": "stream",
     "text": [
      "Ratio of fraudulent cases: 0.009900990099009901\n",
      "Ratio of non-fraudulent cases: 0.9900990099009901\n"
     ]
    }
   ],
   "source": [
    "# Print the ratio of fraud cases\n",
    "####\n",
    "ratio_cases = occ/len(df.index)\n",
    "print(f'Ratio of fraudulent cases: {ratio_cases[1]}')\n",
    "print(f'Ratio of non-fraudulent cases: {ratio_cases[0]}')"
   ]
  },
  {
   "cell_type": "markdown",
   "metadata": {},
   "source": [
    "**The ratio of fraudulent transactions is very low. This is a case of class imbalance problem, and you're going to learn how to deal with this in the next exercises.**"
   ]
  },
  {
   "cell_type": "markdown",
   "metadata": {},
   "source": [
    "### Data visualization\n",
    "\n",
    "From the previous exercise we know that the ratio of fraud to non-fraud observations is very low. You can do something about that, for example by **re-sampling** our data, which is explained in the next video.\n",
    "\n",
    "In this exercise, you'll look at the data and **visualize the fraud to non-fraud ratio**. It is always a good starting point in your fraud analysis, to look at your data first, before you make any changes to it.\n",
    "\n",
    "Moreover, when talking to your colleagues, a picture often makes it very clear that we're dealing with heavily imbalanced data. Let's create a plot to visualize the ratio fraud to non-fraud data points on the dataset `df`.\n",
    "\n",
    "The function `prep_data()` is already loaded in your workspace, as well as `matplotlib.pyplot as plt`.\n",
    "\n",
    "**Instructions**\n",
    "\n",
    "* Define the `plot_data(X, y)` function, that will nicely plot the given feature set `X` with labels `y` in a scatter plot. This has been done for you.\n",
    "* Use the function `prep_data()` on your dataset `df` to create feature set `X` and labels `y`.\n",
    "* Run the function `plot_data()` on your newly obtained `X` and `y` to visualize your results."
   ]
  },
  {
   "cell_type": "markdown",
   "metadata": {},
   "source": [
    "#### def prep_data"
   ]
  },
  {
   "cell_type": "code",
   "execution_count": 33,
   "metadata": {},
   "outputs": [],
   "source": [
    "def prep_data(df: pd.DataFrame) -> (np.ndarray, np.ndarray):\n",
    "    \"\"\"\n",
    "    Convert the DataFrame into two variable\n",
    "    X: data columns (V1 - V28)\n",
    "    y: lable column\n",
    "    \"\"\"\n",
    "    X = df.iloc[:, 2:30].values\n",
    "    y = df.Class.values\n",
    "    return X, y"
   ]
  },
  {
   "cell_type": "markdown",
   "metadata": {},
   "source": [
    "#### def plot_data"
   ]
  },
  {
   "cell_type": "code",
   "execution_count": 34,
   "metadata": {},
   "outputs": [],
   "source": [
    "# Define a function to create a scatter plot of our data and labels\n",
    "def plot_data(X: np.ndarray, y: np.ndarray):\n",
    "    plt.scatter(X[y == 0, 0], X[y == 0, 1], label=\"Class #0\", alpha=0.5, linewidth=0.15)\n",
    "    plt.scatter(X[y == 1, 0], X[y == 1, 1], label=\"Class #1\", alpha=0.5, linewidth=0.15, c='r')\n",
    "    plt.legend()\n",
    "    return plt.show()"
   ]
  },
  {
   "cell_type": "code",
   "execution_count": 35,
   "metadata": {},
   "outputs": [],
   "source": [
    "# Create X and y from the prep_data function \n",
    "X, y = prep_data(df)"
   ]
  },
  {
   "cell_type": "code",
   "execution_count": 41,
   "metadata": {},
   "outputs": [
    {
     "data": {
      "image/png": "[encoded data removed]",
      "text/plain": [
       "<Figure size 1008x576 with 1 Axes>"
      ]
     },
     "metadata": {
      "needs_background": "light"
     },
     "output_type": "display_data"
    }
   ],
   "source": [
    "# Plot our data by running our plot data function on X and y\n",
    "####\n",
    "fig = plt.figure(figsize = (14,8))\n",
    "plot_data(X, y)"
   ]
  },
  {
   "cell_type": "markdown",
   "metadata": {},
   "source": [
    "**By visualizing the data, you can immediately see how our fraud cases are scattered over our data, and how few cases we have. A picture often makes the imbalance problem clear. In the next exercises we'll visually explore how to improve our fraud to non-fraud balance.**"
   ]
  },
  {
   "cell_type": "markdown",
   "metadata": {},
   "source": [
    "#### Reproduced using the DataFrame"
   ]
  },
  {
   "cell_type": "code",
   "execution_count": 42,
   "metadata": {},
   "outputs": [
    {
     "data": {
      "image/png": "[encoded data removed]",
      "text/plain": [
       "<Figure size 1008x576 with 1 Axes>"
      ]
     },
     "metadata": {
      "needs_background": "light"
     },
     "output_type": "display_data"
    }
   ],
   "source": [
    "fig = plt.figure(figsize = (14,8))\n",
    "plt.scatter(df.V2[df.Class == 0], df.V3[df.Class == 0], label=\"Class #0\", alpha=0.5, linewidth=0.15)\n",
    "plt.scatter(df.V2[df.Class == 1], df.V3[df.Class == 1], label=\"Class #1\", alpha=0.5, linewidth=0.15, c='r')\n",
    "plt.legend()\n",
    "plt.show()"
   ]
  },
  {
   "cell_type": "markdown",
   "metadata": {},
   "source": [
    "## Increase successful detections with data resampling\n",
    "\n",
    "* resampling can help model performance in cases of imbalanced data sets"
   ]
  },
  {
   "cell_type": "markdown",
   "metadata": {},
   "source": [
    "#### Undersampling\n",
    "\n",
    "* ![undersampling](https://raw.githubusercontent.com/trenton3983/DataCamp/master/Images/fraud_detection/undersampling.JPG)\n",
    "* Undersampling the majority class (non-fraud cases)\n",
    "    * Straightforward method to adjust imbalanced data\n",
    "    * Take random draws from the non-fraud observations, to match the occurences of fraud observations (as shown in the picture)"
   ]
  },
  {
   "cell_type": "markdown",
   "metadata": {},
   "source": [
    "#### Oversampling\n",
    "\n",
    "* ![oversampling](https://raw.githubusercontent.com/trenton3983/DataCamp/master/Images/fraud_detection/oversampling.JPG)\n",
    "* Oversampling the minority class (fraud cases)\n",
    "    * Take random draws from the fraud cases and copy those observations to increase the amount of fraud samples\n",
    "* Both methods lead to having a balance between fraud and non-fraud cases\n",
    "* Drawbacks\n",
    "    * with random undersampling, a lot of information is thrown away\n",
    "    * with oversampling, the model will be trained on a lot of duplicates"
   ]
  },
  {
   "cell_type": "markdown",
   "metadata": {},
   "source": [
    "#### Implement resampling methods using Python imblean module\n",
    "\n",
    "* compatible with scikit-learn\n",
    "\n",
    "```python\n",
    "from imblearn.over_sampling import RandomOverSampler\n",
    "\n",
    "method = RandomOverSampler()\n",
    "X_resampled, y_resampled =  method.fit_sample(X, y)\n",
    "\n",
    "compare_plots(X_resampled, y_resampled, X, y)\n",
    "```\n",
    "\n",
    "![oversampling plot](https://raw.githubusercontent.com/trenton3983/DataCamp/master/Images/fraud_detection/oversampling_plot.JPG)\n",
    "* The darker blue points reflect there are more identical data"
   ]
  },
  {
   "cell_type": "markdown",
   "metadata": {},
   "source": [
    "#### SMOTE\n",
    "\n",
    "* ![smote](https://raw.githubusercontent.com/trenton3983/DataCamp/master/Images/fraud_detection/smote.JPG)\n",
    "* Synthetic minority Oversampling Technique (SMOTE)\n",
    "    * [Resampling strategies for Imbalanced Data Sets](https://www.kaggle.com/rafjaa/resampling-strategies-for-imbalanced-datasets)\n",
    "    * Another way of adjusting the imbalance by oversampling minority observations\n",
    "    * SMOTE uses characteristics of nearest neighbors of fraud cases to create new synthetic fraud cases\n",
    "        * avoids duplicating observations"
   ]
  },
  {
   "cell_type": "markdown",
   "metadata": {},
   "source": [
    "#### Determining the best resampling method is situational\n",
    "\n",
    "* Random Undersampling (RUS):\n",
    "    * If there is a lot of data and many minority cases, then undersampling may be computationally more convenient\n",
    "        * In most cases, throwing away data is not desirable\n",
    "* Random Oversampling (ROS):\n",
    "    * Straightforward\n",
    "    * Training the model on many duplicates\n",
    "* SMOTE:\n",
    "    * more sophisticated\n",
    "    * realistic data set\n",
    "    * training on synthetic data\n",
    "    * only works well if the minority case features are similar\n",
    "        * **if fraud is spread through the data and not distinct, using nearest neighbors to create more fraud cases, introduces noise into the data, as the nearest neighbors might not be fraud cases**"
   ]
  },
  {
   "cell_type": "markdown",
   "metadata": {},
   "source": [
    "#### When to use resmapling methods\n",
    "\n",
    "* Use resampling methods on the training set, not on the test set\n",
    "* The goal is to produce a better model by providing balanced data\n",
    "    * The goal is not to predict the synthetic samples\n",
    "* Test data should be free of duplicates and synthetic data\n",
    "* Only test the model on real data\n",
    "    * First, spit the data into train and test sets\n",
    "    \n",
    "```python\n",
    "# Define resampling method and split into train and test\n",
    "method = SMOTE(kind='borderline1')\n",
    "X_train, X_test, y_train, y_test = train_test_split(X, y, train_size=0.8, random_state=0)\n",
    "\n",
    "# Apply resampling to the training data only\n",
    "X_resampled, y_resampled = method.fit_sample(X_train, y_train)\n",
    "\n",
    "# Continue fitting the model and obtain predictions\n",
    "model = LogisticRegression()\n",
    "model.fit(X_resampled, y_resampled)\n",
    "\n",
    "# Get model performance metrics\n",
    "predicted = model.predict(X_test)\n",
    "print(classification_report(y_test, predicted))\n",
    "```"
   ]
  },
  {
   "cell_type": "markdown",
   "metadata": {},
   "source": [
    "### Resampling methods for imbalanced data\n",
    "\n",
    "Which of these methods takes a random subsample of your majority class to account for class \"imbalancedness\"?\n",
    "\n",
    "**Possible Answers**\n",
    "\n",
    "* ~~Random Over Sampling (ROS)~~\n",
    "* **Random Under Sampling (RUS)**\n",
    "* ~~Synthetic Minority Over-sampling Technique (SMOTE)~~\n",
    "* ~~None of the above~~\n",
    "\n",
    "**By using ROS and SMOTE you add more examples to the minority class. RUS adjusts the balance of your data by reducing the majority class.**"
   ]
  },
  {
   "cell_type": "markdown",
   "metadata": {},
   "source": [
    "### Applying Synthetic Minority Oversampling Technique (SMOTE)\n",
    "\n",
    "In this exercise, you're going to re-balance our data using the **Synthetic Minority Over-sampling Technique** (SMOTE). Unlike ROS, SMOTE does not create exact copies of observations, but **creates new, synthetic, samples** that are quite similar to the existing observations in the minority class. SMOTE is therefore slightly more sophisticated than just copying observations, so let's apply SMOTE to our credit card data. The dataset `df` is available and the packages you need for SMOTE are imported. In the following exercise, you'll visualize the result and compare it to the original data, such that you can see the effect of applying SMOTE very clearly.\n",
    "\n",
    "**Instructions**\n",
    "\n",
    "* Use the `prep_data` function on `df` to create features `X` and labels `y`.\n",
    "* Define the resampling method as SMOTE of the regular kind, under the variable `method`.\n",
    "* Use `.fit_sample()` on the original `X` and `y` to obtain newly resampled data.\n",
    "* Plot the resampled data using the `plot_data()` function."
   ]
  },
  {
   "cell_type": "code",
   "execution_count": 43,
   "metadata": {},
   "outputs": [],
   "source": [
    "# Run the prep_data function\n",
    "####\n",
    "X, y = prep_data(df)"
   ]
  },
  {
   "cell_type": "code",
   "execution_count": 44,
   "metadata": {},
   "outputs": [
    {
     "name": "stdout",
     "output_type": "stream",
     "text": [
      "X shape: (5050, 28)\n",
      "y shape: (5050,)\n"
     ]
    }
   ],
   "source": [
    "print(f'X shape: {X.shape}\\ny shape: {y.shape}')"
   ]
  },
  {
   "cell_type": "code",
   "execution_count": 45,
   "metadata": {},
   "outputs": [],
   "source": [
    "# Define the resampling method\n",
    "method = SMOTE()"
   ]
  },
  {
   "cell_type": "code",
   "execution_count": 47,
   "metadata": {},
   "outputs": [],
   "source": [
    "from imblearn.over_sampling import SMOTE"
   ]
  },
  {
   "cell_type": "code",
   "execution_count": 49,
   "metadata": {},
   "outputs": [],
   "source": [
    "# Create the resampled feature set\n",
    "X_resampled, y_resampled = method.fit_resample(X, y)"
   ]
  },
  {
   "cell_type": "code",
   "execution_count": 50,
   "metadata": {},
   "outputs": [
    {
     "data": {
      "image/png": "[encoded data removed]",
      "text/plain": [
       "<Figure size 1008x576 with 1 Axes>"
      ]
     },
     "metadata": {
      "needs_background": "light"
     },
     "output_type": "display_data"
    }
   ],
   "source": [
    "# Plot the resampled data\n",
    "####\n",
    "fig = plt.figure(figsize = (14,8))\n",
    "plot_data(X_resampled, y_resampled)"
   ]
  },
  {
   "cell_type": "markdown",
   "metadata": {},
   "source": [
    "**The minority class is now much more prominently visible in our data. To see the results of SMOTE even better, we'll compare it to the original data in the next exercise.**"
   ]
  },
  {
   "cell_type": "markdown",
   "metadata": {},
   "source": [
    "### Compare SMOTE to original data\n",
    "\n",
    "In the last exercise, you saw that using SMOTE suddenly gives us more observations of the minority class. Let's compare those results to our original data, to get a good feeling for what has actually happened. Let's have a look at the value counts again of our old and new data, and let's plot the two scatter plots of the data side by side. You'll use the function compare_plot() for that that, which takes the following arguments: `X`, `y`, `X_resampled`, `y_resampled`, `method=''`. The function plots your original data in a scatter plot, along with the resampled side by side.\n",
    "\n",
    "**Instructions**\n",
    "\n",
    "* Print the value counts of our original labels, `y`. Be mindful that `y` is currently a Numpy array, so in order to use value counts, we'll assign `y` back as a pandas Series object.\n",
    "* Repeat the step and print the value counts on `y_resampled`. This shows you how the balance between the two classes has changed with SMOTE.\n",
    "* Use the `compare_plot()` function called on our original data as well our resampled data to see the scatterplots side by side."
   ]
  },
  {
   "cell_type": "code",
   "execution_count": 51,
   "metadata": {},
   "outputs": [
    {
     "data": {
      "text/plain": [
       "0    5000\n",
       "1      50\n",
       "dtype: int64"
      ]
     },
     "execution_count": 51,
     "metadata": {},
     "output_type": "execute_result"
    }
   ],
   "source": [
    "pd.value_counts(pd.Series(y))"
   ]
  },
  {
   "cell_type": "code",
   "execution_count": 52,
   "metadata": {},
   "outputs": [
    {
     "data": {
      "text/plain": [
       "0    5000\n",
       "1    5000\n",
       "dtype: int64"
      ]
     },
     "execution_count": 52,
     "metadata": {},
     "output_type": "execute_result"
    }
   ],
   "source": [
    "pd.value_counts(pd.Series(y_resampled))"
   ]
  },
  {
   "cell_type": "markdown",
   "metadata": {},
   "source": [
    "#### def compare_plot"
   ]
  },
  {
   "cell_type": "code",
   "execution_count": 53,
   "metadata": {},
   "outputs": [],
   "source": [
    "def compare_plot(X: np.ndarray, y: np.ndarray, X_resampled: np.ndarray, y_resampled: np.ndarray, method: str):\n",
    "    plt.subplot(1, 2, 1)\n",
    "    plt.scatter(X[y == 0, 0], X[y == 0, 1], label=\"Class #0\", alpha=0.5, linewidth=0.15)\n",
    "    plt.scatter(X[y == 1, 0], X[y == 1, 1], label=\"Class #1\", alpha=0.5, linewidth=0.15, c='r')\n",
    "    plt.title('Original Set')\n",
    "    plt.subplot(1, 2, 2)\n",
    "    plt.scatter(X_resampled[y_resampled == 0, 0], X_resampled[y_resampled == 0, 1], label=\"Class #0\", alpha=0.5, linewidth=0.15)\n",
    "    plt.scatter(X_resampled[y_resampled == 1, 0], X_resampled[y_resampled == 1, 1], label=\"Class #1\", alpha=0.5, linewidth=0.15, c='r')\n",
    "    plt.title(method)\n",
    "    plt.legend()\n",
    "    plt.show()"
   ]
  },
  {
   "cell_type": "code",
   "execution_count": 55,
   "metadata": {},
   "outputs": [
    {
     "data": {
      "image/png": "[encoded data removed]",
      "text/plain": [
       "<Figure size 1008x576 with 2 Axes>"
      ]
     },
     "metadata": {
      "needs_background": "light"
     },
     "output_type": "display_data"
    }
   ],
   "source": [
    "fig = plt.figure(figsize = (14,8))\n",
    "compare_plot(X, y, X_resampled, y_resampled, method='SMOTE')"
   ]
  },
  {
   "cell_type": "markdown",
   "metadata": {},
   "source": [
    "**It should by now be clear that SMOTE has balanced our data completely, and that the minority class is now equal in size to the majority class. Visualizing the data shows the effect on the data very clearly. The next exercise will demonstrate multiple ways to implement SMOTE and that each method will have a slightly different effect.**"
   ]
  },
  {
   "cell_type": "markdown",
   "metadata": {},
   "source": [
    "## Fraud detection algorithms in action"
   ]
  },
  {
   "cell_type": "markdown",
   "metadata": {},
   "source": [
    "#### Rules Based Systems\n",
    "\n",
    "* ![rules based](https://raw.githubusercontent.com/trenton3983/DataCamp/master/Images/fraud_detection/rules_based.JPG)\n",
    "* Might block transactions from risky zip codes\n",
    "* Block transactions from cards used too frequently (e.g. last 30 minutes)\n",
    "* Can catch fraud, but also generates false alarms (false positive)\n",
    "* Limitations:\n",
    "    * Fixed threshold per rule and it's difficult to determine the threshold; they don't adapt over time\n",
    "    * Limited to yes / no outcomes, whereas ML yields a probability\n",
    "        * probability allows for fine-tuning the outcomes (i.e. rate of occurences of false positives and false negatives)\n",
    "    * Fails to capture interaction between features\n",
    "        * Ex. Size of the transaction only matters in combination to the frequency"
   ]
  },
  {
   "cell_type": "markdown",
   "metadata": {},
   "source": [
    "#### ML Based Systems\n",
    "\n",
    "* Adapt to the data, thus can change over time\n",
    "* Uses all the data combined, rather than a threshold per feature\n",
    "* Produces a probability, rather than a binary score\n",
    "* Typically have better performance and can be combined with rules"
   ]
  },
  {
   "cell_type": "code",
   "execution_count": 56,
   "metadata": {},
   "outputs": [],
   "source": [
    "# Step 1: split the features and labels into train and test data with test_size=0.2\n",
    "####\n",
    "X_train, X_test, y_train, y_test = train_test_split(X, y, test_size=0.2)"
   ]
  },
  {
   "cell_type": "code",
   "execution_count": 57,
   "metadata": {},
   "outputs": [],
   "source": [
    "# Step 2: Define which model to use\n",
    "model = LinearRegression()"
   ]
  },
  {
   "cell_type": "code",
   "execution_count": 58,
   "metadata": {},
   "outputs": [
    {
     "data": {
      "text/plain": [
       "LinearRegression()"
      ]
     },
     "execution_count": 58,
     "metadata": {},
     "output_type": "execute_result"
    }
   ],
   "source": [
    "# Step 3: Fit the model to the training data\n",
    "####\n",
    "model.fit(X_train, y_train)"
   ]
  },
  {
   "cell_type": "code",
   "execution_count": 59,
   "metadata": {},
   "outputs": [],
   "source": [
    "# Step 4: Obtain model predictions from the test data\n",
    "y_predicted = model.predict(X_test)"
   ]
  },
  {
   "cell_type": "code",
   "execution_count": 60,
   "metadata": {},
   "outputs": [
    {
     "data": {
      "text/plain": [
       "0.6331589247359164"
      ]
     },
     "execution_count": 60,
     "metadata": {},
     "output_type": "execute_result"
    }
   ],
   "source": [
    "# Step 5: Compare y_test to predictions and obtain performance metrics (r^2 score)\n",
    "####\n",
    "r2_score(y_test, y_predicted)"
   ]
  },
  {
   "cell_type": "markdown",
   "metadata": {},
   "source": [
    "### Exploring the traditional method of fraud detection\n",
    "\n",
    "In this exercise you're going to try finding fraud cases in our credit card dataset the *\"old way\"*. First you'll define threshold values using common statistics, to split fraud and non-fraud. Then, use those thresholds on your features to detect fraud. This is common practice within fraud analytics teams.\n",
    "\n",
    "Statistical thresholds are often determined by looking at the **mean** values of observations. Let's start this exercise by checking whether feature **means differ between fraud and non-fraud cases**. Then, you'll use that information to create common sense thresholds. Finally, you'll check how well this performs in fraud detection.\n",
    "\n",
    "`pandas` has already been imported as `pd`.\n",
    "\n",
    "**Instructions**\n",
    "\n",
    "* Use `groupby()` to group `df` on `Class` and obtain the mean of the features.\n",
    "* Create the condition `V1` smaller than -3, and `V3` smaller than -5 as a condition to flag fraud cases.\n",
    "* As a measure of performance, use the `crosstab` function from `pandas` to compare our flagged fraud cases to actual fraud cases."
   ]
  },
  {
   "cell_type": "code",
   "execution_count": 61,
   "metadata": {},
   "outputs": [],
   "source": [
    "df.drop(['Unnamed: 0'], axis=1, inplace=True)"
   ]
  },
  {
   "cell_type": "code",
   "execution_count": 62,
   "metadata": {},
   "outputs": [
    {
     "data": {
      "text/html": [
       "<div>\n",
       "<style scoped>\n",
       "    .dataframe tbody tr th:only-of-type {\n",
       "        vertical-align: middle;\n",
       "    }\n",
       "\n",
       "    .dataframe tbody tr th {\n",
       "        vertical-align: top;\n",
       "    }\n",
       "\n",
       "    .dataframe thead th {\n",
       "        text-align: right;\n",
       "    }\n",
       "</style>\n",
       "<table border=\"1\" class=\"dataframe\">\n",
       "  <thead>\n",
       "    <tr style=\"text-align: right;\">\n",
       "      <th></th>\n",
       "      <th>V1</th>\n",
       "      <th>V2</th>\n",
       "      <th>V3</th>\n",
       "      <th>V4</th>\n",
       "      <th>V5</th>\n",
       "      <th>V6</th>\n",
       "      <th>V7</th>\n",
       "      <th>V8</th>\n",
       "      <th>V9</th>\n",
       "      <th>V10</th>\n",
       "      <th>V11</th>\n",
       "      <th>V12</th>\n",
       "      <th>V13</th>\n",
       "      <th>V14</th>\n",
       "      <th>V15</th>\n",
       "      <th>V16</th>\n",
       "      <th>V17</th>\n",
       "      <th>V18</th>\n",
       "      <th>V19</th>\n",
       "      <th>V20</th>\n",
       "      <th>V21</th>\n",
       "      <th>V22</th>\n",
       "      <th>V23</th>\n",
       "      <th>V24</th>\n",
       "      <th>V25</th>\n",
       "      <th>V26</th>\n",
       "      <th>V27</th>\n",
       "      <th>V28</th>\n",
       "      <th>Amount</th>\n",
       "    </tr>\n",
       "    <tr>\n",
       "      <th>Class</th>\n",
       "      <th></th>\n",
       "      <th></th>\n",
       "      <th></th>\n",
       "      <th></th>\n",
       "      <th></th>\n",
       "      <th></th>\n",
       "      <th></th>\n",
       "      <th></th>\n",
       "      <th></th>\n",
       "      <th></th>\n",
       "      <th></th>\n",
       "      <th></th>\n",
       "      <th></th>\n",
       "      <th></th>\n",
       "      <th></th>\n",
       "      <th></th>\n",
       "      <th></th>\n",
       "      <th></th>\n",
       "      <th></th>\n",
       "      <th></th>\n",
       "      <th></th>\n",
       "      <th></th>\n",
       "      <th></th>\n",
       "      <th></th>\n",
       "      <th></th>\n",
       "      <th></th>\n",
       "      <th></th>\n",
       "      <th></th>\n",
       "      <th></th>\n",
       "    </tr>\n",
       "  </thead>\n",
       "  <tbody>\n",
       "    <tr>\n",
       "      <th>0</th>\n",
       "      <td>0.035030</td>\n",
       "      <td>0.011553</td>\n",
       "      <td>0.037444</td>\n",
       "      <td>-0.045760</td>\n",
       "      <td>-0.013825</td>\n",
       "      <td>-0.030885</td>\n",
       "      <td>0.014315</td>\n",
       "      <td>-0.022432</td>\n",
       "      <td>-0.002227</td>\n",
       "      <td>0.001667</td>\n",
       "      <td>-0.004511</td>\n",
       "      <td>0.017434</td>\n",
       "      <td>0.004204</td>\n",
       "      <td>0.006542</td>\n",
       "      <td>-0.026640</td>\n",
       "      <td>0.001190</td>\n",
       "      <td>0.004481</td>\n",
       "      <td>-0.010892</td>\n",
       "      <td>-0.016554</td>\n",
       "      <td>-0.002896</td>\n",
       "      <td>-0.010583</td>\n",
       "      <td>-0.010206</td>\n",
       "      <td>-0.003305</td>\n",
       "      <td>-0.000918</td>\n",
       "      <td>-0.002613</td>\n",
       "      <td>-0.004651</td>\n",
       "      <td>-0.009584</td>\n",
       "      <td>0.002414</td>\n",
       "      <td>85.843714</td>\n",
       "    </tr>\n",
       "    <tr>\n",
       "      <th>1</th>\n",
       "      <td>-4.985211</td>\n",
       "      <td>3.321539</td>\n",
       "      <td>-7.293909</td>\n",
       "      <td>4.827952</td>\n",
       "      <td>-3.326587</td>\n",
       "      <td>-1.591882</td>\n",
       "      <td>-5.776541</td>\n",
       "      <td>1.395058</td>\n",
       "      <td>-2.537728</td>\n",
       "      <td>-5.917934</td>\n",
       "      <td>4.020563</td>\n",
       "      <td>-7.032865</td>\n",
       "      <td>-0.104179</td>\n",
       "      <td>-7.100399</td>\n",
       "      <td>-0.120265</td>\n",
       "      <td>-4.658854</td>\n",
       "      <td>-7.589219</td>\n",
       "      <td>-2.650436</td>\n",
       "      <td>0.894255</td>\n",
       "      <td>0.194580</td>\n",
       "      <td>0.703182</td>\n",
       "      <td>0.069065</td>\n",
       "      <td>-0.088374</td>\n",
       "      <td>-0.029425</td>\n",
       "      <td>-0.073336</td>\n",
       "      <td>-0.023377</td>\n",
       "      <td>0.380072</td>\n",
       "      <td>0.009304</td>\n",
       "      <td>113.469000</td>\n",
       "    </tr>\n",
       "  </tbody>\n",
       "</table>\n",
       "</div>"
      ],
      "text/plain": [
       "             V1        V2        V3        V4        V5        V6        V7  \\\n",
       "Class                                                                         \n",
       "0      0.035030  0.011553  0.037444 -0.045760 -0.013825 -0.030885  0.014315   \n",
       "1     -4.985211  3.321539 -7.293909  4.827952 -3.326587 -1.591882 -5.776541   \n",
       "\n",
       "             V8        V9       V10       V11       V12       V13       V14  \\\n",
       "Class                                                                         \n",
       "0     -0.022432 -0.002227  0.001667 -0.004511  0.017434  0.004204  0.006542   \n",
       "1      1.395058 -2.537728 -5.917934  4.020563 -7.032865 -0.104179 -7.100399   \n",
       "\n",
       "            V15       V16       V17       V18       V19       V20       V21  \\\n",
       "Class                                                                         \n",
       "0     -0.026640  0.001190  0.004481 -0.010892 -0.016554 -0.002896 -0.010583   \n",
       "1     -0.120265 -4.658854 -7.589219 -2.650436  0.894255  0.194580  0.703182   \n",
       "\n",
       "            V22       V23       V24       V25       V26       V27       V28  \\\n",
       "Class                                                                         \n",
       "0     -0.010206 -0.003305 -0.000918 -0.002613 -0.004651 -0.009584  0.002414   \n",
       "1      0.069065 -0.088374 -0.029425 -0.073336 -0.023377  0.380072  0.009304   \n",
       "\n",
       "           Amount  \n",
       "Class              \n",
       "0       85.843714  \n",
       "1      113.469000  "
      ]
     },
     "execution_count": 62,
     "metadata": {},
     "output_type": "execute_result"
    }
   ],
   "source": [
    "df.groupby('Class').mean()"
   ]
  },
  {
   "cell_type": "code",
   "execution_count": 63,
   "metadata": {},
   "outputs": [],
   "source": [
    "df['flag_as_fraud'] = np.where(np.logical_and(df.V1 < -3, df.V3 < -5), 1, 0)"
   ]
  },
  {
   "cell_type": "code",
   "execution_count": 64,
   "metadata": {},
   "outputs": [
    {
     "data": {
      "text/html": [
       "<div>\n",
       "<style scoped>\n",
       "    .dataframe tbody tr th:only-of-type {\n",
       "        vertical-align: middle;\n",
       "    }\n",
       "\n",
       "    .dataframe tbody tr th {\n",
       "        vertical-align: top;\n",
       "    }\n",
       "\n",
       "    .dataframe thead th {\n",
       "        text-align: right;\n",
       "    }\n",
       "</style>\n",
       "<table border=\"1\" class=\"dataframe\">\n",
       "  <thead>\n",
       "    <tr style=\"text-align: right;\">\n",
       "      <th>Flagged Fraud</th>\n",
       "      <th>0</th>\n",
       "      <th>1</th>\n",
       "    </tr>\n",
       "    <tr>\n",
       "      <th>Actual Fraud</th>\n",
       "      <th></th>\n",
       "      <th></th>\n",
       "    </tr>\n",
       "  </thead>\n",
       "  <tbody>\n",
       "    <tr>\n",
       "      <th>0</th>\n",
       "      <td>4984</td>\n",
       "      <td>16</td>\n",
       "    </tr>\n",
       "    <tr>\n",
       "      <th>1</th>\n",
       "      <td>28</td>\n",
       "      <td>22</td>\n",
       "    </tr>\n",
       "  </tbody>\n",
       "</table>\n",
       "</div>"
      ],
      "text/plain": [
       "Flagged Fraud     0   1\n",
       "Actual Fraud           \n",
       "0              4984  16\n",
       "1                28  22"
      ]
     },
     "execution_count": 64,
     "metadata": {},
     "output_type": "execute_result"
    }
   ],
   "source": [
    "pd.crosstab(df.Class, df.flag_as_fraud, rownames=['Actual Fraud'], colnames=['Flagged Fraud'])"
   ]
  },
  {
   "cell_type": "markdown",
   "metadata": {},
   "source": [
    "**With this rule, 22 out of 50 fraud cases are detected, 28 are not detected, and 16 false positives are identified.**"
   ]
  },
  {
   "cell_type": "markdown",
   "metadata": {},
   "source": [
    "### Using ML classification to catch fraud\n",
    "\n",
    "In this exercise you'll see what happens when you use a simple machine learning model on our credit card data instead.\n",
    "\n",
    "Do you think you can beat those results? Remember, you've predicted *22 out of 50* fraud cases, and had *16 false positives*.\n",
    "\n",
    "So with that in mind, let's implement a **Logistic Regression** model. If you have taken the class on supervised learning in Python, you should be familiar with this model. If not, you might want to refresh that at this point. But don't worry, you'll be guided through the structure of the machine learning model.\n",
    "\n",
    "The `X` and `y` variables are available in your workspace.\n",
    "\n",
    "**Instructions**\n",
    "\n",
    "* Split `X` and `y` into training and test data, keeping 30% of the data for testing.\n",
    "* Fit your model to your training data.\n",
    "* Obtain the model predicted labels by running `model.predict` on `X_test`.\n",
    "* Obtain a classification comparing `y_test` with `predicted`, and use the given confusion matrix to check your results."
   ]
  },
  {
   "cell_type": "code",
   "execution_count": 65,
   "metadata": {},
   "outputs": [],
   "source": [
    "# Create the training and testing sets\n",
    "X_train, X_test, y_train, y_test = train_test_split(X, y, test_size=0.3, random_state=0)"
   ]
  },
  {
   "cell_type": "code",
   "execution_count": 66,
   "metadata": {},
   "outputs": [
    {
     "data": {
      "text/plain": [
       "LogisticRegression(solver='liblinear')"
      ]
     },
     "execution_count": 66,
     "metadata": {},
     "output_type": "execute_result"
    }
   ],
   "source": [
    "# Fit a logistic regression model to our data\n",
    "####\n",
    "####\n",
    "model = LogisticRegression(solver='liblinear')\n",
    "model.fit(X_train, y_train)"
   ]
  },
  {
   "cell_type": "code",
   "execution_count": 67,
   "metadata": {},
   "outputs": [],
   "source": [
    "# Obtain model predictions\n",
    "predicted = model.predict(X_test)"
   ]
  },
  {
   "cell_type": "code",
   "execution_count": 68,
   "metadata": {},
   "outputs": [
    {
     "name": "stdout",
     "output_type": "stream",
     "text": [
      "Classification report:\n",
      "               precision    recall  f1-score   support\n",
      "\n",
      "           0       1.00      1.00      1.00      1505\n",
      "           1       0.89      0.80      0.84        10\n",
      "\n",
      "    accuracy                           1.00      1515\n",
      "   macro avg       0.94      0.90      0.92      1515\n",
      "weighted avg       1.00      1.00      1.00      1515\n",
      "\n",
      "Confusion matrix:\n",
      " [[1504    1]\n",
      " [   2    8]]\n"
     ]
    }
   ],
   "source": [
    "# Print the classifcation report and confusion matrix\n",
    "print('Classification report:\\n', classification_report(y_test, predicted))\n",
    "####\n",
    "conf_mat = confusion_matrix(y_true=y_test, y_pred=predicted)\n",
    "print('Confusion matrix:\\n', conf_mat)"
   ]
  },
  {
   "cell_type": "markdown",
   "metadata": {},
   "source": [
    "**Do you think these results are better than the rules based model? We are getting far fewer false positives, so that's an improvement. Also, we're catching a higher percentage of fraud cases, so that is also better than before. Do you understand why we have fewer observations to look at in the confusion matrix? Remember we are using only our test data to calculate the model results on. We're comparing the crosstab on the full dataset from the last exercise, with a confusion matrix of only 30% of the total dataset, so that's where that difference comes from. In the next chapter, we'll dive deeper into understanding these model performance metrics. Let's now explore whether we can improve the prediction results even further with resampling methods.**"
   ]
  },
  {
   "cell_type": "markdown",
   "metadata": {},
   "source": [
    "### Logistic regression with SMOTE\n",
    "\n",
    "In this exercise, you're going to take the Logistic Regression model from the previous exercise, and combine that with a **SMOTE resampling method**. We'll show you how to do that efficiently by using a pipeline that combines the resampling method with the model in one go. First, you need to define the pipeline that you're going to use.\n",
    "\n",
    "**Instructions**\n",
    "\n",
    "* Import the `Pipeline` module from `imblearn`, this has been done for you.\n",
    "* Then define what you want to put into the pipeline, assign the `SMOTE` method with `borderline2` to `resampling`, and assign `LogisticRegression()` to the `model`.\n",
    "* Combine two steps in the `Pipeline()` function. You need to state you want to combine `resampling` with the `model` in the respective place in the argument. I show you how to do this."
   ]
  },
  {
   "cell_type": "code",
   "execution_count": 69,
   "metadata": {},
   "outputs": [],
   "source": [
    "# Define which resampling method and which ML model to use in the pipeline\n",
    "# resampling = SMOTE(kind='borderline2')  # has been changed to BorderlineSMOTE\n",
    "resampling = BorderlineSMOTE()\n",
    "model = LogisticRegression(solver='liblinear')"
   ]
  },
  {
   "cell_type": "code",
   "execution_count": 70,
   "metadata": {},
   "outputs": [],
   "source": [
    "pipeline = Pipeline([('SMOTE', resampling), ('Logistic Regression', model)])"
   ]
  },
  {
   "cell_type": "markdown",
   "metadata": {},
   "source": [
    "### Pipelining\n",
    "\n",
    "Now that you have our pipeline defined, aka **combining a logistic regression with a SMOTE method**, let's run it on the data. You can treat the pipeline as if it were a **single machine learning model**. Our data X and y are already defined, and the pipeline is defined in the previous exercise. Are you curious to find out what the model results are? Let's give it a try!\n",
    "\n",
    "**Instructions**\n",
    "\n",
    "* Split the data 'X'and 'y' into the training and test set. Set aside 30% of the data for a test set, and set the `random_state` to zero.\n",
    "* Fit your pipeline onto your training data and obtain the predictions by running the `pipeline.predict()` function on our `X_test` dataset."
   ]
  },
  {
   "cell_type": "code",
   "execution_count": 71,
   "metadata": {},
   "outputs": [],
   "source": [
    "# Split your data X and y, into a training and a test set and fit the pipeline onto the training data\n",
    "X_train, X_test, y_train, y_test = train_test_split(X, y, test_size=0.3, random_state=0)"
   ]
  },
  {
   "cell_type": "code",
   "execution_count": 72,
   "metadata": {},
   "outputs": [],
   "source": [
    "pipeline.fit(X_train, y_train) \n",
    "predicted = pipeline.predict(X_test)"
   ]
  },
  {
   "cell_type": "code",
   "execution_count": 73,
   "metadata": {},
   "outputs": [
    {
     "name": "stdout",
     "output_type": "stream",
     "text": [
      "Classifcation report:\n",
      "               precision    recall  f1-score   support\n",
      "\n",
      "           0       1.00      1.00      1.00      1505\n",
      "           1       0.62      1.00      0.77        10\n",
      "\n",
      "    accuracy                           1.00      1515\n",
      "   macro avg       0.81      1.00      0.88      1515\n",
      "weighted avg       1.00      1.00      1.00      1515\n",
      "\n",
      "Confusion matrix:\n",
      " [[1499    6]\n",
      " [   0   10]]\n"
     ]
    }
   ],
   "source": [
    "# Obtain the results from the classification report and confusion matrix \n",
    "print('Classifcation report:\\n', classification_report(y_test, predicted))\n",
    "####\n",
    "conf_mat = confusion_matrix(y_true=y_test, y_pred=predicted)\n",
    "print('Confusion matrix:\\n', conf_mat)"
   ]
  },
  {
   "cell_type": "markdown",
   "metadata": {},
   "source": [
    "**As you can see, the SMOTE slightly improves our results. We now manage to find all cases of fraud, but we have a slightly higher number of false positives, albeit only 7 cases. Remember, resampling doesn't necessarily lead to better results. When the fraud cases are very spread and scattered over the data, using SMOTE can introduce a bit of bias. Nearest neighbors aren't necessarily also fraud cases, so the synthetic samples might 'confuse' the model slightly. In the next chapters, we'll learn how to also adjust our machine learning models to better detect the minority fraud cases.**"
   ]
  },
  {
   "cell_type": "markdown",
   "metadata": {},
   "source": [
    "# Fraud detection using labeled data\n",
    "\n",
    "Learn how to flag fraudulent transactions with supervised learning. Use classifiers, adjust and compare them to find the most efficient fraud detection model."
   ]
  },
  {
   "cell_type": "markdown",
   "metadata": {},
   "source": [
    "## Review classification methods\n",
    "\n",
    "* Classification:\n",
    "    * The problem of identifying to which class a new observation belongs, on the basis of a training set of data containing observations whose class is known\n",
    "    * Goal: use known fraud cases to train a model to recognize new cases\n",
    "    * Classes are sometimes called targets, labels or categories\n",
    "    * Spam detection in email service providers can be identified as a classification problem\n",
    "        * Binary classification since there are only 2 classes, spam and not spam\n",
    "    * Fraud detection is also a binary classification prpoblem\n",
    "    * Patient diagnosis\n",
    "    * Classification problems normall have categorical output like yes/no, 1/0 or True/False\n",
    "    * Variable to predict: $$y\\in0,1$$\n",
    "        * 0: negative calss ('majority' normal cases)\n",
    "        * 1: positive class ('minority' fraud cases)"
   ]
  },
  {
   "cell_type": "markdown",
   "metadata": {},
   "source": [
    "#### Logistic Regression\n",
    "\n",
    "* Logistic Regression is one of the most used ML algorithms in binary classification\n",
    "* ![logistic regression](https://raw.githubusercontent.com/trenton3983/DataCamp/master/Images/fraud_detection/logistic_regression.JPG)\n",
    "* Can be adjusted reasonably well to work on imbalanced data...useful for fraud detection"
   ]
  },
  {
   "cell_type": "markdown",
   "metadata": {},
   "source": [
    "#### Neural Network\n",
    "\n",
    "* ![neural network](https://raw.githubusercontent.com/trenton3983/DataCamp/master/Images/fraud_detection/neural_network.JPG)\n",
    "* Can be used as classifiers for fraud detection\n",
    "* Capable of fitting highly non-linear models to the data\n",
    "* More complex to implement than other classifiers - not demonstrated here"
   ]
  },
  {
   "cell_type": "markdown",
   "metadata": {},
   "source": [
    "#### Decision Trees\n",
    "\n",
    "* ![decision tree](https://raw.githubusercontent.com/trenton3983/DataCamp/master/Images/fraud_detection/decision_tree.JPG)\n",
    "* Commonly used for fraud detection\n",
    "* Transparent results, easily interpreted by analysts\n",
    "* Decision trees are prone to overfit the data"
   ]
  },
  {
   "cell_type": "markdown",
   "metadata": {},
   "source": [
    "#### Random Forests\n",
    "\n",
    "* ![random forest](https://raw.githubusercontent.com/trenton3983/DataCamp/master/Images/fraud_detection/random_forest.JPG)\n",
    "* **Random Forests are a more robust option than a single decision tree**\n",
    "    * Construct a multitude of decision trees when training the model and outputting the class that is the mode or mean predicted class of the individual trees\n",
    "    * A random forest consists of a collection of trees on a random subset of features\n",
    "    * Final predictions are the combined results of those trees\n",
    "    * Random forests can handle complex data and are not prone to overfit\n",
    "    * They are interpretable by looking at feature importance, and can be adjusted to work well on highly imbalanced data\n",
    "    * Their drawback is they're computationally complex\n",
    "    * Very popular for fraud detection\n",
    "    * A Random Forest model will be optimized in the exercises\n",
    "    \n",
    "**Implementation:**\n",
    "\n",
    "```python\n",
    "from sklearn.ensemble import RandomForestClassifier\n",
    "model = RandomForestClassifier()\n",
    "model.fit(X_train, y_train)\n",
    "predicted = model.predict(X_test)\n",
    "print(f'Accuracy Score:\\n{accuracy_score(y_test, predicted)}')\n",
    "```"
   ]
  },
  {
   "cell_type": "markdown",
   "metadata": {},
   "source": [
    "### Natural hit rate\n",
    "\n",
    "In this exercise, you'll again use credit card transaction data. The features and labels are similar to the data in the previous chapter, and the **data is heavily imbalanced**. We've given you features `X` and labels `y` to work with already, which are both numpy arrays.\n",
    "\n",
    "First you need to explore how prevalent fraud is in the dataset, to understand what the **\"natural accuracy\"** is, if we were to predict everything as non-fraud. It's is important to understand which level of \"accuracy\" you need to \"beat\" in order to get a **better prediction than by doing nothing**. In the following exercises, you'll create our first random forest classifier for fraud detection. That will serve as the **\"baseline\"** model that you're going to try to improve in the upcoming exercises.\n",
    "\n",
    "**Instructions**\n",
    "\n",
    "* Count the total number of observations by taking the length of your labels `y`.\n",
    "* Count the non-fraud cases in our data by using list comprehension on `y`; remember `y` is a NumPy array so `.value_counts()` cannot be used in this case.\n",
    "* Calculate the natural accuracy by dividing the non-fraud cases over the total observations.\n",
    "* Print the percentage."
   ]
  },
  {
   "cell_type": "code",
   "execution_count": 75,
   "metadata": {},
   "outputs": [
    {
     "data": {
      "text/html": [
       "<div>\n",
       "<style scoped>\n",
       "    .dataframe tbody tr th:only-of-type {\n",
       "        vertical-align: middle;\n",
       "    }\n",
       "\n",
       "    .dataframe tbody tr th {\n",
       "        vertical-align: top;\n",
       "    }\n",
       "\n",
       "    .dataframe thead th {\n",
       "        text-align: right;\n",
       "    }\n",
       "</style>\n",
       "<table border=\"1\" class=\"dataframe\">\n",
       "  <thead>\n",
       "    <tr style=\"text-align: right;\">\n",
       "      <th></th>\n",
       "      <th>Unnamed: 0</th>\n",
       "      <th>V1</th>\n",
       "      <th>V2</th>\n",
       "      <th>V3</th>\n",
       "      <th>V4</th>\n",
       "      <th>V5</th>\n",
       "      <th>V6</th>\n",
       "      <th>V7</th>\n",
       "      <th>V8</th>\n",
       "      <th>V9</th>\n",
       "      <th>V10</th>\n",
       "      <th>V11</th>\n",
       "      <th>V12</th>\n",
       "      <th>V13</th>\n",
       "      <th>V14</th>\n",
       "      <th>V15</th>\n",
       "      <th>V16</th>\n",
       "      <th>V17</th>\n",
       "      <th>V18</th>\n",
       "      <th>V19</th>\n",
       "      <th>V20</th>\n",
       "      <th>V21</th>\n",
       "      <th>V22</th>\n",
       "      <th>V23</th>\n",
       "      <th>V24</th>\n",
       "      <th>V25</th>\n",
       "      <th>V26</th>\n",
       "      <th>V27</th>\n",
       "      <th>V28</th>\n",
       "      <th>Amount</th>\n",
       "      <th>Class</th>\n",
       "    </tr>\n",
       "  </thead>\n",
       "  <tbody>\n",
       "    <tr>\n",
       "      <th>0</th>\n",
       "      <td>221547</td>\n",
       "      <td>-1.191668</td>\n",
       "      <td>0.428409</td>\n",
       "      <td>1.640028</td>\n",
       "      <td>-1.848859</td>\n",
       "      <td>-0.870903</td>\n",
       "      <td>-0.204849</td>\n",
       "      <td>-0.385675</td>\n",
       "      <td>0.352793</td>\n",
       "      <td>-1.098301</td>\n",
       "      <td>-0.334597</td>\n",
       "      <td>-0.679089</td>\n",
       "      <td>-0.039671</td>\n",
       "      <td>1.372661</td>\n",
       "      <td>-0.732001</td>\n",
       "      <td>-0.344528</td>\n",
       "      <td>1.024751</td>\n",
       "      <td>0.380209</td>\n",
       "      <td>-1.087349</td>\n",
       "      <td>0.364507</td>\n",
       "      <td>0.051924</td>\n",
       "      <td>0.507173</td>\n",
       "      <td>1.292565</td>\n",
       "      <td>-0.467752</td>\n",
       "      <td>1.244887</td>\n",
       "      <td>0.697707</td>\n",
       "      <td>0.059375</td>\n",
       "      <td>-0.319964</td>\n",
       "      <td>-0.017444</td>\n",
       "      <td>27.44</td>\n",
       "      <td>0</td>\n",
       "    </tr>\n",
       "    <tr>\n",
       "      <th>1</th>\n",
       "      <td>184524</td>\n",
       "      <td>1.966614</td>\n",
       "      <td>-0.450087</td>\n",
       "      <td>-1.228586</td>\n",
       "      <td>0.142873</td>\n",
       "      <td>-0.150627</td>\n",
       "      <td>-0.543590</td>\n",
       "      <td>-0.076217</td>\n",
       "      <td>-0.108390</td>\n",
       "      <td>0.973310</td>\n",
       "      <td>-0.029903</td>\n",
       "      <td>0.279973</td>\n",
       "      <td>0.885685</td>\n",
       "      <td>-0.583912</td>\n",
       "      <td>0.322019</td>\n",
       "      <td>-1.065335</td>\n",
       "      <td>-0.340285</td>\n",
       "      <td>-0.385399</td>\n",
       "      <td>0.216554</td>\n",
       "      <td>0.675646</td>\n",
       "      <td>-0.190851</td>\n",
       "      <td>0.124055</td>\n",
       "      <td>0.564916</td>\n",
       "      <td>-0.039331</td>\n",
       "      <td>-0.283904</td>\n",
       "      <td>0.186400</td>\n",
       "      <td>0.192932</td>\n",
       "      <td>-0.039155</td>\n",
       "      <td>-0.071314</td>\n",
       "      <td>35.95</td>\n",
       "      <td>0</td>\n",
       "    </tr>\n",
       "    <tr>\n",
       "      <th>2</th>\n",
       "      <td>91201</td>\n",
       "      <td>1.528452</td>\n",
       "      <td>-1.296191</td>\n",
       "      <td>-0.890677</td>\n",
       "      <td>-2.504028</td>\n",
       "      <td>0.803202</td>\n",
       "      <td>3.350793</td>\n",
       "      <td>-1.633016</td>\n",
       "      <td>0.815350</td>\n",
       "      <td>-1.884692</td>\n",
       "      <td>1.465259</td>\n",
       "      <td>-0.188235</td>\n",
       "      <td>-0.976779</td>\n",
       "      <td>0.560550</td>\n",
       "      <td>-0.250847</td>\n",
       "      <td>0.936115</td>\n",
       "      <td>0.136409</td>\n",
       "      <td>-0.078251</td>\n",
       "      <td>0.355086</td>\n",
       "      <td>0.127756</td>\n",
       "      <td>-0.163982</td>\n",
       "      <td>-0.412088</td>\n",
       "      <td>-1.017485</td>\n",
       "      <td>0.129566</td>\n",
       "      <td>0.948048</td>\n",
       "      <td>0.287826</td>\n",
       "      <td>-0.396592</td>\n",
       "      <td>0.042997</td>\n",
       "      <td>0.025853</td>\n",
       "      <td>28.40</td>\n",
       "      <td>0</td>\n",
       "    </tr>\n",
       "    <tr>\n",
       "      <th>3</th>\n",
       "      <td>26115</td>\n",
       "      <td>-0.774614</td>\n",
       "      <td>1.100916</td>\n",
       "      <td>0.679080</td>\n",
       "      <td>1.034016</td>\n",
       "      <td>0.168633</td>\n",
       "      <td>0.874582</td>\n",
       "      <td>0.209454</td>\n",
       "      <td>0.770550</td>\n",
       "      <td>-0.558106</td>\n",
       "      <td>-0.165442</td>\n",
       "      <td>0.017562</td>\n",
       "      <td>0.285377</td>\n",
       "      <td>-0.818739</td>\n",
       "      <td>0.637991</td>\n",
       "      <td>-0.370124</td>\n",
       "      <td>-0.605148</td>\n",
       "      <td>0.275686</td>\n",
       "      <td>0.246362</td>\n",
       "      <td>1.331927</td>\n",
       "      <td>0.080978</td>\n",
       "      <td>0.011158</td>\n",
       "      <td>0.146017</td>\n",
       "      <td>-0.130401</td>\n",
       "      <td>-0.848815</td>\n",
       "      <td>0.005698</td>\n",
       "      <td>-0.183295</td>\n",
       "      <td>0.282940</td>\n",
       "      <td>0.123856</td>\n",
       "      <td>43.20</td>\n",
       "      <td>0</td>\n",
       "    </tr>\n",
       "    <tr>\n",
       "      <th>4</th>\n",
       "      <td>201292</td>\n",
       "      <td>-1.075860</td>\n",
       "      <td>1.361160</td>\n",
       "      <td>1.496972</td>\n",
       "      <td>2.242604</td>\n",
       "      <td>1.314751</td>\n",
       "      <td>0.272787</td>\n",
       "      <td>1.005246</td>\n",
       "      <td>0.132932</td>\n",
       "      <td>-1.558317</td>\n",
       "      <td>0.484216</td>\n",
       "      <td>-1.967998</td>\n",
       "      <td>-1.818338</td>\n",
       "      <td>-2.036184</td>\n",
       "      <td>0.346962</td>\n",
       "      <td>-1.161316</td>\n",
       "      <td>1.017093</td>\n",
       "      <td>-0.926787</td>\n",
       "      <td>0.183965</td>\n",
       "      <td>-2.102868</td>\n",
       "      <td>-0.354008</td>\n",
       "      <td>0.254485</td>\n",
       "      <td>0.530692</td>\n",
       "      <td>-0.651119</td>\n",
       "      <td>0.626389</td>\n",
       "      <td>1.040212</td>\n",
       "      <td>0.249501</td>\n",
       "      <td>-0.146745</td>\n",
       "      <td>0.029714</td>\n",
       "      <td>10.59</td>\n",
       "      <td>0</td>\n",
       "    </tr>\n",
       "  </tbody>\n",
       "</table>\n",
       "</div>"
      ],
      "text/plain": [
       "   Unnamed: 0        V1        V2        V3        V4        V5        V6  \\\n",
       "0      221547 -1.191668  0.428409  1.640028 -1.848859 -0.870903 -0.204849   \n",
       "1      184524  1.966614 -0.450087 -1.228586  0.142873 -0.150627 -0.543590   \n",
       "2       91201  1.528452 -1.296191 -0.890677 -2.504028  0.803202  3.350793   \n",
       "3       26115 -0.774614  1.100916  0.679080  1.034016  0.168633  0.874582   \n",
       "4      201292 -1.075860  1.361160  1.496972  2.242604  1.314751  0.272787   \n",
       "\n",
       "         V7        V8        V9       V10       V11       V12       V13  \\\n",
       "0 -0.385675  0.352793 -1.098301 -0.334597 -0.679089 -0.039671  1.372661   \n",
       "1 -0.076217 -0.108390  0.973310 -0.029903  0.279973  0.885685 -0.583912   \n",
       "2 -1.633016  0.815350 -1.884692  1.465259 -0.188235 -0.976779  0.560550   \n",
       "3  0.209454  0.770550 -0.558106 -0.165442  0.017562  0.285377 -0.818739   \n",
       "4  1.005246  0.132932 -1.558317  0.484216 -1.967998 -1.818338 -2.036184   \n",
       "\n",
       "        V14       V15       V16       V17       V18       V19       V20  \\\n",
       "0 -0.732001 -0.344528  1.024751  0.380209 -1.087349  0.364507  0.051924   \n",
       "1  0.322019 -1.065335 -0.340285 -0.385399  0.216554  0.675646 -0.190851   \n",
       "2 -0.250847  0.936115  0.136409 -0.078251  0.355086  0.127756 -0.163982   \n",
       "3  0.637991 -0.370124 -0.605148  0.275686  0.246362  1.331927  0.080978   \n",
       "4  0.346962 -1.161316  1.017093 -0.926787  0.183965 -2.102868 -0.354008   \n",
       "\n",
       "        V21       V22       V23       V24       V25       V26       V27  \\\n",
       "0  0.507173  1.292565 -0.467752  1.244887  0.697707  0.059375 -0.319964   \n",
       "1  0.124055  0.564916 -0.039331 -0.283904  0.186400  0.192932 -0.039155   \n",
       "2 -0.412088 -1.017485  0.129566  0.948048  0.287826 -0.396592  0.042997   \n",
       "3  0.011158  0.146017 -0.130401 -0.848815  0.005698 -0.183295  0.282940   \n",
       "4  0.254485  0.530692 -0.651119  0.626389  1.040212  0.249501 -0.146745   \n",
       "\n",
       "        V28  Amount  Class  \n",
       "0 -0.017444   27.44      0  \n",
       "1 -0.071314   35.95      0  \n",
       "2  0.025853   28.40      0  \n",
       "3  0.123856   43.20      0  \n",
       "4  0.029714   10.59      0  "
      ]
     },
     "execution_count": 75,
     "metadata": {},
     "output_type": "execute_result"
    }
   ],
   "source": [
    "df2 = pd.read_csv(r'C:\\Users\\dell\\Desktop\\ine 2\\S4\\machine learning\\TP2\\chapitre_2\\creditcard_sampledata_2.csv')\n",
    "df2.head()"
   ]
  },
  {
   "cell_type": "code",
   "execution_count": 76,
   "metadata": {},
   "outputs": [
    {
     "name": "stdout",
     "output_type": "stream",
     "text": [
      "X shape: (7300, 28)\n",
      "y shape: (7300,)\n"
     ]
    }
   ],
   "source": [
    "X, y = prep_data(df2)\n",
    "print(f'X shape: {X.shape}\\ny shape: {y.shape}')"
   ]
  },
  {
   "cell_type": "code",
   "execution_count": 77,
   "metadata": {},
   "outputs": [
    {
     "data": {
      "text/plain": [
       "array([ 4.28408570e-01,  1.64002800e+00, -1.84885886e+00, -8.70902974e-01,\n",
       "       -2.04848888e-01, -3.85675453e-01,  3.52792552e-01, -1.09830131e+00,\n",
       "       -3.34596757e-01, -6.79088729e-01, -3.96709268e-02,  1.37266082e+00,\n",
       "       -7.32000706e-01, -3.44528134e-01,  1.02475103e+00,  3.80208554e-01,\n",
       "       -1.08734881e+00,  3.64507163e-01,  5.19236276e-02,  5.07173439e-01,\n",
       "        1.29256539e+00, -4.67752261e-01,  1.24488683e+00,  6.97706854e-01,\n",
       "        5.93750372e-02, -3.19964326e-01, -1.74444289e-02,  2.74400000e+01])"
      ]
     },
     "execution_count": 77,
     "metadata": {},
     "output_type": "execute_result"
    }
   ],
   "source": [
    "X[0, :]"
   ]
  },
  {
   "cell_type": "code",
   "execution_count": 78,
   "metadata": {},
   "outputs": [
    {
     "data": {
      "text/plain": [
       "0    7000\n",
       "1     300\n",
       "Name: Class, dtype: int64"
      ]
     },
     "execution_count": 78,
     "metadata": {},
     "output_type": "execute_result"
    }
   ],
   "source": [
    "df2.Class.value_counts()"
   ]
  },
  {
   "cell_type": "code",
   "execution_count": 79,
   "metadata": {},
   "outputs": [
    {
     "data": {
      "text/plain": [
       "7300"
      ]
     },
     "execution_count": 79,
     "metadata": {},
     "output_type": "execute_result"
    }
   ],
   "source": [
    "# Count the total number of observations from the length of y\n",
    "total_obs = len(y)\n",
    "total_obs"
   ]
  },
  {
   "cell_type": "code",
   "execution_count": 80,
   "metadata": {},
   "outputs": [
    {
     "data": {
      "text/plain": [
       "7000"
      ]
     },
     "execution_count": 80,
     "metadata": {},
     "output_type": "execute_result"
    }
   ],
   "source": [
    "# Count the total number of non-fraudulent observations \n",
    "non_fraud = [i for i in y if i == 0]\n",
    "count_non_fraud = non_fraud.count(0)\n",
    "count_non_fraud"
   ]
  },
  {
   "cell_type": "code",
   "execution_count": 81,
   "metadata": {},
   "outputs": [
    {
     "name": "stdout",
     "output_type": "stream",
     "text": [
      "95.89%\n"
     ]
    }
   ],
   "source": [
    "percentage = count_non_fraud/total_obs * 100\n",
    "print(f'{percentage:0.2f}%')"
   ]
  },
  {
   "cell_type": "markdown",
   "metadata": {},
   "source": [
    "**This tells us that by doing nothing, we would be correct in 95.9% of the cases. So now you understand, that if we get an accuracy of less than this number, our model does not actually add any value in predicting how many cases are correct. Let's see how a random forest does in predicting fraud in our data.**"
   ]
  },
  {
   "cell_type": "markdown",
   "metadata": {},
   "source": [
    "### Random Forest Classifier - part 1\n",
    "\n",
    "Let's now create a first **random forest classifier** for fraud detection. Hopefully you can do better than the baseline accuracy you've just calculated, which was roughly **96%**. This model will serve as the **\"baseline\" model** that you're going to try to improve in the upcoming exercises. Let's start first with **splitting the data into a test and training set**, and **defining the Random Forest model**. The data available are features `X` and labels `y`.\n",
    "\n",
    "**Instructions**\n",
    "\n",
    "* Import the random forest classifier from `sklearn`.\n",
    "* Split your features `X` and labels `y` into a training and test set. Set aside a test set of 30%.\n",
    "* Assign the random forest classifier to `model` and keep `random_state` at 5. We need to set a random state here in order to be able to compare results across different models."
   ]
  },
  {
   "cell_type": "markdown",
   "metadata": {},
   "source": [
    "#### X_train, X_test, y_train, y_test"
   ]
  },
  {
   "cell_type": "code",
   "execution_count": 82,
   "metadata": {},
   "outputs": [],
   "source": [
    "# Split your data into training and test set\n",
    "X_train, X_test, y_train, y_test = train_test_split(X, y, test_size=0.3, random_state=0)"
   ]
  },
  {
   "cell_type": "code",
   "execution_count": 83,
   "metadata": {},
   "outputs": [],
   "source": [
    "# Define the model as the random forest\n",
    "model = RandomForestClassifier(random_state=5, n_estimators=20)"
   ]
  },
  {
   "cell_type": "markdown",
   "metadata": {},
   "source": [
    "### Random Forest Classifier - part 2\n",
    "\n",
    "Let's see how our Random Forest model performs **without doing anything special to it**. The `model` from the previous exercise is available, and you've already split your data in `X_train, y_train, X_test, y_test`.\n",
    "\n",
    "**Instructions 1/3**\n",
    "\n",
    "* Fit the earlier defined `model` to our training data and obtain predictions by getting the model predictions on `X_test`."
   ]
  },
  {
   "cell_type": "code",
   "execution_count": 84,
   "metadata": {},
   "outputs": [
    {
     "data": {
      "text/plain": [
       "RandomForestClassifier(n_estimators=20, random_state=5)"
      ]
     },
     "execution_count": 84,
     "metadata": {},
     "output_type": "execute_result"
    }
   ],
   "source": [
    "# Fit the model to our training set\n",
    "model.fit(X_train, y_train)"
   ]
  },
  {
   "cell_type": "code",
   "execution_count": 85,
   "metadata": {},
   "outputs": [],
   "source": [
    "# Obtain predictions from the test data \n",
    "predicted = model.predict(X_test)"
   ]
  },
  {
   "cell_type": "markdown",
   "metadata": {},
   "source": [
    "**Instructions 2/3**\n",
    "\n",
    "* Obtain and print the accuracy score by comparing the actual labels `y_test` with our predicted labels `predicted`."
   ]
  },
  {
   "cell_type": "code",
   "execution_count": 86,
   "metadata": {},
   "outputs": [
    {
     "name": "stdout",
     "output_type": "stream",
     "text": [
      "Accuracy Score:\n",
      "0.991\n"
     ]
    }
   ],
   "source": [
    "print(f'Accuracy Score:\\n{accuracy_score(y_test, predicted):0.3f}')"
   ]
  },
  {
   "cell_type": "markdown",
   "metadata": {},
   "source": [
    "**Instructions 3/3**\n",
    "\n",
    "What is a benefit of using Random Forests versus Decision Trees?\n",
    "\n",
    "**Possible Answers**\n",
    "\n",
    "* ~~Random Forests always have a higher accuracy than Decision Trees.~~\n",
    "* **Random Forests do not tend to overfit, whereas Decision Trees do.**\n",
    "* ~~Random Forests are computationally more efficient than Decision Trees.~~\n",
    "* ~~You can obtain \"feature importance\" from Random Forest, which makes it more transparent.~~\n",
    "\n",
    "**Random Forest prevents overfitting most of the time, by creating random subsets of the features and building smaller trees using these subsets. Afterwards, it combines the subtrees of subsamples of features, so it does not tend to overfit to your entire feature set the way \"deep\" Decisions Trees do.**"
   ]
  },
  {
   "cell_type": "markdown",
   "metadata": {},
   "source": [
    "## Perfomance evaluation\n",
    "\n",
    "* Performance metrics for fraud detection models\n",
    "* There are other performace metrics that are more informative and reliable than accuracy"
   ]
  },
  {
   "cell_type": "markdown",
   "metadata": {},
   "source": [
    "#### Accuracy\n",
    "\n",
    "![accuracy](https://raw.githubusercontent.com/trenton3983/DataCamp/master/Images/fraud_detection/accuracy.JPG)\n",
    "* Accuracy isn't a reliable performance metric when working with highly imbalanced data (such as fraud detection)\n",
    "* By doing nothing, aka predicting everything is the majority class (right image), a higher accuracy is obtained than by trying to build a predictive model (left image)"
   ]
  },
  {
   "cell_type": "markdown",
   "metadata": {},
   "source": [
    "#### Confusion Matrix\n",
    "\n",
    "![advanced confusion matrix](https://raw.githubusercontent.com/trenton3983/DataCamp/master/Images/fraud_detection/confusion_matrix_advanced.JPG)\n",
    "\n",
    "* False Positives (FP) / False Negatives (FN)\n",
    "        * Cases of fraud not caught by the model\n",
    "        * Cases of 'false alarm'\n",
    "        * a credit card company might want to catch as much fraud as possible and reduce false negatives, as fraudulent transactions can be incredibly costly\n",
    "            * a false alarm just means a transaction is blocked\n",
    "        * an insurance company can't handle many false alarms, as it means getting a team of investigators involved for each positive prediction\n",
    "        \n",
    "* True Positives / True Negatives are the cases predicted correctly (e.g. fraud / non-fraud)"
   ]
  },
  {
   "cell_type": "markdown",
   "metadata": {},
   "source": [
    "#### Precision Recall\n",
    "\n",
    "* Credit card company wants to optimize for recall\n",
    "* Insurance company wants to optimize for precision\n",
    "* Precision:\n",
    "    * $$Precision=\\frac{\\#\\space True\\space Positives}{\\#\\space True\\space Positives+\\#\\space False\\space Positives}$$\n",
    "    * Fraction of actual fraud cases out of all predicted fraud cases\n",
    "        * true positives relative to the sum of true positives and false positives\n",
    "* Recall:\n",
    "    * $$Recall=\\frac{\\#\\space True\\space Positives}{\\#\\space True\\space Positives+\\#\\space False\\space Negatives}$$\n",
    "    * Fraction of predicted fraud cases out of all actual fraud cases\n",
    "        * true positives relative to the sum of true positives and false negative\n",
    "* Precision and recall are typically inversely related\n",
    "    * As precision increases, recall falls and vice-versa\n",
    "    * ![precision recall inverse relation](https://raw.githubusercontent.com/trenton3983/DataCamp/master/Images/fraud_detection/precision_recall_inverse.JPG)"
   ]
  },
  {
   "cell_type": "markdown",
   "metadata": {},
   "source": [
    "#### F-Score\n",
    "\n",
    "* Weighs both precision and recall into on measure\n",
    "\n",
    "\\begin{align}\n",
    "F-measure = \\frac{2\\times{Precision}\\times{Recall}}{Precision\\times{Recall}} \\\\ \n",
    "\\\\\n",
    "= \\frac{2\\times{TP}}{2\\times{TP}+FP+FN}\n",
    "\\end{align}\n",
    "\n",
    "* is a performance metric that takes into account a balance between Precision and Recall"
   ]
  },
  {
   "cell_type": "markdown",
   "metadata": {},
   "source": [
    "#### Obtaining performance metrics from sklean\n",
    "\n",
    "```python\n",
    "# import the methods\n",
    "from sklearn.metrics import precision_recall_curve, average_precision_score\n",
    "\n",
    "# Calculate average precision and the PR curve\n",
    "average_precision = average_precision_score(y_test, predicted)\n",
    "\n",
    "# Obtain precision and recall\n",
    "precision, recall = precision_recall_curve(y_test, predicted)\n",
    "```"
   ]
  },
  {
   "cell_type": "markdown",
   "metadata": {},
   "source": [
    "#### Receiver Operating Characteristic (ROC) curve to compare algorithms\n",
    "\n",
    "* Created by plotting the true positive rate against the false positive rate at various threshold settings\n",
    "* ![roc curve](https://raw.githubusercontent.com/trenton3983/DataCamp/master/Images/fraud_detection/roc_curve.JPG)\n",
    "* Useful for comparing performance of different algorithms\n",
    "\n",
    "```python\n",
    "# Obtain model probabilities\n",
    "probs = model.predict_proba(X_test)\n",
    "\n",
    "# Print ROC_AUC score using probabilities\n",
    "print(metrics.roc_auc_score(y_test, probs[:, 1]))\n",
    "```"
   ]
  },
  {
   "cell_type": "markdown",
   "metadata": {},
   "source": [
    "#### Confusion matrix and classification report\n",
    "\n",
    "```python\n",
    "from sklearn.metrics import classification_report, confusion_matrix\n",
    "\n",
    "# Obtain predictions\n",
    "predicted = model.predict(X_test)\n",
    "\n",
    "# Print classification report using predictions\n",
    "print(classification_report(y_test, predicted))\n",
    "\n",
    "# Print confusion matrix using predictions\n",
    "print(confusion_matrix(y_test, predicted))\n",
    "```"
   ]
  },
  {
   "cell_type": "markdown",
   "metadata": {},
   "source": [
    "### Performance metrics for the RF model\n",
    "\n",
    "In the previous exercises you obtained an accuracy score for your random forest model. This time, we know **accuracy can be misleading** in the case of fraud detection. With highly imbalanced fraud data, the AUROC curve is a more reliable performance metric, used to compare different classifiers. Moreover, the *classification report* tells you about the precision and recall of your model, whilst the *confusion matrix* actually shows how many fraud cases you can predict correctly. So let's get these performance metrics.\n",
    "\n",
    "You'll continue working on the same random forest model from the previous exercise. Your model, defined as `model = RandomForestClassifier(random_state=5)` has been fitted to your training data already, and `X_train, y_train, X_test, y_test` are available.\n",
    "\n",
    "**Instructions**\n",
    "\n",
    "* Import the classification report, confusion matrix and ROC score from `sklearn.metrics`.\n",
    "* Get the binary predictions from your trained random forest `model`.\n",
    "* Get the predicted probabilities by running the `predict_proba()` function.\n",
    "* Obtain classification report and confusion matrix by comparing `y_test` with `predicted`."
   ]
  },
  {
   "cell_type": "code",
   "execution_count": 87,
   "metadata": {},
   "outputs": [],
   "source": [
    "# Obtain the predictions from our random forest model \n",
    "predicted = model.predict(X_test)"
   ]
  },
  {
   "cell_type": "code",
   "execution_count": 88,
   "metadata": {},
   "outputs": [],
   "source": [
    "# Predict probabilities\n",
    "probs = model.predict_proba(X_test)"
   ]
  },
  {
   "cell_type": "code",
   "execution_count": 89,
   "metadata": {},
   "outputs": [
    {
     "name": "stdout",
     "output_type": "stream",
     "text": [
      "ROC Score:\n",
      "0.9419896444670147\n",
      "\n",
      "Classification Report:\n",
      "              precision    recall  f1-score   support\n",
      "\n",
      "           0       0.99      1.00      1.00      2099\n",
      "           1       0.97      0.80      0.88        91\n",
      "\n",
      "    accuracy                           0.99      2190\n",
      "   macro avg       0.98      0.90      0.94      2190\n",
      "weighted avg       0.99      0.99      0.99      2190\n",
      "\n",
      "\n",
      "Confusion Matrix:\n",
      "[[2097    2]\n",
      " [  18   73]]\n"
     ]
    }
   ],
   "source": [
    "# Print the ROC curve, classification report and confusion matrix\n",
    "print('ROC Score:')\n",
    "print(roc_auc_score(y_test, probs[:,1]))\n",
    "print('\\nClassification Report:')\n",
    "print(classification_report(y_test, predicted))\n",
    "print('\\nConfusion Matrix:')\n",
    "print(confusion_matrix(y_test, predicted))"
   ]
  },
  {
   "cell_type": "markdown",
   "metadata": {},
   "source": [
    "**You have now obtained more meaningful performance metrics that tell us how well the model performs, given the highly imbalanced data that you're working with. The model predicts 76 cases of fraud, out of which 73 are actual fraud. You have only 3 false positives. This is really good, and as a result you have a very high precision score. You do however, miss 18 cases of actual fraud. Recall is therefore not as good as precision.**"
   ]
  },
  {
   "cell_type": "markdown",
   "metadata": {},
   "source": [
    "### Plotting the Precision vs. Recall Curve\n",
    "\n",
    "You can also plot a **Precision-Recall curve**, to investigate the trade-off between the two in your model. In this curve **Precision and Recall are inversely related**; as Precision increases, Recall falls and vice-versa. A balance between these two needs to be achieved in your model, otherwise you might end up with many false positives, or not enough actual fraud cases caught. To achieve this and to compare performance, the precision-recall curves come in handy.\n",
    "\n",
    "Your Random Forest Classifier is available as `model`, and the predictions as `predicted`. You can simply obtain the average precision score and the PR curve from the sklearn package. The function `plot_pr_curve()` plots the results for you. Let's give it a try.\n",
    "\n",
    "**Instructions 1/3**\n",
    "\n",
    "* Calculate the average precision by running the function on the actual labels `y_test` and your predicted labels `predicted`."
   ]
  },
  {
   "cell_type": "code",
   "execution_count": 90,
   "metadata": {},
   "outputs": [
    {
     "data": {
      "text/plain": [
       "0.7890250388880526"
      ]
     },
     "execution_count": 90,
     "metadata": {},
     "output_type": "execute_result"
    }
   ],
   "source": [
    "# Calculate average precision and the PR curve\n",
    "average_precision = average_precision_score(y_test, predicted)\n",
    "average_precision"
   ]
  },
  {
   "cell_type": "markdown",
   "metadata": {},
   "source": [
    "**Instructions 2/3**\n",
    "\n",
    "* Run the `precision_recall_curve()` function on the same arguments `y_test` and `predicted` and plot the curve (this last thing has been done for you)."
   ]
  },
  {
   "cell_type": "code",
   "execution_count": 91,
   "metadata": {},
   "outputs": [
    {
     "name": "stdout",
     "output_type": "stream",
     "text": [
      "Precision: [0.04155251 0.97333333 1.        ]\n",
      "Recall: [1.        0.8021978 0.       ]\n"
     ]
    }
   ],
   "source": [
    "# Obtain precision and recall \n",
    "precision, recall, _ = precision_recall_curve(y_test, predicted)\n",
    "print(f'Precision: {precision}\\nRecall: {recall}')"
   ]
  },
  {
   "cell_type": "markdown",
   "metadata": {},
   "source": [
    "#### def plot_pr_curve"
   ]
  },
  {
   "cell_type": "code",
   "execution_count": 92,
   "metadata": {},
   "outputs": [],
   "source": [
    "def plot_pr_curve(recall, precision, average_precision):\n",
    "    \"\"\"\n",
    "    https://scikit-learn.org/stable/auto_examples/model_selection/plot_precision_recall.html\n",
    "    \"\"\"\n",
    "    from inspect import signature\n",
    "    plt.figure()\n",
    "    step_kwargs = ({'step': 'post'}\n",
    "                   if 'step' in signature(plt.fill_between).parameters\n",
    "                   else {})\n",
    "\n",
    "    plt.step(recall, precision, color='b', alpha=0.2, where='post')\n",
    "    plt.fill_between(recall, precision, alpha=0.2, color='b', **step_kwargs)\n",
    "\n",
    "    plt.xlabel('Recall')\n",
    "    plt.ylabel('Precision')\n",
    "    plt.ylim([0.0, 1.0])\n",
    "    plt.xlim([0.0, 1.0])\n",
    "    plt.title(f'2-class Precision-Recall curve: AP={average_precision:0.2f}')\n",
    "    return plt.show()"
   ]
  },
  {
   "cell_type": "code",
   "execution_count": 96,
   "metadata": {},
   "outputs": [
    {
     "data": {
      "image/png": "[encoded data removed]",
      "text/plain": [
       "<Figure size 432x288 with 1 Axes>"
      ]
     },
     "metadata": {
      "needs_background": "light"
     },
     "output_type": "display_data"
    }
   ],
   "source": [
    "# Plot the recall precision tradeoff\n",
    "\n",
    "plot_pr_curve(recall, precision, average_precision)"
   ]
  },
  {
   "cell_type": "markdown",
   "metadata": {},
   "source": [
    "**Instructions 3/3**\n",
    "\n",
    "What's the benefit of the performance metric ROC curve (AUROC) versus Precision and Recall?\n",
    "\n",
    "**Possible Answers**\n",
    "\n",
    "* **The AUROC answers the question: \"How well can this classifier be expected to perform in general, at a variety of different baseline probabilities?\" but precision and recall don't.**\n",
    "* ~~The AUROC answers the question: \"How meaningful is a positive result from my classifier given the baseline probabilities of my problem?\" but precision and recall don't.~~\n",
    "* ~~Precision and Recall are not informative when the data is imbalanced.~~\n",
    "* ~~The AUROC curve allows you to visualize classifier performance and with Precision and Recall you cannot.~~\n",
    "\n",
    "**The ROC curve plots the true positives vs. false positives , for a classifier, as its discrimination threshold is varied. Since, a random method describes a horizontal curve through the unit interval, it has an AUC of 0.5. Minimally, classifiers should perform better than this, and the extent to which they score higher than one another (meaning the area under the ROC curve is larger), they have better expected performance.**"
   ]
  },
  {
   "cell_type": "markdown",
   "metadata": {},
   "source": [
    "## Adjusting the algorithm weights\n",
    "\n",
    "* Adjust model parameter to optimize for fraud detection.\n",
    "* When training a model, try different options and settings to get the best recall-precision trade-off\n",
    "* sklearn has two simple options to tweak the model for heavily imbalanced data\n",
    "    * `class_weight`:\n",
    "        * `balanced` mode: `model = RandomForestClassifier(class_weight='balanced')`\n",
    "            * uses the values of y to automatically adjust weights inversely proportional to class frequencies in the the input data\n",
    "            * this option is available for other classifiers\n",
    "                * `model = LogisticRegression(class_weight='balanced')`\n",
    "                * `model = SVC(kernel='linear', class_weight='balanced', probability=True)`\n",
    "        * `balanced_subsample` mode: `model = RandomForestClassifier(class_weight='balanced_subsample')`\n",
    "            * is the same as the `balanced` option, except weights are calculated again at each iteration of growing a tree in a the random forest\n",
    "            * this option is only applicable for the Random Forest model\n",
    "        * manual input\n",
    "            * adjust weights to any ratio, not just value counts relative to sample\n",
    "            * `class_weight={0:1,1:4}`\n",
    "            * this is a good option to slightly upsample the minority class"
   ]
  },
  {
   "cell_type": "markdown",
   "metadata": {},
   "source": [
    "#### Hyperparameter tuning\n",
    "\n",
    "* Random Forest takes many other options to optimize the model\n",
    "\n",
    "```python\n",
    "model = RandomForestClassifier(n_estimators=10, \n",
    "                               criterion=’gini’, \n",
    "                               max_depth=None, \n",
    "                               min_samples_split=2, \n",
    "                               min_samples_leaf=1, \n",
    "                               max_features=’auto’, \n",
    "                               n_jobs=-1, class_weight=None)\n",
    "```\n",
    "\n",
    "* the shape and size of the trees in a random forest are adjusted with **leaf size** and **tree depth**\n",
    "* `n_estimators`: one of the most important setting is the number of trees in the forest\n",
    "* `max_features`: the number of features considered for splitting at each leaf node\n",
    "* `criterion`: change the way the data is split at each node (default is `gini` coefficient)"
   ]
  },
  {
   "cell_type": "markdown",
   "metadata": {},
   "source": [
    "#### GridSearchCV for hyperparameter tuning\n",
    "\n",
    "* [sklearn.model_selection.GridSearchCV](https://scikit-learn.org/stable/modules/generated/sklearn.model_selection.GridSearchCV.html)\n",
    "* `from sklearn.model_selection import GridSearchCV`\n",
    "* `GridSearchCV evaluates all combinations of parameters defined in the parameter grid\n",
    "* Random Forest Parameter Grid:\n",
    "\n",
    "```python\n",
    "# Create the parameter grid \n",
    "param_grid = {'max_depth': [80, 90, 100, 110],\n",
    "              'max_features': [2, 3],\n",
    "              'min_samples_leaf': [3, 4, 5],\n",
    "              'min_samples_split': [8, 10, 12],\n",
    "              'n_estimators': [100, 200, 300, 1000]}\n",
    "\n",
    "# Define which model to use\n",
    "model = RandomForestRegressor()\n",
    "\n",
    "# Instantiate the grid search model\n",
    "grid_search_model = GridSearchCV(estimator = model, \n",
    "                                 param_grid = param_grid, \n",
    "                                 cv = 5,\n",
    "                                 n_jobs = -1, \n",
    "                                 scoring='f1')\n",
    "```\n",
    "\n",
    "* define the ML model to be used\n",
    "* put the model into `GridSearchCV`\n",
    "* pass in `param_grid`\n",
    "* frequency of cross-validation\n",
    "* define a scoring metric to evaluate the models\n",
    "    * the default option is accuracy which isn't optimal for fraud detection\n",
    "    * use `precision`, `recall` or `f1`\n",
    "\n",
    "```python\n",
    "# Fit the grid search to the data\n",
    "grid_search_model.fit(X_train, y_train)\n",
    "\n",
    "# Get the optimal parameters \n",
    "grid_search_model.best_params_\n",
    "\n",
    "{'bootstrap': True,\n",
    " 'max_depth': 80,\n",
    " 'max_features': 3,\n",
    " 'min_samples_leaf': 5,\n",
    " 'min_samples_split': 12,\n",
    " 'n_estimators': 100}\n",
    "```\n",
    "\n",
    "* once `GridSearchCV` and `model` are fit to the data, obtain the parameters belonging to the optimal model by using the `best_params_` attribute\n",
    "* `GridSearchCV` is computationally heavy\n",
    "    * Can require many hours, depending on the amount of data and number of parameters in the grid\n",
    "    * __**Save the Results**__\n",
    "\n",
    "```python\n",
    "# Get the best_estimator results\n",
    "grid_search.best_estimator_\n",
    "grid_search.best_score_\n",
    "```\n",
    "\n",
    "* `best_score_`: mean cross-validated score of the `best_estimator_`, which depends on the `scoring` option"
   ]
  },
  {
   "cell_type": "markdown",
   "metadata": {},
   "source": [
    "### Model adjustments\n",
    "\n",
    "A simple way to adjust the random forest model to deal with highly imbalanced fraud data, is to use the **`class_weights` option** when defining the `sklearn` model. However, as you will see, it is a bit of a blunt force mechanism and might not work for your very special case.\n",
    "\n",
    "In this exercise you'll explore the ``weight = \"balanced_subsample\"`` mode the Random Forest model from the earlier exercise. You already have split your data in a training and test set, i.e `X_train`, `X_test`, `y_train`, `y_test` are available. The metrics function have already been imported.\n",
    "\n",
    "**Instructions**\n",
    "\n",
    "* Set the `class_weight` argument of your classifier to `balanced_subsample`.\n",
    "* Fit your model to your training set.\n",
    "* Obtain predictions and probabilities from X_test.\n",
    "* Obtain the `roc_auc_score`, the classification report and confusion matrix."
   ]
  },
  {
   "cell_type": "code",
   "execution_count": 97,
   "metadata": {},
   "outputs": [
    {
     "name": "stdout",
     "output_type": "stream",
     "text": [
      "ROC Score:\n",
      "0.9750299724096771\n",
      "\n",
      "Classification Report:\n",
      "              precision    recall  f1-score   support\n",
      "\n",
      "           0       0.99      1.00      1.00      2099\n",
      "           1       0.99      0.80      0.88        91\n",
      "\n",
      "    accuracy                           0.99      2190\n",
      "   macro avg       0.99      0.90      0.94      2190\n",
      "weighted avg       0.99      0.99      0.99      2190\n",
      "\n",
      "\n",
      "Confusion Matrix:\n",
      "[[2098    1]\n",
      " [  18   73]]\n"
     ]
    }
   ],
   "source": [
    "# Define the model with balanced subsample\n",
    "model = RandomForestClassifier(class_weight='balanced_subsample', random_state=5, n_estimators=100)\n",
    "\n",
    "# Fit your training model to your training set\n",
    "model.fit(X_train, y_train)\n",
    "\n",
    "# Obtain the predicted values and probabilities from the model \n",
    "predicted = model.predict(X_test)\n",
    "probs = model.predict_proba(X_test)\n",
    "\n",
    "# Print the ROC curve, classification report and confusion matrix\n",
    "print('ROC Score:')\n",
    "print(roc_auc_score(y_test, probs[:,1]))\n",
    "print('\\nClassification Report:')\n",
    "print(classification_report(y_test, predicted))\n",
    "print('\\nConfusion Matrix:')\n",
    "print(confusion_matrix(y_test, predicted))"
   ]
  },
  {
   "cell_type": "markdown",
   "metadata": {},
   "source": [
    "**You can see that the model results don't improve drastically. We now have 3 less false positives, but now 19 in stead of 18 false negatives, i.e. cases of fraud we are not catching. If we mostly care about catching fraud, and not so much about the false positives, this does actually not improve our model at all, albeit a simple option to try. In the next exercises you'll see how to more smartly tweak your model to focus on reducing false negatives and catch more fraud.**"
   ]
  },
  {
   "cell_type": "markdown",
   "metadata": {},
   "source": [
    "### Adjusting RF for fraud detection\n",
    "\n",
    "In this exercise you're going to dive into the options for the random forest classifier, as we'll **assign weights** and **tweak the shape** of the decision trees in the forest. You'll **define weights manually**, to be able to off-set that imbalance slightly. In our case we have 300 fraud to 7000 non-fraud cases, so by setting the weight ratio to 1:12, we get to a 1/3 fraud to 2/3 non-fraud ratio, which is good enough for training the model on.\n",
    "\n",
    "The data in this exercise has already been split into training and test set, so you just need to focus on defining your model. You can then use the function `get_model_results()` as a short cut. This function fits the model to your training data, predicts and obtains performance metrics similar to the steps you did in the previous exercises.\n",
    "\n",
    "**Instructions**\n",
    "\n",
    "* Change the `weight` option to set the ratio to 1 to 12 for the non-fraud and fraud cases, and set the split criterion to 'entropy'.\n",
    "* Set the maximum depth to 10.\n",
    "* Set the minimal samples in leaf nodes to 10.\n",
    "* Set the number of trees to use in the model to 20."
   ]
  },
  {
   "cell_type": "markdown",
   "metadata": {},
   "source": [
    "#### def get_model_results"
   ]
  },
  {
   "cell_type": "code",
   "execution_count": 98,
   "metadata": {},
   "outputs": [],
   "source": [
    "def get_model_results(X_train: np.ndarray, y_train: np.ndarray,\n",
    "                      X_test: np.ndarray, y_test: np.ndarray, model):\n",
    "    \"\"\"\n",
    "    model: sklearn model (e.g. RandomForestClassifier)\n",
    "    \"\"\"\n",
    "    # Fit your training model to your training set\n",
    "    model.fit(X_train, y_train)\n",
    "\n",
    "    # Obtain the predicted values and probabilities from the model \n",
    "    predicted = model.predict(X_test)\n",
    "    \n",
    "    try:\n",
    "        probs = model.predict_proba(X_test)\n",
    "        print('ROC Score:')\n",
    "        print(roc_auc_score(y_test, probs[:,1]))\n",
    "    except AttributeError:\n",
    "        pass\n",
    "\n",
    "    # Print the ROC curve, classification report and confusion matrix\n",
    "    print('\\nClassification Report:')\n",
    "    print(classification_report(y_test, predicted))\n",
    "    print('\\nConfusion Matrix:')\n",
    "    print(confusion_matrix(y_test, predicted))"
   ]
  },
  {
   "cell_type": "code",
   "execution_count": 99,
   "metadata": {},
   "outputs": [
    {
     "name": "stdout",
     "output_type": "stream",
     "text": [
      "ROC Score:\n",
      "0.9609651901219315\n",
      "\n",
      "Classification Report:\n",
      "              precision    recall  f1-score   support\n",
      "\n",
      "           0       0.99      1.00      1.00      2099\n",
      "           1       0.97      0.85      0.91        91\n",
      "\n",
      "    accuracy                           0.99      2190\n",
      "   macro avg       0.98      0.92      0.95      2190\n",
      "weighted avg       0.99      0.99      0.99      2190\n",
      "\n",
      "\n",
      "Confusion Matrix:\n",
      "[[2097    2]\n",
      " [  14   77]]\n"
     ]
    }
   ],
   "source": [
    "# Change the model options\n",
    "model = RandomForestClassifier(bootstrap=True,\n",
    "                               class_weight={0:1, 1:12},\n",
    "                               criterion='entropy',\n",
    "                               # Change depth of model\n",
    "                               max_depth=10,\n",
    "                               # Change the number of samples in leaf nodes\n",
    "                               min_samples_leaf=10, \n",
    "                               # Change the number of trees to use\n",
    "                               n_estimators=20,\n",
    "                               n_jobs=-1,\n",
    "                               random_state=5)\n",
    "\n",
    "# Run the function get_model_results\n",
    "get_model_results(X_train, y_train, X_test, y_test, model)"
   ]
  },
  {
   "cell_type": "markdown",
   "metadata": {},
   "source": [
    "**By smartly defining more options in the model, you can obtain better predictions. You have effectively reduced the number of false negatives, i.e. you are catching more cases of fraud, whilst keeping the number of false positives low. In this exercise you've manually changed the options of the model. There is a smarter way of doing it, by using `GridSearchCV`, which you'll see in the next exercise!**"
   ]
  },
  {
   "cell_type": "markdown",
   "metadata": {},
   "source": [
    "### Parameter optimization with GridSearchCV\n",
    "\n",
    "In this exercise you're going to **tweak our model in a less \"random\" way**, but use `GridSearchCV` to do the work for you.\n",
    "\n",
    "With `GridSearchCV` you can define **which performance metric to score** the options on. Since for fraud detection we are mostly interested in catching as many fraud cases as possible, you can optimize your model settings to get the best possible Recall score. If you also cared about reducing the number of false positives, you could optimize on F1-score, this gives you that nice Precision-Recall trade-off.\n",
    "\n",
    "`GridSearchCV` has already been imported from `sklearn.model_selection`, so let's give it a try!\n",
    "\n",
    "**Instructions**\n",
    "\n",
    "* Define in the parameter grid that you want to try 1 and 30 trees, and that you want to try the `gini` and `entropy` split criterion.\n",
    "* Define the model to be simple `RandomForestClassifier`, you want to keep the random_state at 5 to be able to compare models.\n",
    "* Set the `scoring` option such that it optimizes for recall.\n",
    "* Fit the model to the training data `X_train` and `y_train` and obtain the best parameters for the model."
   ]
  },
  {
   "cell_type": "code",
   "execution_count": 101,
   "metadata": {},
   "outputs": [
    {
     "data": {
      "text/plain": [
       "{'criterion': 'gini',\n",
       " 'max_depth': 8,\n",
       " 'max_features': 'log2',\n",
       " 'n_estimators': 30}"
      ]
     },
     "execution_count": 101,
     "metadata": {},
     "output_type": "execute_result"
    }
   ],
   "source": [
    "# Define the parameter sets to test\n",
    "param_grid = {'n_estimators': [1, 30],\n",
    "              'max_features': ['auto', 'log2'], \n",
    "              'max_depth': [4, 8, 10, 12],\n",
    "              'criterion': ['gini', 'entropy']}\n",
    "\n",
    "# Define the model to use\n",
    "model = RandomForestClassifier(random_state=5)\n",
    "\n",
    "# Combine the parameter sets with the defined model\n",
    "CV_model = GridSearchCV(estimator=model, param_grid=param_grid, cv=5, scoring='recall', n_jobs=-1)\n",
    "\n",
    "# Fit the model to our training data and obtain best parameters\n",
    "####\n",
    "####\n",
    "CV_model.fit(X_train, y_train)\n",
    "CV_model.best_params_"
   ]
  },
  {
   "cell_type": "markdown",
   "metadata": {},
   "source": [
    "### Model results with GridSearchCV\n",
    "\n",
    "You discovered that the **best parameters for your model** are that the split criterion should be set to `'gini'`, the number of estimators (trees) should be 30, the maximum depth of the model should be 8 and the maximum features should be set to `\"log2\"`.\n",
    "\n",
    "Let's give this a try and see how well our model performs. You can use the `get_model_results()` function again to save time.\n",
    "\n",
    "**Instructions**\n",
    "\n",
    "* Input the optimal settings into the model definition.\n",
    "* Fit the model, obtain predictions and get the performance parameters with `get_model_results()`."
   ]
  },
  {
   "cell_type": "code",
   "execution_count": 102,
   "metadata": {},
   "outputs": [
    {
     "name": "stdout",
     "output_type": "stream",
     "text": [
      "ROC Score:\n",
      "0.9749697658225529\n",
      "\n",
      "Classification Report:\n",
      "              precision    recall  f1-score   support\n",
      "\n",
      "           0       0.99      1.00      1.00      2099\n",
      "           1       0.95      0.84      0.89        91\n",
      "\n",
      "    accuracy                           0.99      2190\n",
      "   macro avg       0.97      0.92      0.94      2190\n",
      "weighted avg       0.99      0.99      0.99      2190\n",
      "\n",
      "\n",
      "Confusion Matrix:\n",
      "[[2095    4]\n",
      " [  15   76]]\n"
     ]
    }
   ],
   "source": [
    "# Input the optimal parameters in the model\n",
    "model = RandomForestClassifier(class_weight={0:1,1:12},\n",
    "                               criterion='gini',\n",
    "                               max_depth=8,\n",
    "                               max_features='log2', \n",
    "                               min_samples_leaf=10,\n",
    "                               n_estimators=30,\n",
    "                               n_jobs=-1,\n",
    "                               random_state=5)\n",
    "\n",
    "# Get results from your model\n",
    "get_model_results(X_train, y_train, X_test, y_test, model)"
   ]
  },
  {
   "cell_type": "markdown",
   "metadata": {},
   "source": [
    "**The model has been improved even further. The number of false positives has now been slightly reduced even further, which means we are catching more cases of fraud. However, you see that the number of false positives actually went up. That is that Precision-Recall trade-off in action. To decide which final model is best, you need to take into account how bad it is not to catch fraudsters, versus how many false positives the fraud analytics team can deal with. Ultimately, this final decision should be made by you and the fraud team together.**"
   ]
  },
  {
   "cell_type": "markdown",
   "metadata": {},
   "source": [
    "## Ensemble methods\n",
    "\n",
    "![ensemble](https://raw.githubusercontent.com/trenton3983/DataCamp/master/Images/fraud_detection/ensemble.JPG)\n",
    "* Ensemble methods are techniques that create multiple machine learning models and then combine them to produce a final result\n",
    "* Usually produce more accurate predictions than a single model\n",
    "* The goal of an ML problem is to find a single model that will best predict our wanted outcome\n",
    "    * Use ensemble methods rather than making one model and hoping it's best, most accurate predictor\n",
    "* Ensemble methods take a myriad of models into account and average them to produce one final model\n",
    "    * Ensures the predictions are robust\n",
    "    * Less likely to be the result of overfitting\n",
    "    * Can improve prediction performance\n",
    "        * Especially by combining models with different recall and precision scores\n",
    "    * Are a winning formula at Kaggle competitions\n",
    "* The Random Forest classifier is an ensemble of Decision Trees\n",
    "    * **Bootstrap Aggregation** or **Bagging Ensemble** method\n",
    "    * In a Random Forest, models are trained on random subsamples of data and the results are aggregated by taking the average prediction of all the trees"
   ]
  },
  {
   "cell_type": "markdown",
   "metadata": {},
   "source": [
    "#### Stacking Ensemble Methods\n",
    "\n",
    "![stacking ensemble](https://raw.githubusercontent.com/trenton3983/DataCamp/master/Images/fraud_detection/ensemble_stacking.JPG)\n",
    "* Multiple models are combined via a \"voting\" rule on the model outcome\n",
    "* The base level models are each trained based on the complete training set\n",
    "    * Unlike the Bagging method, models are not trained on a subsample of the data\n",
    "* Algorithms of different types can be combined"
   ]
  },
  {
   "cell_type": "markdown",
   "metadata": {},
   "source": [
    "#### Voting Classifier\n",
    "\n",
    "* available in sklearn\n",
    "    * easy way of implementing an ensemble model\n",
    "\n",
    "```python\n",
    "from sklearn.ensemble import VotingClassifier\n",
    "\n",
    "# Define Models\n",
    "clf1 = LogisticRegression(random_state=1)\n",
    "clf2 = RandomForestClassifier(random_state=1)\n",
    "clf3 = GaussianNB()\n",
    "\n",
    "# Combine models into ensemble\n",
    "ensemble_model = VotingClassifier(estimators=[('lr', clf1), ('rf', clf2), ('gnb', clf3)], voting='hard')\n",
    "\n",
    "# Fit and predict as with other models\n",
    "ensemble_model.fit(X_train, y_train)\n",
    "ensemble_model.predict(X_test)\n",
    "```\n",
    "\n",
    "* the `voting='hard'` option uses the predicted class labels and takes the majority vote\n",
    "* the `voting='soft'` option takes the average probability by combining the predicted probabilities of the individual models\n",
    "* Weights can be assigned to the `VotingClassifer` with `weights=[2,1,1]`\n",
    "    * Useful when one model significantly outperforms the others"
   ]
  },
  {
   "cell_type": "markdown",
   "metadata": {},
   "source": [
    "#### Reliable Labels\n",
    "\n",
    "* In real life it's unlikely the data will have truly unbiased, reliable labels for the model\n",
    "* In credit card fraud you often will have reliable labels, in which case, use the methods learned so far\n",
    "* Most cases you'll need to rely on unsupervised learning techniques to detect fraud"
   ]
  },
  {
   "cell_type": "markdown",
   "metadata": {},
   "source": [
    "### Logistic Regression\n",
    "\n",
    "In this last lesson you'll **combine three algorithms** into one model with the **VotingClassifier**. This allows us to benefit from the different aspects from all models, and hopefully improve overall performance and detect more fraud. The first model, the Logistic Regression, has a slightly higher recall score than our optimal Random Forest model, but gives a lot more false positives. You'll also add a Decision Tree with balanced weights to it. The data is already split into a training and test set, i.e. `X_train`, `y_train`, `X_test`, `y_test` are available.\n",
    "\n",
    "In order to understand how the Voting Classifier can potentially improve your original model, you should check the standalone results of the Logistic Regression model first.\n",
    "\n",
    "**Instructions**\n",
    "\n",
    "* Define a LogisticRegression model with class weights that are 1:15 for the fraud cases.\n",
    "* Fit the model to the training set, and obtain the model predictions.\n",
    "* Print the classification report and confusion matrix."
   ]
  },
  {
   "cell_type": "code",
   "execution_count": 103,
   "metadata": {},
   "outputs": [
    {
     "name": "stdout",
     "output_type": "stream",
     "text": [
      "ROC Score:\n",
      "0.9722054981702433\n",
      "\n",
      "Classification Report:\n",
      "              precision    recall  f1-score   support\n",
      "\n",
      "           0       0.99      0.98      0.99      2099\n",
      "           1       0.63      0.88      0.73        91\n",
      "\n",
      "    accuracy                           0.97      2190\n",
      "   macro avg       0.81      0.93      0.86      2190\n",
      "weighted avg       0.98      0.97      0.98      2190\n",
      "\n",
      "\n",
      "Confusion Matrix:\n",
      "[[2052   47]\n",
      " [  11   80]]\n"
     ]
    }
   ],
   "source": [
    "# Define the Logistic Regression model with weights\n",
    "model = LogisticRegression(class_weight={0:1, 1:15}, random_state=5, solver='liblinear')\n",
    "\n",
    "# Get the model results\n",
    "get_model_results(X_train, y_train, X_test, y_test, model)"
   ]
  },
  {
   "cell_type": "markdown",
   "metadata": {},
   "source": [
    "**As you can see the Logistic Regression has quite different performance from the Random Forest. More false positives, but also a better Recall. It will therefore will a useful addition to the Random Forest in an ensemble model.**"
   ]
  },
  {
   "cell_type": "markdown",
   "metadata": {},
   "source": [
    "### Voting Classifier\n",
    "\n",
    "Let's now **combine three machine learning models into one**, to improve our Random Forest fraud detection model from before. You'll combine our usual Random Forest model, with the Logistic Regression from the previous exercise, with a simple Decision Tree. You can use the short cut `get_model_results()` to see the immediate result of the ensemble model.\n",
    "\n",
    "**Instructions**\n",
    "\n",
    "* Import the Voting Classifier package.\n",
    "* Define the three models; use the Logistic Regression from before, the Random Forest from previous exercises and a Decision tree with balanced class weights.\n",
    "* Define the ensemble model by inputting the three classifiers with their respective labels."
   ]
  },
  {
   "cell_type": "code",
   "execution_count": 104,
   "metadata": {},
   "outputs": [
    {
     "name": "stdout",
     "output_type": "stream",
     "text": [
      "\n",
      "Classification Report:\n",
      "              precision    recall  f1-score   support\n",
      "\n",
      "           0       0.99      1.00      0.99      2099\n",
      "           1       0.90      0.86      0.88        91\n",
      "\n",
      "    accuracy                           0.99      2190\n",
      "   macro avg       0.95      0.93      0.94      2190\n",
      "weighted avg       0.99      0.99      0.99      2190\n",
      "\n",
      "\n",
      "Confusion Matrix:\n",
      "[[2090    9]\n",
      " [  13   78]]\n"
     ]
    }
   ],
   "source": [
    "# Define the three classifiers to use in the ensemble\n",
    "clf1 = LogisticRegression(class_weight={0:1, 1:15},\n",
    "                          random_state=5,\n",
    "                          solver='liblinear')\n",
    "\n",
    "clf2 = RandomForestClassifier(class_weight={0:1, 1:12}, \n",
    "                              criterion='gini', \n",
    "                              max_depth=8, \n",
    "                              max_features='log2',\n",
    "                              min_samples_leaf=10, \n",
    "                              n_estimators=30, \n",
    "                              n_jobs=-1,\n",
    "                              random_state=5)\n",
    "\n",
    "clf3 = DecisionTreeClassifier(random_state=5,\n",
    "                              class_weight=\"balanced\")\n",
    "\n",
    "# Combine the classifiers in the ensemble model\n",
    "ensemble_model = VotingClassifier(estimators=[('lr', clf1), ('rf', clf2), ('dt', clf3)], voting='hard')\n",
    "\n",
    "# Get the results \n",
    "get_model_results(X_train, y_train, X_test, y_test, ensemble_model)"
   ]
  },
  {
   "cell_type": "markdown",
   "metadata": {},
   "source": [
    "**By combining the classifiers, you can take the best of multiple models. You've increased the cases of fraud you are catching from 76 to 78, and you only have 5 extra false positives in return. If you do care about catching as many fraud cases as you can, whilst keeping the false positives low, this is a pretty good trade-off. The Logistic Regression as a standalone was quite bad in terms of false positives, and the Random Forest was worse in terms of false negatives. By combining these together you indeed managed to improve performance.**"
   ]
  },
  {
   "cell_type": "markdown",
   "metadata": {},
   "source": [
    "### Adjusting weights within the Voting Classifier\n",
    "\n",
    "You've just seen that the Voting Classifier allows you to improve your fraud detection performance, by combining good aspects from multiple models. Now let's try to **adjust the weights** we give to these models. By increasing or decreasing weights you can play with **how much emphasis you give to a particular model** relative to the rest. This comes in handy when a certain model has overall better performance than the rest, but you still want to combine aspects of the others to further improve your results.\n",
    "\n",
    "For this exercise the data is already split into a training and test set, and `clf1`, `clf2` and `clf3` are available and defined as before, i.e. they are the Logistic Regression, the Random Forest model and the Decision Tree respectively.\n",
    "\n",
    "**Instructions**\n",
    "\n",
    "* Define an ensemble method where you over weigh the second classifier (`clf2`) with 4 to 1 to the rest of the classifiers.\n",
    "* Fit the model to the training and test set, and obtain the predictions `predicted` from the ensemble model.\n",
    "* Print the performance metrics, this is ready for you to run."
   ]
  },
  {
   "cell_type": "code",
   "execution_count": 105,
   "metadata": {},
   "outputs": [
    {
     "name": "stdout",
     "output_type": "stream",
     "text": [
      "ROC Score:\n",
      "0.9739226947421326\n",
      "\n",
      "Classification Report:\n",
      "              precision    recall  f1-score   support\n",
      "\n",
      "           0       0.99      1.00      1.00      2099\n",
      "           1       0.94      0.85      0.89        91\n",
      "\n",
      "    accuracy                           0.99      2190\n",
      "   macro avg       0.97      0.92      0.94      2190\n",
      "weighted avg       0.99      0.99      0.99      2190\n",
      "\n",
      "\n",
      "Confusion Matrix:\n",
      "[[2094    5]\n",
      " [  14   77]]\n"
     ]
    }
   ],
   "source": [
    "# Define the ensemble model\n",
    "ensemble_model = VotingClassifier(estimators=[('lr', clf1), ('rf', clf2), ('gnb', clf3)], voting='soft', weights=[1, 4, 1], flatten_transform=True)\n",
    "\n",
    "# Get results \n",
    "get_model_results(X_train, y_train, X_test, y_test, ensemble_model)"
   ]
  },
  {
   "cell_type": "markdown",
   "metadata": {},
   "source": [
    "**The weight option allows you to play with the individual models to get the best final mix for your fraud detection model. Now that you have finalized fraud detection with supervised learning, let's have a look at how fraud detetion can be done when you don't have any labels to train on.**"
   ]
  },
  {
   "cell_type": "markdown",
   "metadata": {},
   "source": [
    "# Fraud detection using unlabeled data\n",
    "\n",
    "Use unsupervised learning techniques to detect fraud. Segment customers, use K-means clustering and other clustering algorithms to find suspicious occurrences in your data."
   ]
  },
  {
   "cell_type": "markdown",
   "metadata": {},
   "source": [
    "## Normal versus abnormal behavior\n",
    "\n",
    "* Explore fraud detection without reliable data labels\n",
    "* Unsupervised learning to detect suspicious behavior\n",
    "* Abnormal behavior isn't necessarily fraudulent\n",
    "* Challenging because it's difficult to validate"
   ]
  },
  {
   "cell_type": "markdown",
   "metadata": {},
   "source": [
    "#### What's normal behavior?\n",
    "\n",
    "* thoroughly describe the data:\n",
    "    * plot histograms\n",
    "    * check for outliers\n",
    "    * investigate correlations\n",
    "* Are there any known historic cases of fraud? What typifies those cases?\n",
    "* Investigate whether the data is homogeneous, or whether different types of clients display different behavior\n",
    "* Check patterns within subgroups of data: is your data homogeneous?\n",
    "* Verify data points are the same type:\n",
    "    * individuals\n",
    "    * groups\n",
    "    * companies\n",
    "    * governmental organizations\n",
    "* Do the data points differ on:\n",
    "    * spending patterns\n",
    "    * age\n",
    "    * location\n",
    "    * frequency\n",
    "* For credit card fraud, location can be an indication of fraud\n",
    "* This goes for e-commerce sites\n",
    "    * where's the IP address located and where is the product ordered to ship?\n",
    "* Create a separate model for each segment\n",
    "* How to aggregate the many model results back into one final list"
   ]
  },
  {
   "cell_type": "markdown",
   "metadata": {},
   "source": [
    "### Exploring the data\n",
    "\n",
    "In the next exercises, you will be looking at bank **payment transaction data**. The financial transactions are categorized by type of expense, as well as the amount spent. Moreover, you have some client characteristics available such as age group and gender. Some of the transactions are labeled as fraud; you'll treat these labels as given and will use those to validate the results.\n",
    "\n",
    "When using unsupervised learning techniques for fraud detection, you want to **distinguish normal from abnormal** (thus potentially fraudulent) behavior. As a fraud analyst to understand what is \"normal\", you need to have a good understanding of the data and its characteristics. Let's explore the data in this first exercise.\n",
    "\n",
    "**Instructions 1/3**\n",
    "\n",
    "* Obtain the shape of the dataframe `df` to inspect the size of our data and display the first rows to see which features are available."
   ]
  },
  {
   "cell_type": "code",
   "execution_count": 108,
   "metadata": {},
   "outputs": [],
   "source": [
    "banksim_df = pd.read_csv(r'C:\\Users\\dell\\Desktop\\ine 2\\S4\\machine learning\\TP2\\chapitre_3\\banksim.csv')\n",
    "banksim_df.drop(['Unnamed: 0'], axis=1, inplace=True)\n",
    "banksim_adj_df = pd.read_csv(r'C:\\Users\\dell\\Desktop\\ine 2\\S4\\machine learning\\TP2\\chapitre_3\\banksim_adj.csv')\n",
    "banksim_adj_df.drop(['Unnamed: 0'], axis=1, inplace=True)"
   ]
  },
  {
   "cell_type": "code",
   "execution_count": 109,
   "metadata": {},
   "outputs": [
    {
     "data": {
      "text/plain": [
       "(7200, 5)"
      ]
     },
     "execution_count": 109,
     "metadata": {},
     "output_type": "execute_result"
    }
   ],
   "source": [
    "banksim_df.shape"
   ]
  },
  {
   "cell_type": "code",
   "execution_count": 110,
   "metadata": {},
   "outputs": [
    {
     "data": {
      "text/html": [
       "<div>\n",
       "<style scoped>\n",
       "    .dataframe tbody tr th:only-of-type {\n",
       "        vertical-align: middle;\n",
       "    }\n",
       "\n",
       "    .dataframe tbody tr th {\n",
       "        vertical-align: top;\n",
       "    }\n",
       "\n",
       "    .dataframe thead th {\n",
       "        text-align: right;\n",
       "    }\n",
       "</style>\n",
       "<table border=\"1\" class=\"dataframe\">\n",
       "  <thead>\n",
       "    <tr style=\"text-align: right;\">\n",
       "      <th></th>\n",
       "      <th>age</th>\n",
       "      <th>gender</th>\n",
       "      <th>category</th>\n",
       "      <th>amount</th>\n",
       "      <th>fraud</th>\n",
       "    </tr>\n",
       "  </thead>\n",
       "  <tbody>\n",
       "    <tr>\n",
       "      <th>0</th>\n",
       "      <td>3</td>\n",
       "      <td>F</td>\n",
       "      <td>es_transportation</td>\n",
       "      <td>49.71</td>\n",
       "      <td>0</td>\n",
       "    </tr>\n",
       "    <tr>\n",
       "      <th>1</th>\n",
       "      <td>4</td>\n",
       "      <td>F</td>\n",
       "      <td>es_health</td>\n",
       "      <td>39.29</td>\n",
       "      <td>0</td>\n",
       "    </tr>\n",
       "    <tr>\n",
       "      <th>2</th>\n",
       "      <td>3</td>\n",
       "      <td>F</td>\n",
       "      <td>es_transportation</td>\n",
       "      <td>18.76</td>\n",
       "      <td>0</td>\n",
       "    </tr>\n",
       "    <tr>\n",
       "      <th>3</th>\n",
       "      <td>4</td>\n",
       "      <td>M</td>\n",
       "      <td>es_transportation</td>\n",
       "      <td>13.95</td>\n",
       "      <td>0</td>\n",
       "    </tr>\n",
       "    <tr>\n",
       "      <th>4</th>\n",
       "      <td>2</td>\n",
       "      <td>M</td>\n",
       "      <td>es_transportation</td>\n",
       "      <td>49.87</td>\n",
       "      <td>0</td>\n",
       "    </tr>\n",
       "  </tbody>\n",
       "</table>\n",
       "</div>"
      ],
      "text/plain": [
       "  age gender           category  amount  fraud\n",
       "0   3      F  es_transportation   49.71      0\n",
       "1   4      F          es_health   39.29      0\n",
       "2   3      F  es_transportation   18.76      0\n",
       "3   4      M  es_transportation   13.95      0\n",
       "4   2      M  es_transportation   49.87      0"
      ]
     },
     "execution_count": 110,
     "metadata": {},
     "output_type": "execute_result"
    }
   ],
   "source": [
    "banksim_df.head()"
   ]
  },
  {
   "cell_type": "code",
   "execution_count": 111,
   "metadata": {},
   "outputs": [
    {
     "data": {
      "text/plain": [
       "(7189, 18)"
      ]
     },
     "execution_count": 111,
     "metadata": {},
     "output_type": "execute_result"
    }
   ],
   "source": [
    "banksim_adj_df.shape"
   ]
  },
  {
   "cell_type": "code",
   "execution_count": 112,
   "metadata": {},
   "outputs": [
    {
     "data": {
      "text/html": [
       "<div>\n",
       "<style scoped>\n",
       "    .dataframe tbody tr th:only-of-type {\n",
       "        vertical-align: middle;\n",
       "    }\n",
       "\n",
       "    .dataframe tbody tr th {\n",
       "        vertical-align: top;\n",
       "    }\n",
       "\n",
       "    .dataframe thead th {\n",
       "        text-align: right;\n",
       "    }\n",
       "</style>\n",
       "<table border=\"1\" class=\"dataframe\">\n",
       "  <thead>\n",
       "    <tr style=\"text-align: right;\">\n",
       "      <th></th>\n",
       "      <th>age</th>\n",
       "      <th>amount</th>\n",
       "      <th>fraud</th>\n",
       "      <th>M</th>\n",
       "      <th>es_barsandrestaurants</th>\n",
       "      <th>es_contents</th>\n",
       "      <th>es_fashion</th>\n",
       "      <th>es_food</th>\n",
       "      <th>es_health</th>\n",
       "      <th>es_home</th>\n",
       "      <th>es_hotelservices</th>\n",
       "      <th>es_hyper</th>\n",
       "      <th>es_leisure</th>\n",
       "      <th>es_otherservices</th>\n",
       "      <th>es_sportsandtoys</th>\n",
       "      <th>es_tech</th>\n",
       "      <th>es_transportation</th>\n",
       "      <th>es_travel</th>\n",
       "    </tr>\n",
       "  </thead>\n",
       "  <tbody>\n",
       "    <tr>\n",
       "      <th>0</th>\n",
       "      <td>3</td>\n",
       "      <td>49.71</td>\n",
       "      <td>0</td>\n",
       "      <td>0</td>\n",
       "      <td>0</td>\n",
       "      <td>0</td>\n",
       "      <td>0</td>\n",
       "      <td>0</td>\n",
       "      <td>0</td>\n",
       "      <td>0</td>\n",
       "      <td>0</td>\n",
       "      <td>0</td>\n",
       "      <td>0</td>\n",
       "      <td>0</td>\n",
       "      <td>0</td>\n",
       "      <td>0</td>\n",
       "      <td>1</td>\n",
       "      <td>0</td>\n",
       "    </tr>\n",
       "    <tr>\n",
       "      <th>1</th>\n",
       "      <td>4</td>\n",
       "      <td>39.29</td>\n",
       "      <td>0</td>\n",
       "      <td>0</td>\n",
       "      <td>0</td>\n",
       "      <td>0</td>\n",
       "      <td>0</td>\n",
       "      <td>0</td>\n",
       "      <td>1</td>\n",
       "      <td>0</td>\n",
       "      <td>0</td>\n",
       "      <td>0</td>\n",
       "      <td>0</td>\n",
       "      <td>0</td>\n",
       "      <td>0</td>\n",
       "      <td>0</td>\n",
       "      <td>0</td>\n",
       "      <td>0</td>\n",
       "    </tr>\n",
       "    <tr>\n",
       "      <th>2</th>\n",
       "      <td>3</td>\n",
       "      <td>18.76</td>\n",
       "      <td>0</td>\n",
       "      <td>0</td>\n",
       "      <td>0</td>\n",
       "      <td>0</td>\n",
       "      <td>0</td>\n",
       "      <td>0</td>\n",
       "      <td>0</td>\n",
       "      <td>0</td>\n",
       "      <td>0</td>\n",
       "      <td>0</td>\n",
       "      <td>0</td>\n",
       "      <td>0</td>\n",
       "      <td>0</td>\n",
       "      <td>0</td>\n",
       "      <td>1</td>\n",
       "      <td>0</td>\n",
       "    </tr>\n",
       "    <tr>\n",
       "      <th>3</th>\n",
       "      <td>4</td>\n",
       "      <td>13.95</td>\n",
       "      <td>0</td>\n",
       "      <td>1</td>\n",
       "      <td>0</td>\n",
       "      <td>0</td>\n",
       "      <td>0</td>\n",
       "      <td>0</td>\n",
       "      <td>0</td>\n",
       "      <td>0</td>\n",
       "      <td>0</td>\n",
       "      <td>0</td>\n",
       "      <td>0</td>\n",
       "      <td>0</td>\n",
       "      <td>0</td>\n",
       "      <td>0</td>\n",
       "      <td>1</td>\n",
       "      <td>0</td>\n",
       "    </tr>\n",
       "    <tr>\n",
       "      <th>4</th>\n",
       "      <td>2</td>\n",
       "      <td>49.87</td>\n",
       "      <td>0</td>\n",
       "      <td>1</td>\n",
       "      <td>0</td>\n",
       "      <td>0</td>\n",
       "      <td>0</td>\n",
       "      <td>0</td>\n",
       "      <td>0</td>\n",
       "      <td>0</td>\n",
       "      <td>0</td>\n",
       "      <td>0</td>\n",
       "      <td>0</td>\n",
       "      <td>0</td>\n",
       "      <td>0</td>\n",
       "      <td>0</td>\n",
       "      <td>1</td>\n",
       "      <td>0</td>\n",
       "    </tr>\n",
       "  </tbody>\n",
       "</table>\n",
       "</div>"
      ],
      "text/plain": [
       "   age  amount  fraud  M  es_barsandrestaurants  es_contents  es_fashion  \\\n",
       "0    3   49.71      0  0                      0            0           0   \n",
       "1    4   39.29      0  0                      0            0           0   \n",
       "2    3   18.76      0  0                      0            0           0   \n",
       "3    4   13.95      0  1                      0            0           0   \n",
       "4    2   49.87      0  1                      0            0           0   \n",
       "\n",
       "   es_food  es_health  es_home  es_hotelservices  es_hyper  es_leisure  \\\n",
       "0        0          0        0                 0         0           0   \n",
       "1        0          1        0                 0         0           0   \n",
       "2        0          0        0                 0         0           0   \n",
       "3        0          0        0                 0         0           0   \n",
       "4        0          0        0                 0         0           0   \n",
       "\n",
       "   es_otherservices  es_sportsandtoys  es_tech  es_transportation  es_travel  \n",
       "0                 0                 0        0                  1          0  \n",
       "1                 0                 0        0                  0          0  \n",
       "2                 0                 0        0                  1          0  \n",
       "3                 0                 0        0                  1          0  \n",
       "4                 0                 0        0                  1          0  "
      ]
     },
     "execution_count": 112,
     "metadata": {},
     "output_type": "execute_result"
    }
   ],
   "source": [
    "banksim_adj_df.head()"
   ]
  },
  {
   "cell_type": "markdown",
   "metadata": {},
   "source": [
    "**Instructions 2/3**\n",
    "\n",
    "* Group the data by transaction category and take the mean of the data."
   ]
  },
  {
   "cell_type": "code",
   "execution_count": 113,
   "metadata": {},
   "outputs": [
    {
     "data": {
      "text/html": [
       "<div>\n",
       "<style scoped>\n",
       "    .dataframe tbody tr th:only-of-type {\n",
       "        vertical-align: middle;\n",
       "    }\n",
       "\n",
       "    .dataframe tbody tr th {\n",
       "        vertical-align: top;\n",
       "    }\n",
       "\n",
       "    .dataframe thead th {\n",
       "        text-align: right;\n",
       "    }\n",
       "</style>\n",
       "<table border=\"1\" class=\"dataframe\">\n",
       "  <thead>\n",
       "    <tr style=\"text-align: right;\">\n",
       "      <th></th>\n",
       "      <th>amount</th>\n",
       "      <th>fraud</th>\n",
       "    </tr>\n",
       "    <tr>\n",
       "      <th>category</th>\n",
       "      <th></th>\n",
       "      <th></th>\n",
       "    </tr>\n",
       "  </thead>\n",
       "  <tbody>\n",
       "    <tr>\n",
       "      <th>es_barsandrestaurants</th>\n",
       "      <td>43.841793</td>\n",
       "      <td>0.022472</td>\n",
       "    </tr>\n",
       "    <tr>\n",
       "      <th>es_contents</th>\n",
       "      <td>55.170000</td>\n",
       "      <td>0.000000</td>\n",
       "    </tr>\n",
       "    <tr>\n",
       "      <th>es_fashion</th>\n",
       "      <td>59.780769</td>\n",
       "      <td>0.020619</td>\n",
       "    </tr>\n",
       "    <tr>\n",
       "      <th>es_food</th>\n",
       "      <td>35.216050</td>\n",
       "      <td>0.000000</td>\n",
       "    </tr>\n",
       "    <tr>\n",
       "      <th>es_health</th>\n",
       "      <td>126.604704</td>\n",
       "      <td>0.242798</td>\n",
       "    </tr>\n",
       "    <tr>\n",
       "      <th>es_home</th>\n",
       "      <td>120.688317</td>\n",
       "      <td>0.208333</td>\n",
       "    </tr>\n",
       "    <tr>\n",
       "      <th>es_hotelservices</th>\n",
       "      <td>172.756245</td>\n",
       "      <td>0.548387</td>\n",
       "    </tr>\n",
       "    <tr>\n",
       "      <th>es_hyper</th>\n",
       "      <td>46.788180</td>\n",
       "      <td>0.125000</td>\n",
       "    </tr>\n",
       "    <tr>\n",
       "      <th>es_leisure</th>\n",
       "      <td>229.757600</td>\n",
       "      <td>1.000000</td>\n",
       "    </tr>\n",
       "    <tr>\n",
       "      <th>es_otherservices</th>\n",
       "      <td>149.648960</td>\n",
       "      <td>0.600000</td>\n",
       "    </tr>\n",
       "    <tr>\n",
       "      <th>es_sportsandtoys</th>\n",
       "      <td>157.251737</td>\n",
       "      <td>0.657895</td>\n",
       "    </tr>\n",
       "    <tr>\n",
       "      <th>es_tech</th>\n",
       "      <td>132.852862</td>\n",
       "      <td>0.179487</td>\n",
       "    </tr>\n",
       "    <tr>\n",
       "      <th>es_transportation</th>\n",
       "      <td>27.422014</td>\n",
       "      <td>0.000000</td>\n",
       "    </tr>\n",
       "    <tr>\n",
       "      <th>es_travel</th>\n",
       "      <td>231.818656</td>\n",
       "      <td>0.944444</td>\n",
       "    </tr>\n",
       "    <tr>\n",
       "      <th>es_wellnessandbeauty</th>\n",
       "      <td>66.167078</td>\n",
       "      <td>0.060606</td>\n",
       "    </tr>\n",
       "  </tbody>\n",
       "</table>\n",
       "</div>"
      ],
      "text/plain": [
       "                           amount     fraud\n",
       "category                                   \n",
       "es_barsandrestaurants   43.841793  0.022472\n",
       "es_contents             55.170000  0.000000\n",
       "es_fashion              59.780769  0.020619\n",
       "es_food                 35.216050  0.000000\n",
       "es_health              126.604704  0.242798\n",
       "es_home                120.688317  0.208333\n",
       "es_hotelservices       172.756245  0.548387\n",
       "es_hyper                46.788180  0.125000\n",
       "es_leisure             229.757600  1.000000\n",
       "es_otherservices       149.648960  0.600000\n",
       "es_sportsandtoys       157.251737  0.657895\n",
       "es_tech                132.852862  0.179487\n",
       "es_transportation       27.422014  0.000000\n",
       "es_travel              231.818656  0.944444\n",
       "es_wellnessandbeauty    66.167078  0.060606"
      ]
     },
     "execution_count": 113,
     "metadata": {},
     "output_type": "execute_result"
    }
   ],
   "source": [
    "banksim_df.groupby(['category']).mean()"
   ]
  },
  {
   "cell_type": "markdown",
   "metadata": {},
   "source": [
    "**Instructions 3/3**\n",
    "\n",
    "Based on these results, can you already say something about fraud in our data?\n",
    "\n",
    "**Possible Answers**\n",
    "\n",
    "* ~~No, I don't have enough information.~~\n",
    "* **Yes, the majority of fraud is observed in travel, leisure and sports related transactions.**"
   ]
  },
  {
   "cell_type": "markdown",
   "metadata": {},
   "source": [
    "### Customer segmentation\n",
    "\n",
    "In this exercise you're going to check whether there are any **obvious patterns** for the clients in this data, thus whether you need to segment your data into groups, or whether the data is rather homogenous.\n",
    "\n",
    "You unfortunately don't have a lot client information available; you can't for example distinguish between the wealth levels of different clients. However, there is data on **age ** available, so let's see whether there is any significant difference between behavior of age groups.\n",
    "\n",
    "**Instructions 1/3**\n",
    "\n",
    "* Group the dataframe `df` by the category `age` and get the means for each age group."
   ]
  },
  {
   "cell_type": "code",
   "execution_count": 114,
   "metadata": {},
   "outputs": [
    {
     "data": {
      "text/html": [
       "<div>\n",
       "<style scoped>\n",
       "    .dataframe tbody tr th:only-of-type {\n",
       "        vertical-align: middle;\n",
       "    }\n",
       "\n",
       "    .dataframe tbody tr th {\n",
       "        vertical-align: top;\n",
       "    }\n",
       "\n",
       "    .dataframe thead th {\n",
       "        text-align: right;\n",
       "    }\n",
       "</style>\n",
       "<table border=\"1\" class=\"dataframe\">\n",
       "  <thead>\n",
       "    <tr style=\"text-align: right;\">\n",
       "      <th></th>\n",
       "      <th>amount</th>\n",
       "      <th>fraud</th>\n",
       "    </tr>\n",
       "    <tr>\n",
       "      <th>age</th>\n",
       "      <th></th>\n",
       "      <th></th>\n",
       "    </tr>\n",
       "  </thead>\n",
       "  <tbody>\n",
       "    <tr>\n",
       "      <th>0</th>\n",
       "      <td>49.468935</td>\n",
       "      <td>0.050000</td>\n",
       "    </tr>\n",
       "    <tr>\n",
       "      <th>1</th>\n",
       "      <td>35.622829</td>\n",
       "      <td>0.026648</td>\n",
       "    </tr>\n",
       "    <tr>\n",
       "      <th>2</th>\n",
       "      <td>37.228665</td>\n",
       "      <td>0.028718</td>\n",
       "    </tr>\n",
       "    <tr>\n",
       "      <th>3</th>\n",
       "      <td>37.279338</td>\n",
       "      <td>0.023283</td>\n",
       "    </tr>\n",
       "    <tr>\n",
       "      <th>4</th>\n",
       "      <td>36.197985</td>\n",
       "      <td>0.035966</td>\n",
       "    </tr>\n",
       "    <tr>\n",
       "      <th>5</th>\n",
       "      <td>37.547521</td>\n",
       "      <td>0.023990</td>\n",
       "    </tr>\n",
       "    <tr>\n",
       "      <th>6</th>\n",
       "      <td>36.700852</td>\n",
       "      <td>0.022293</td>\n",
       "    </tr>\n",
       "    <tr>\n",
       "      <th>U</th>\n",
       "      <td>39.117000</td>\n",
       "      <td>0.000000</td>\n",
       "    </tr>\n",
       "  </tbody>\n",
       "</table>\n",
       "</div>"
      ],
      "text/plain": [
       "        amount     fraud\n",
       "age                     \n",
       "0    49.468935  0.050000\n",
       "1    35.622829  0.026648\n",
       "2    37.228665  0.028718\n",
       "3    37.279338  0.023283\n",
       "4    36.197985  0.035966\n",
       "5    37.547521  0.023990\n",
       "6    36.700852  0.022293\n",
       "U    39.117000  0.000000"
      ]
     },
     "execution_count": 114,
     "metadata": {},
     "output_type": "execute_result"
    }
   ],
   "source": [
    "banksim_df.groupby(['age']).mean()"
   ]
  },
  {
   "cell_type": "markdown",
   "metadata": {},
   "source": [
    "**Instructions 2/3**\n",
    "\n",
    "* Count the values of each age group."
   ]
  },
  {
   "cell_type": "code",
   "execution_count": 115,
   "metadata": {},
   "outputs": [
    {
     "data": {
      "text/plain": [
       "2    2333\n",
       "3    1718\n",
       "4    1279\n",
       "5     792\n",
       "1     713\n",
       "6     314\n",
       "0      40\n",
       "U      11\n",
       "Name: age, dtype: int64"
      ]
     },
     "execution_count": 115,
     "metadata": {},
     "output_type": "execute_result"
    }
   ],
   "source": [
    "banksim_df.age.value_counts()"
   ]
  },
  {
   "cell_type": "markdown",
   "metadata": {},
   "source": [
    "**Instructions 3/3**\n",
    "\n",
    "Based on the results you see, does it make sense to divide your data into age segments before running a fraud detection algorithm?\n",
    "\n",
    "**Possible Answers**\n",
    "\n",
    "* **No, the age groups who are the largest are relatively similar.**\n",
    "* ~~Yes, the age group \"0\" is very different and I would split that one out.~~\n",
    "\n",
    "**The average amount spent as well as fraud occurrence is rather similar across groups. Age group '0' stands out but since there are only 40 cases, it does not make sense to split these out in a separate group and run a separate model on them.**"
   ]
  },
  {
   "cell_type": "markdown",
   "metadata": {},
   "source": [
    "### Using statistics to define normal behavior\n",
    "\n",
    "In the previous exercises we saw that fraud is **more prevalent in certain transaction categories**, but that there is no obvious way to segment our data into for example age groups. This time, let's investigate the **average amounts spent** in normal transactions versus fraud transactions. This gives you an idea of how fraudulent transactions **differ structurally** from normal transactions.\n",
    "\n",
    "**Instructions**\n",
    "\n",
    "* Create two new dataframes from fraud and non-fraud observations. Locate the data in `df` with `.loc` and assign the condition \"where fraud is 1\" and \"where fraud is 0\" for creation of the new dataframes.\n",
    "* Plot the `amount` column of the newly created dataframes in the histogram plot functions and assign the labels `fraud` and `nonfraud` respectively to the plots."
   ]
  },
  {
   "cell_type": "code",
   "execution_count": 116,
   "metadata": {},
   "outputs": [],
   "source": [
    "# Create two dataframes with fraud and non-fraud data \n",
    "df_fraud = banksim_df[banksim_df.fraud == 1] \n",
    "df_non_fraud = banksim_df[banksim_df.fraud == 0]"
   ]
  },
  {
   "cell_type": "code",
   "execution_count": 118,
   "metadata": {},
   "outputs": [
    {
     "data": {
      "image/png": "[encoded data removed]",
      "text/plain": [
       "<Figure size 1008x576 with 1 Axes>"
      ]
     },
     "metadata": {
      "needs_background": "light"
     },
     "output_type": "display_data"
    }
   ],
   "source": [
    "# Plot histograms of the amounts in fraud and non-fraud data \n",
    "fig = plt.figure(figsize = (14,8))\n",
    "plt.hist(df_fraud.amount, alpha=0.5, label='fraud')\n",
    "plt.hist(df_non_fraud.amount, alpha=0.5, label='nonfraud')\n",
    "plt.xlabel('amount')\n",
    "plt.legend()\n",
    "plt.show()"
   ]
  },
  {
   "cell_type": "markdown",
   "metadata": {},
   "source": [
    "**As the number fraud observations is much smaller, it is difficult to see the full distribution. Nonetheless, you can see that the fraudulent transactions tend to be on the larger side relative to normal observations. This is good news, as it helps us later in detecting fraud from non-fraud. In the next chapter you're going to implement a clustering model to distinguish between normal and abnormal transactions, when the fraud labels are no longer available.**"
   ]
  },
  {
   "cell_type": "markdown",
   "metadata": {},
   "source": [
    "## Clustering methods to detect fraud"
   ]
  },
  {
   "cell_type": "markdown",
   "metadata": {},
   "source": [
    "#### K-means clustering\n",
    "\n",
    "![k-means](https://raw.githubusercontent.com/trenton3983/DataCamp/master/Images/fraud_detection/k-means.JPG)\n",
    "\n",
    "* The objective of any clustering model is to detect patterns in the data\n",
    "* More specifically, to group the data into distinct clusters made of data points that are very similar to each other, but distinct from the points in the other clusters.\n",
    "* **The objective of k-means is to minimize the sum of all distances between the data samples and their associated cluster centroids**\n",
    "    * The score is the inverse of that minimization, so the score should be close to 0.\n",
    "* **Using the distance to cluster centroids**\n",
    "    * Training samples are shown as dots and cluster centroids are shown as crosses\n",
    "    * Attempt to cluster the data in image A\n",
    "        * Start by putting in an initial guess for two cluster centroids, as in B\n",
    "        * Predefine the number of clusters at the start\n",
    "        * Then calculate the distances of each sample in the data to the closest centroid\n",
    "        * Figure C shows the data split into the two clusters\n",
    "        * Based on the initial clusters, the location of the centroids can be redefined (fig D) to minimize the sum of all distances in the two clusters.\n",
    "        * Repeat the step of reassigning points that are nearest to the centroid (fig E) until it converges to the point where no sample gets reassigned to another cluster (fig F)\n",
    "        * ![clustering](https://raw.githubusercontent.com/trenton3983/DataCamp/master/Images/fraud_detection/clustering.JPG)"
   ]
  },
  {
   "cell_type": "markdown",
   "metadata": {},
   "source": [
    "#### K-means clustering in Python\n",
    "\n",
    "* It's of utmost importance to scale the data before doing K-means clustering, or any algorithm that uses distances\n",
    "* Without scaling, features on a larger scale will weight more heavily in the algorithm.  All features should weigh equally at the initial stage\n",
    "* fix `random_state` so models can be compared\n",
    "\n",
    "```python\n",
    "# Import the packages\n",
    "from sklearn.preprocessing import MinMaxScaler\n",
    "from sklearn.cluster import KMeans\n",
    "\n",
    "# Transform and scale your data\n",
    "X = np.array(df).astype(np.float)\n",
    "scaler = MinMaxScaler()\n",
    "X_scaled = scaler.fit_transform(X)\n",
    "\n",
    "# Define the k-means model and fit to the data\n",
    "kmeans = KMeans(n_clusters=6, random_state=42).fit(X_scaled)\n",
    "```"
   ]
  },
  {
   "cell_type": "markdown",
   "metadata": {},
   "source": [
    "#### The right amount of clusters\n",
    "\n",
    "* The drawback of K-means clustering is the need to assign the number of clusters beforehand\n",
    "* There are multiple ways to check what the right number of clusters should be\n",
    "    * Silhouette method\n",
    "    * Elbow curve\n",
    "* By running a k-means model on clusters varying from 1 to 10 and generate an **elbow curve** by saving the scores for each model under \"score\".\n",
    "* Plot the scores against the number of clusters\n",
    "\n",
    "    \n",
    "```python\n",
    "clust = range(1, 10) \n",
    "kmeans = [KMeans(n_clusters=i) for i in clust]\n",
    "\n",
    "score = [kmeans[i].fit(X_scaled).score(X_scaled) for i in range(len(kmeans))]\n",
    "\n",
    "plt.plot(clust,score)\n",
    "plt.xlabel('Number of Clusters')\n",
    "plt.ylabel('Score')\n",
    "plt.title('Elbow Curve')\n",
    "plt.show()\n",
    "```\n",
    "\n",
    "![elbow curve](https://raw.githubusercontent.com/trenton3983/DataCamp/master/Images/fraud_detection/elbow.JPG)\n",
    "\n",
    "* The slight elbow at 3 means that 3 clusters could be optimal, but it's not very pronounced"
   ]
  },
  {
   "cell_type": "markdown",
   "metadata": {},
   "source": [
    "### Scaling the data\n",
    "\n",
    "For ML algorithms using distance based metrics, it is **crucial to always scale your data**, as features using different scales will distort your results. K-means uses the Euclidean distance to assess distance to cluster centroids, therefore you first need to scale your data before continuing to implement the algorithm. Let's do that first.\n",
    "\n",
    "Available is the dataframe `df` from the previous exercise, with some minor data preparation done so it is ready for you to use with `sklearn`. The fraud labels are separately stored under labels, you can use those to check the results later.\n",
    "\n",
    "**Instructions**\n",
    "\n",
    "* Import the ``MinMaxScaler``.\n",
    "* Transform your dataframe `df` into a numpy array `X` by taking only the values of `df` and make sure you have all `float` values.\n",
    "* Apply the defined scaler onto `X` to obtain scaled values of `X_scaled` to force all your features to a 0-1 scale."
   ]
  },
  {
   "cell_type": "code",
   "execution_count": 119,
   "metadata": {},
   "outputs": [],
   "source": [
    "labels = banksim_adj_df.fraud"
   ]
  },
  {
   "cell_type": "code",
   "execution_count": 120,
   "metadata": {},
   "outputs": [],
   "source": [
    "cols = ['age', 'amount', 'M', 'es_barsandrestaurants', 'es_contents',\n",
    "        'es_fashion', 'es_food', 'es_health', 'es_home', 'es_hotelservices',\n",
    "        'es_hyper', 'es_leisure', 'es_otherservices', 'es_sportsandtoys',\n",
    "        'es_tech', 'es_transportation', 'es_travel']"
   ]
  },
  {
   "cell_type": "code",
   "execution_count": 121,
   "metadata": {},
   "outputs": [],
   "source": [
    "# Take the float values of df for X\n",
    "X = banksim_adj_df[cols].values.astype(np.float)"
   ]
  },
  {
   "cell_type": "code",
   "execution_count": 122,
   "metadata": {},
   "outputs": [
    {
     "data": {
      "text/plain": [
       "(7189, 17)"
      ]
     },
     "execution_count": 122,
     "metadata": {},
     "output_type": "execute_result"
    }
   ],
   "source": [
    "X.shape"
   ]
  },
  {
   "cell_type": "code",
   "execution_count": 123,
   "metadata": {},
   "outputs": [],
   "source": [
    "# Define the scaler and apply to the data\n",
    "scaler = MinMaxScaler()\n",
    "X_scaled = scaler.fit_transform(X)"
   ]
  },
  {
   "cell_type": "markdown",
   "metadata": {},
   "source": [
    "### K-mean clustering\n",
    "\n",
    "A very commonly used clustering algorithm is **K-means clustering**. For fraud detection, K-means clustering is straightforward to implement and relatively powerful in predicting suspicious cases. It is a good algorithm to start with when working on fraud detection problems. However, fraud data is oftentimes very large, especially when you are working with transaction data. **MiniBatch K-means** is an **efficient way** to implement K-means on a large dataset, which you will use in this exercise.\n",
    "\n",
    "The scaled data from the previous exercise, `X_scaled` is available. Let's give it a try.\n",
    "\n",
    "**Instructions**\n",
    "\n",
    "* Import `MiniBatchKMeans` from `sklearn`.\n",
    "* Initialize the minibatch kmeans model with 8 clusters.\n",
    "* Fit the model to your scaled data."
   ]
  },
  {
   "cell_type": "code",
   "execution_count": 124,
   "metadata": {},
   "outputs": [
    {
     "data": {
      "text/plain": [
       "MiniBatchKMeans(random_state=0)"
      ]
     },
     "execution_count": 124,
     "metadata": {},
     "output_type": "execute_result"
    }
   ],
   "source": [
    "# Define the model \n",
    "kmeans = MiniBatchKMeans(n_clusters=8, random_state=0)\n",
    "\n",
    "# Fit the model to the scaled data\n",
    "kmeans.fit(X_scaled)"
   ]
  },
  {
   "cell_type": "markdown",
   "metadata": {},
   "source": [
    "**You have now fitted your MiniBatch K-means model to the data. In the upcoming exercises you're going to explore whether this model is any good at flagging fraud. But before doing that, you still need to figure our what the right number of clusters to use is. Let's do that in the next exercise.**"
   ]
  },
  {
   "cell_type": "markdown",
   "metadata": {},
   "source": [
    "### Elbow method\n",
    "\n",
    "In the previous exercise you've implemented MiniBatch K-means with 8 clusters, without actually checking what the right amount of clusters should be. For our first fraud detection approach, it is important to **get the number of clusters right**, especially when you want to use the outliers of those clusters as fraud predictions. To decide which amount of clusters you're going to use, let's apply the **Elbow method** and see what the optimal number of clusters should be based on this method.\n",
    "\n",
    "`X_scaled` is again available for you to use and `MiniBatchKMeans` has been imported from `sklearn`.\n",
    "\n",
    "**Instructions**\n",
    "\n",
    "* Define the range to be between 1 and 10 clusters.\n",
    "* Run MiniBatch K-means on all the clusters in the range using list comprehension.\n",
    "* Fit each model on the scaled data and obtain the scores from the scaled data.\n",
    "* Plot the cluster numbers and their respective scores."
   ]
  },
  {
   "cell_type": "code",
   "execution_count": 125,
   "metadata": {},
   "outputs": [],
   "source": [
    "# Define the range of clusters to try\n",
    "clustno = range(1, 10)\n",
    "\n",
    "# Run MiniBatch Kmeans over the number of clusters\n",
    "kmeans = [MiniBatchKMeans(n_clusters=i) for i in clustno]\n",
    "\n",
    "# Obtain the score for each model\n",
    "score = [kmeans[i].fit(X_scaled).score(X_scaled) for i in range(len(kmeans))]"
   ]
  },
  {
   "cell_type": "code",
   "execution_count": 129,
   "metadata": {},
   "outputs": [
    {
     "data": {
      "image/png": "[encoded data removed]",
      "text/plain": [
       "<Figure size 1008x576 with 1 Axes>"
      ]
     },
     "metadata": {
      "needs_background": "light"
     },
     "output_type": "display_data"
    }
   ],
   "source": [
    "# Plot the models and their respective score \n",
    "fig = plt.figure(figsize = (14,8))\n",
    "plt.plot(clustno, score)\n",
    "plt.xlabel('Number of Clusters')\n",
    "plt.ylabel('Score')\n",
    "plt.title('Elbow Curve')\n",
    "plt.show()"
   ]
  },
  {
   "cell_type": "markdown",
   "metadata": {},
   "source": [
    "**Now you can see that the optimal number of clusters should probably be at around 3 clusters, as that is where the elbow is in the curve. We'll use this in the next exercise as our baseline model, and see how well this does in detecting fraud**"
   ]
  },
  {
   "cell_type": "markdown",
   "metadata": {},
   "source": [
    "## Assigning fraud vs. non-fraud\n",
    "\n",
    "* ![clusters](https://raw.githubusercontent.com/trenton3983/DataCamp/master/Images/fraud_detection/clusters_1.JPG)\n",
    "* Take the outliers of each cluster, and flag those as fraud.\n",
    "* ![clusters](https://raw.githubusercontent.com/trenton3983/DataCamp/master/Images/fraud_detection/clusters_2.JPG)\n",
    "1. Collect and store the cluster centroids in memory\n",
    "    * Starting point to decide what's normal and not\n",
    "1. Calculate the distance of each point in the dataset, to their own cluster centroid\n",
    "* ![clusters](https://raw.githubusercontent.com/trenton3983/DataCamp/master/Images/fraud_detection/clusters_3.JPG)\n",
    "    * Euclidean distance is depicted by the circles in this case\n",
    "    * Define a cut-off point for the distances to define what's an outlier\n",
    "        * Done based on the distributions of the distances collected\n",
    "        * i.e. everything with a distance larger than the top 95th percentile, should be considered an outlier\n",
    "        * the tail of the distribution of distances\n",
    "        * anything outside the yellow circles is an outlier\n",
    "        * ![clusters](https://raw.githubusercontent.com/trenton3983/DataCamp/master/Images/fraud_detection/clusters_4.JPG)\n",
    "        * these are definitely outliers and can be described as abnormal or suspicious\n",
    "            * doesn't necessarily mean they are fraudulent"
   ]
  },
  {
   "cell_type": "markdown",
   "metadata": {},
   "source": [
    "#### Flagging Fraud Based on Distance to Centroid\n",
    "\n",
    "```python\n",
    "# Run the kmeans model on scaled data\n",
    "kmeans = KMeans(n_clusters=6, random_state=42,n_jobs=-1).fit(X_scaled)\n",
    "\n",
    "# Get the cluster number for each datapoint\n",
    "X_clusters = kmeans.predict(X_scaled)\n",
    "\n",
    "# Save the cluster centroids\n",
    "X_clusters_centers = kmeans.cluster_centers_\n",
    "\n",
    "# Calculate the distance to the cluster centroid for each point\n",
    "dist = [np.linalg.norm(x-y) for x,y in zip(X_scaled, X_clusters_centers[X_clusters])]\n",
    "\n",
    "# Create predictions based on distance\n",
    "km_y_pred = np.array(dist)\n",
    "km_y_pred[dist>=np.percentile(dist, 93)] = 1\n",
    "km_y_pred[dist<np.percentile(dist, 93)] = 0\n",
    "```\n",
    "\n",
    "* `np.linalg.norm`: returns the vector norm, the vector of distance for each datapoint to their assigned cluster\n",
    "* use the percentiles of the distances to determine which samples are outliers"
   ]
  },
  {
   "cell_type": "markdown",
   "metadata": {},
   "source": [
    "#### Validating the Model Results\n",
    "\n",
    "* without fraud labels, the usual performance metrics can't be run\n",
    "    * check with the fraud analyst\n",
    "    * investigate and describe cases that are flagged in more detail\n",
    "        * is it fraudulent or just a rare case of legit data\n",
    "        * avoid rare, legit cases by deleting certain features or removing the cases from the data\n",
    "    * if there are past cases of fraud, see if the model can predict them using historic data"
   ]
  },
  {
   "cell_type": "markdown",
   "metadata": {},
   "source": [
    "### Detecting outliers\n",
    "\n",
    "In the next exercises, you're going to use the K-means algorithm to predict fraud, and compare those predictions to the actual labels that are saved, to sense check our results.\n",
    "\n",
    "The fraudulent transactions are typically flagged as the observations that are furthest aways from the cluster centroid. You'll learn how to do this and how to determine the cut-off in this exercise. In the next one, you'll check the results.\n",
    "\n",
    "Available are the scaled observations X_scaled, as well as the labels stored under the variable y.\n",
    "\n",
    "**Instructions**\n",
    "\n",
    "* Split the scaled data and labels y into a train and test set.\n",
    "* Define the MiniBatch K-means model with 3 clusters, and fit to the training data.\n",
    "* Get the cluster predictions from your test data and obtain the cluster centroids.\n",
    "* Define the boundary between fraud and non fraud to be at 95% of distance distribution and higher."
   ]
  },
  {
   "cell_type": "code",
   "execution_count": 130,
   "metadata": {},
   "outputs": [],
   "source": [
    "# Split the data into training and test set\n",
    "X_train, X_test, y_train, y_test = train_test_split(X_scaled, labels, test_size=0.3, random_state=0)\n",
    "\n",
    "# Define K-means model \n",
    "kmeans = MiniBatchKMeans(n_clusters=3, random_state=42).fit(X_train)\n",
    "\n",
    "# Obtain predictions and calculate distance from cluster centroid\n",
    "X_test_clusters = kmeans.predict(X_test)\n",
    "X_test_clusters_centers = kmeans.cluster_centers_\n",
    "dist = [np.linalg.norm(x-y) for x, y in zip(X_test, X_test_clusters_centers[X_test_clusters])]\n",
    "\n",
    "# Create fraud predictions based on outliers on clusters \n",
    "km_y_pred = np.array(dist)\n",
    "km_y_pred[dist >= np.percentile(dist, 95)] = 1\n",
    "km_y_pred[dist < np.percentile(dist, 95)] = 0"
   ]
  },
  {
   "cell_type": "markdown",
   "metadata": {},
   "source": [
    "### Checking model results\n",
    "\n",
    "In the previous exercise you've flagged all observations to be fraud, if they are in the top 5th percentile in distance from the cluster centroid. I.e. these are the very outliers of the three clusters. For this exercise you have the scaled data and labels already split into training and test set, so y_test is available. The predictions from the previous exercise, km_y_pred, are also available. Let's create some performance metrics and see how well you did.\n",
    "\n",
    "**Instructions 1/3**\n",
    "\n",
    "* Obtain the area under the ROC curve from your test labels and predicted labels."
   ]
  },
  {
   "cell_type": "code",
   "execution_count": 131,
   "metadata": {},
   "outputs": [],
   "source": [
    "def plot_confusion_matrix(cm, classes=['Not Fraud', 'Fraud'],\n",
    "                          normalize=False,\n",
    "                          title='Fraud Confusion matrix',\n",
    "                          cmap=plt.cm.Blues):\n",
    "    \"\"\"\n",
    "    This function prints and plots the confusion matrix.\n",
    "    Normalization can be applied by setting `normalize=True`.\n",
    "    From:\n",
    "        http://scikit-learn.org/stable/auto_examples/model_selection/plot_confusion_matrix.html#sphx-glr-auto-\n",
    "        examples-model-selection-plot-confusion-matrix-py\n",
    "    \"\"\"\n",
    "    if normalize:\n",
    "        cm = cm.astype('float') / cm.sum(axis=1)[:, np.newaxis]\n",
    "        print(\"Normalized confusion matrix\")\n",
    "    else:\n",
    "        print('Confusion matrix, without normalization')\n",
    "\n",
    "    # print(cm)\n",
    "\n",
    "    plt.imshow(cm, interpolation='nearest', cmap=cmap)\n",
    "    plt.title(title)\n",
    "    plt.colorbar()\n",
    "    tick_marks = np.arange(len(classes))\n",
    "    plt.xticks(tick_marks, classes, rotation=45)\n",
    "    plt.yticks(tick_marks, classes)\n",
    "\n",
    "    fmt = '.2f' if normalize else 'd'\n",
    "    thresh = cm.max() / 2.\n",
    "    for i, j in product(range(cm.shape[0]), range(cm.shape[1])):\n",
    "        plt.text(j, i, format(cm[i, j], fmt),\n",
    "                 horizontalalignment=\"center\",\n",
    "                 color=\"white\" if cm[i, j] > thresh else \"black\")\n",
    "\n",
    "    plt.tight_layout()\n",
    "    plt.ylabel('True label')\n",
    "    plt.xlabel('Predicted label')\n",
    "    plt.show()"
   ]
  },
  {
   "cell_type": "code",
   "execution_count": 132,
   "metadata": {},
   "outputs": [
    {
     "data": {
      "text/plain": [
       "0.8197704982668266"
      ]
     },
     "execution_count": 132,
     "metadata": {},
     "output_type": "execute_result"
    }
   ],
   "source": [
    "# Obtain the ROC score\n",
    "roc_auc_score(y_test, km_y_pred)"
   ]
  },
  {
   "cell_type": "markdown",
   "metadata": {},
   "source": [
    "**Instructions 2/3**\n",
    "\n",
    "* Obtain the confusion matrix from the test labels and predicted labels and plot the results."
   ]
  },
  {
   "cell_type": "code",
   "execution_count": 134,
   "metadata": {},
   "outputs": [
    {
     "name": "stdout",
     "output_type": "stream",
     "text": [
      "Confusion matrix, without normalization\n"
     ]
    },
    {
     "data": {
      "image/png": "[encoded data removed]",
      "text/plain": [
       "<Figure size 1008x576 with 2 Axes>"
      ]
     },
     "metadata": {
      "needs_background": "light"
     },
     "output_type": "display_data"
    }
   ],
   "source": [
    "# Create a confusion matrix\n",
    "fig = plt.figure(figsize = (14,8))\n",
    "km_cm = confusion_matrix(y_test, km_y_pred)\n",
    "\n",
    "# Plot the confusion matrix in a figure to visualize results \n",
    "plot_confusion_matrix(km_cm)"
   ]
  },
  {
   "cell_type": "markdown",
   "metadata": {},
   "source": [
    "**Instructions 3/3**\n",
    "\n",
    "If you were to decrease the percentile used as a cutoff point in the previous exercise to 93% instead of 95%, what would that do to your prediction results?\n",
    "\n",
    "**Possible Answers**\n",
    "\n",
    "* **The number of fraud cases caught increases, but false positives also increase.**\n",
    "* ~~The number of fraud cases caught decreases, and false positives decrease.~~\n",
    "* ~~The number of fraud cases caught increases, but false positives would decrease.~~\n",
    "* ~~Nothing would happen to the amount of fraud cases caught.~~"
   ]
  },
  {
   "cell_type": "markdown",
   "metadata": {},
   "source": [
    "## Alternate clustering methods for fraud detection\n",
    "\n",
    "* In addition to K-means, there are many different clustering methods, which can be used for fraud detection\n",
    "* ![clustering methods](https://raw.githubusercontent.com/trenton3983/DataCamp/master/Images/fraud_detection/clustering_methods.JPG)\n",
    "* K-means works well when the data is clustered in normal, round shapes\n",
    "* There are methods to flag fraud other the cluster outliers\n",
    "* ![clustering outlier](https://raw.githubusercontent.com/trenton3983/DataCamp/master/Images/fraud_detection/cluster_outlier.JPG)\n",
    "    * Small clusters can be an indication of fraud\n",
    "    * This approach can be used when fraudulent behavior has commonalities, which cause clustering\n",
    "    * The fraudulent data would cluster in tiny groups, rather than be the outliers of larger clusters\n",
    "* ![typical data](https://raw.githubusercontent.com/trenton3983/DataCamp/master/Images/fraud_detection/typical_data.JPG)\n",
    "    * In this case there are 3 obvious clusters\n",
    "    * The smallest dots are outliers and outside of what can be described as normal behavior\n",
    "    * There are also small to medium clusters closely connected to the red cluster\n",
    "    * Visualizing the data with something like [PCA](https://en.wikipedia.org/wiki/Principal_component_analysis) can be quite helpful"
   ]
  },
  {
   "cell_type": "markdown",
   "metadata": {},
   "source": [
    "#### DBSCAN: Density-Based Spatial Clustering of Applications with Noise\n",
    "\n",
    "* [DBscan](https://en.wikipedia.org/wiki/DBSCAN)\n",
    "* DBSCAN vs. K-means\n",
    "    * The number of clusters does not need to be predefined\n",
    "        * The algorithm finds core samples of high density and expands clusters from them\n",
    "        * Works well on data containing clusters of similar density\n",
    "    * This type of algorithm can be used to identify fraud as very small clusters\n",
    "    * Maximum allowed distance between points in a cluster must be assigned\n",
    "    * Minimal number of data points in clusters must be assigned\n",
    "    * Better performance on weirdly shaped data\n",
    "    * Computationally heavier then MiniBatch K-means"
   ]
  },
  {
   "cell_type": "markdown",
   "metadata": {},
   "source": [
    "#### Implementation of DBSCAN\n",
    "\n",
    "```python\n",
    "from sklearn.cluster import DBSCAN\n",
    "db = DBSCAN(eps=0.5, min_samples=10, n_jobs=-1).fit(X_scaled)\n",
    "\n",
    "# Get the cluster labels (aka numbers)\n",
    "pred_labels = db.labels_\n",
    "\n",
    "# Count the total number of clusters\n",
    "n_clusters_ = len(set(pred_labels)) - (1 if -1 in pred_labels else 0)\n",
    "\n",
    "# Print model results\n",
    "print(f'Estimated number of clusters: {n_clusters_}')\n",
    ">>> Estimated number of clusters: 31\n",
    "    \n",
    "# Print model results\n",
    "print(f'Silhouette Coefficient: {metrics.silhouette_score(X_scaled, pred_labels):0.3f}')\n",
    ">>> Silhouette Coefficient: 0.359\n",
    "    \n",
    "# Get sample counts in each cluster \n",
    "counts = np.bincount(pred_labels[pred_labels>=0])\n",
    "print(counts)\n",
    ">>> [ 763, 496, 840, 355 1086, 676, 63, 306, 560, 134, 28, 18, 262, 128,\n",
    "     332, 22, 22, 13, 31, 38, 36, 28, 14, 12, 30, 10, 11, 10, 21, 10, 5]\n",
    "```\n",
    "\n",
    "* start by defining the epsilon `eps`\n",
    "    * Distance between data points allowed from which the cluster expands\n",
    "* define minimum samples in the clusters\n",
    "* conventional DBSCAN can't produce the optimal value of epsilon, so it requires sophisticated DBSCAN modifications to automatically determine the optimal epsilon value\n",
    "* Fit DBSCAN to **scaled data**\n",
    "* Use `labels_` method to get the assigned cluster label for each data point\n",
    "* The cluster count can also be determine by counting the unique cluster labels from the cluster `label_` predictions\n",
    "* Can have performance metrics such as **average silhouette score**\n",
    "* The size of each cluster can be calculated with `np.bincount`\n",
    "    * counts the number of occurrences of non-negative values in a `numpy` array\n",
    "* sort `counts` and decide how many of the smaller clusters to flag as fraud\n",
    "    * selecting the clusters to flag, is a trial-and-error step and depends on the number of cases the fraud team can manage"
   ]
  },
  {
   "cell_type": "markdown",
   "metadata": {},
   "source": [
    "### DB scan\n",
    "\n",
    "In this exercise you're going to explore using a **density based clustering** method (DBSCAN) to detect fraud. The advantage of DBSCAN is that you **do not need to define the number of clusters** beforehand. Also, DBSCAN can handle weirdly shaped data (i.e. non-convex) much better than K-means can. This time, you are not going to take the outliers of the clusters and use that for fraud, but take the **smallest clusters** in the data and label those as fraud. You again have the scaled dataset, i.e. X_scaled available. Let's give it a try!\n",
    "\n",
    "**Instructions**\n",
    "\n",
    "* Import `DBSCAN`.\n",
    "* Initialize a DBSCAN model setting the maximum distance between two samples to 0.9 and the minimum observations in the clusters to 10, and fit the model to the scaled data.\n",
    "* Obtain the predicted labels, these are the cluster numbers assigned to an observation.\n",
    "* Print the number of clusters and the rest of the performance metrics."
   ]
  },
  {
   "cell_type": "code",
   "execution_count": 135,
   "metadata": {},
   "outputs": [],
   "source": [
    "# Initialize and fit the DBscan model\n",
    "db = DBSCAN(eps=0.9, min_samples=10, n_jobs=-1).fit(X_scaled)\n",
    "\n",
    "# Obtain the predicted labels and calculate number of clusters\n",
    "pred_labels = db.labels_\n",
    "n_clusters = len(set(pred_labels)) - (1 if -1 in labels else 0)"
   ]
  },
  {
   "cell_type": "code",
   "execution_count": 136,
   "metadata": {},
   "outputs": [
    {
     "name": "stdout",
     "output_type": "stream",
     "text": [
      "Estimated number of clusters: 23\n",
      "Homogeneity: 0.612\n",
      "Silhouette Coefficient: 0.713\n"
     ]
    }
   ],
   "source": [
    "# Print performance metrics for DBscan\n",
    "print(f'Estimated number of clusters: {n_clusters}')\n",
    "print(f'Homogeneity: {homogeneity_score(labels, pred_labels):0.3f}')\n",
    "print(f'Silhouette Coefficient: {silhouette_score(X_scaled, pred_labels):0.3f}')"
   ]
  },
  {
   "cell_type": "markdown",
   "metadata": {},
   "source": [
    "**The number of clusters is much higher than with K-means. For fraud detection this is for now OK, as we are only interested in the smallest clusters, since those are considered as abnormal. Now have a look at those clusters and decide which one to flag as fraud.**"
   ]
  },
  {
   "cell_type": "markdown",
   "metadata": {},
   "source": [
    "### Assessing smallest clusters\n",
    "\n",
    "In this exercise you're going to have a look at the clusters that came out of DBscan, and flag certain clusters as fraud:\n",
    "\n",
    "* you first need to figure out how big the clusters are, and **filter out the smallest**\n",
    "* then, you're going to take the smallest ones and **flag those as fraud**\n",
    "* last, you'll **check with the original labels** whether this does actually do a good job in detecting fraud.\n",
    "\n",
    "Available are the DBscan model predictions, so `n_clusters` is available as well as the cluster labels, which are saved under `pred_labels`. Let's give it a try!\n",
    "\n",
    "**Instructions 1/3**\n",
    "\n",
    "* Count the samples within each cluster by running a bincount on the predicted cluster numbers under `pred_labels` and print the results."
   ]
  },
  {
   "cell_type": "code",
   "execution_count": 137,
   "metadata": {},
   "outputs": [
    {
     "name": "stdout",
     "output_type": "stream",
     "text": [
      "[3252  145 2714   55  174  119  122   98   54   15   76   15   43   25\n",
      "   51   47   42   15   25   20   19   10]\n"
     ]
    }
   ],
   "source": [
    "# Count observations in each cluster number\n",
    "counts = np.bincount(pred_labels[pred_labels >= 0])\n",
    "\n",
    "# Print the result\n",
    "print(counts)"
   ]
  },
  {
   "cell_type": "markdown",
   "metadata": {},
   "source": [
    "**Instructions 2/3**\n",
    "\n",
    "* Sort the sample `counts` and take the top 3 smallest clusters, and print the results."
   ]
  },
  {
   "cell_type": "code",
   "execution_count": 138,
   "metadata": {},
   "outputs": [],
   "source": [
    "# Sort the sample counts of the clusters and take the top 3 smallest clusters\n",
    "smallest_clusters = np.argsort(counts)[:3]"
   ]
  },
  {
   "cell_type": "code",
   "execution_count": 139,
   "metadata": {},
   "outputs": [
    {
     "name": "stdout",
     "output_type": "stream",
     "text": [
      "The smallest clusters are clusters: [21 17  9]\n"
     ]
    }
   ],
   "source": [
    "# Print the results \n",
    "print(f'The smallest clusters are clusters: {smallest_clusters}')"
   ]
  },
  {
   "cell_type": "markdown",
   "metadata": {},
   "source": [
    "**Instructions 3/3**\n",
    "\n",
    "* Within `counts`, select the smallest clusters only, to print the number of samples in the three smallest clusters."
   ]
  },
  {
   "cell_type": "code",
   "execution_count": 140,
   "metadata": {},
   "outputs": [
    {
     "name": "stdout",
     "output_type": "stream",
     "text": [
      "Their counts are: [10 15 15]\n"
     ]
    }
   ],
   "source": [
    "# Print the counts of the smallest clusters only\n",
    "print(f'Their counts are: {counts[smallest_clusters]}')"
   ]
  },
  {
   "cell_type": "markdown",
   "metadata": {},
   "source": [
    "**So now we know which smallest clusters you could flag as fraud. If you were to take more of the smallest clusters, you cast your net wider and catch more fraud, but most likely also more false positives. It is up to the fraud analyst to find the right amount of cases to flag and to investigate. In the next exercise you'll check the results with the actual labels.**"
   ]
  },
  {
   "cell_type": "markdown",
   "metadata": {},
   "source": [
    "### Results verification\n",
    "\n",
    "In this exercise you're going to **check the results** of your DBscan fraud detection model. In reality, you often don't have reliable labels and this where a fraud analyst can help you validate the results. He/She can check your results and see whether the cases you flagged are indeed suspicious. You can also **check historically known cases** of fraud and see whether your model flags them.\n",
    "\n",
    "In this case, you'll **use the fraud labels** to check your model results. The predicted cluster numbers are available under `pred_labels` as well as the original fraud `labels`.\n",
    "\n",
    "**Instructions**\n",
    "\n",
    "* Create a dataframe combining the cluster numbers with the actual labels.\n",
    "* Create a condition that flags fraud for the three smallest clusters: clusters 21, 17 and 9.\n",
    "* Create a crosstab from the actual fraud labels with the newly created predicted fraud labels."
   ]
  },
  {
   "cell_type": "code",
   "execution_count": 141,
   "metadata": {},
   "outputs": [],
   "source": [
    "# Create a dataframe of the predicted cluster numbers and fraud labels \n",
    "df = pd.DataFrame({'clusternr':pred_labels,'fraud':labels})\n",
    "\n",
    "# Create a condition flagging fraud for the smallest clusters \n",
    "df['predicted_fraud'] = np.where((df['clusternr'].isin([21, 17, 9])), 1 , 0)"
   ]
  },
  {
   "cell_type": "code",
   "execution_count": 142,
   "metadata": {},
   "outputs": [
    {
     "name": "stdout",
     "output_type": "stream",
     "text": [
      "Flagged Fraud     0   1\n",
      "Actual Fraud           \n",
      "0              6973  16\n",
      "1               176  24\n"
     ]
    }
   ],
   "source": [
    "# Run a crosstab on the results \n",
    "print(pd.crosstab(df['fraud'], df['predicted_fraud'], rownames=['Actual Fraud'], colnames=['Flagged Fraud']))"
   ]
  },
  {
   "cell_type": "markdown",
   "metadata": {},
   "source": [
    "**How does this compare to the K-means model? The good thing is: our of all flagged cases, roughly 2/3 are actually fraud! Since you only take the three smallest clusters, by definition you flag less cases of fraud, so you catch less but also have less false positives. However, you are missing quite a lot of fraud cases. Increasing the amount of smallest clusters you flag could improve that, at the cost of more false positives of course. In the next chapter you'll learn how to further improve fraud detection models by including text analysis.**"
   ]
  },
  {
   "cell_type": "markdown",
   "metadata": {},
   "source": [
    "# Fraud detection using text\n",
    "\n",
    "Use text data, text mining and topic modeling to detect fraudulent behavior."
   ]
  },
  {
   "cell_type": "markdown",
   "metadata": {},
   "source": [
    "## Using text data\n",
    "\n",
    "* Types of useful text data:\n",
    "    1. Emails from employees and/or clients\n",
    "    1. Transaction descriptions\n",
    "    1. Employee notes\n",
    "    1. Insurance claim form description box\n",
    "    1. Recorded telephone conversations\n",
    "* Text mining techniques for fraud detection\n",
    "    1. Word search\n",
    "    1. Sentiment analysis\n",
    "    1. Word frequencies and topic analysis\n",
    "    1. Style\n",
    "* Word search for fraud detection\n",
    "    * Flagging suspicious words:\n",
    "        1. Simple, straightforward and easy to explain\n",
    "        1. Match results can be used as a filter on top of machine learning model\n",
    "        1. Match results can be used as a feature in a machine learning model"
   ]
  },
  {
   "cell_type": "markdown",
   "metadata": {},
   "source": [
    "#### Word counts to flag fraud with pandas\n",
    "\n",
    "```python\n",
    "# Using a string operator to find words\n",
    "df['email_body'].str.contains('money laundering')\n",
    "\n",
    " # Select data that matches \n",
    "df.loc[df['email_body'].str.contains('money laundering', na=False)]\n",
    "\n",
    " # Create a list of words to search for\n",
    "list_of_words = ['police', 'money laundering']\n",
    "df.loc[df['email_body'].str.contains('|'.join(list_of_words), na=False)]\n",
    "\n",
    " # Create a fraud flag \n",
    "df['flag'] = np.where((df['email_body'].str.contains('|'.join(list_of_words)) == True), 1, 0)\n",
    "```"
   ]
  },
  {
   "cell_type": "markdown",
   "metadata": {},
   "source": [
    "### Word search with dataframes\n",
    "\n",
    "In this exercise you're going to work with text data, containing emails from Enron employees. The **Enron scandal** is a famous fraud case. Enron employees covered up the bad financial position of the company, thereby keeping the stock price artificially high. Enron employees sold their own stock options, and when the truth came out, Enron investors were left with nothing. The goal is to find all emails that mention specific words, such as \"sell enron stock\".\n",
    "\n",
    "By using string operations on dataframes, you can easily sift through messy email data and create flags based on word-hits. The Enron email data has been put into a dataframe called `df` so let's search for suspicious terms. Feel free to explore `df` in the Console before getting started.\n",
    "\n",
    "**Instructions 1/2**\n",
    "\n",
    "* Check the head of `df` in the console and look for any emails mentioning 'sell enron stock'."
   ]
  },
  {
   "cell_type": "code",
   "execution_count": 143,
   "metadata": {},
   "outputs": [],
   "source": [
    "df = pd.read_csv(r'C:\\Users\\dell\\Desktop\\ine 2\\S4\\machine learning\\TP2\\chapitre_4\\enron_emails_clean.csv')"
   ]
  },
  {
   "cell_type": "code",
   "execution_count": 144,
   "metadata": {},
   "outputs": [],
   "source": [
    "mask = df['clean_content'].str.contains('sell enron stock', na=False)"
   ]
  },
  {
   "cell_type": "markdown",
   "metadata": {},
   "source": [
    "**Instructions 2/2**\n",
    "\n",
    "* Locate the data in `df` that meets the condition we created earlier."
   ]
  },
  {
   "cell_type": "code",
   "execution_count": 145,
   "metadata": {},
   "outputs": [
    {
     "data": {
      "text/html": [
       "<div>\n",
       "<style scoped>\n",
       "    .dataframe tbody tr th:only-of-type {\n",
       "        vertical-align: middle;\n",
       "    }\n",
       "\n",
       "    .dataframe tbody tr th {\n",
       "        vertical-align: top;\n",
       "    }\n",
       "\n",
       "    .dataframe thead th {\n",
       "        text-align: right;\n",
       "    }\n",
       "</style>\n",
       "<table border=\"1\" class=\"dataframe\">\n",
       "  <thead>\n",
       "    <tr style=\"text-align: right;\">\n",
       "      <th></th>\n",
       "      <th>Message-ID</th>\n",
       "      <th>From</th>\n",
       "      <th>To</th>\n",
       "      <th>Date</th>\n",
       "      <th>content</th>\n",
       "      <th>clean_content</th>\n",
       "    </tr>\n",
       "  </thead>\n",
       "  <tbody>\n",
       "    <tr>\n",
       "      <th>154</th>\n",
       "      <td>&lt;6336501.1075841154311.JavaMail.evans@thyme&gt;</td>\n",
       "      <td>('sarah.palmer@enron.com')</td>\n",
       "      <td>('sarah.palmer@enron.com')</td>\n",
       "      <td>2002-02-01 14:53:35</td>\n",
       "      <td>\\nJoint Venture: A 1997 Enron Meeting Belies O...</td>\n",
       "      <td>joint venture enron meeting belies officers cl...</td>\n",
       "    </tr>\n",
       "  </tbody>\n",
       "</table>\n",
       "</div>"
      ],
      "text/plain": [
       "                                       Message-ID                        From  \\\n",
       "154  <6336501.1075841154311.JavaMail.evans@thyme>  ('sarah.palmer@enron.com')   \n",
       "\n",
       "                             To                 Date  \\\n",
       "154  ('sarah.palmer@enron.com')  2002-02-01 14:53:35   \n",
       "\n",
       "                                               content  \\\n",
       "154  \\nJoint Venture: A 1997 Enron Meeting Belies O...   \n",
       "\n",
       "                                         clean_content  \n",
       "154  joint venture enron meeting belies officers cl...  "
      ]
     },
     "execution_count": 145,
     "metadata": {},
     "output_type": "execute_result"
    }
   ],
   "source": [
    "# Select the data from df using the mask\n",
    "df[mask]"
   ]
  },
  {
   "cell_type": "markdown",
   "metadata": {},
   "source": [
    "**You see that searching for particular string values in a dataframe can be relatively easy, and allows you to include textual data into your model or analysis. You can use this word search as an additional flag, or as a feature in your fraud detection model. Let's look at how to filter the data using multiple search terms.**"
   ]
  },
  {
   "cell_type": "markdown",
   "metadata": {},
   "source": [
    "### Using list of terms\n",
    "\n",
    "Oftentimes you don't want to search on just one term. You probably can create a full **\"fraud dictionary\"** of terms that could potentially **flag fraudulent clients** and/or transactions. Fraud analysts often will have an idea what should be in such a dictionary. In this exercise you're going to **flag a multitude of terms**, and in the next exercise you'll create a new flag variable out of it. The 'flag' can be used either directly in a machine learning model as a feature, or as an additional filter on top of your machine learning model results. Let's first use a list of terms to filter our data on. The dataframe containing the cleaned emails is again available as `df`.\n",
    "\n",
    "**Instructions**\n",
    "\n",
    "* Create a list to search for including 'enron stock', 'sell stock', 'stock bonus', and 'sell enron stock'.\n",
    "* Join the string terms in the search conditions.\n",
    "* Filter data using the emails that match with the list defined under `searchfor`."
   ]
  },
  {
   "cell_type": "code",
   "execution_count": 146,
   "metadata": {},
   "outputs": [
    {
     "data": {
      "text/html": [
       "<div>\n",
       "<style scoped>\n",
       "    .dataframe tbody tr th:only-of-type {\n",
       "        vertical-align: middle;\n",
       "    }\n",
       "\n",
       "    .dataframe tbody tr th {\n",
       "        vertical-align: top;\n",
       "    }\n",
       "\n",
       "    .dataframe thead th {\n",
       "        text-align: right;\n",
       "    }\n",
       "</style>\n",
       "<table border=\"1\" class=\"dataframe\">\n",
       "  <thead>\n",
       "    <tr style=\"text-align: right;\">\n",
       "      <th></th>\n",
       "      <th>Message-ID</th>\n",
       "      <th>From</th>\n",
       "      <th>To</th>\n",
       "      <th>Date</th>\n",
       "      <th>content</th>\n",
       "      <th>clean_content</th>\n",
       "    </tr>\n",
       "  </thead>\n",
       "  <tbody>\n",
       "    <tr>\n",
       "      <th>0</th>\n",
       "      <td>&lt;8345058.1075840404046.JavaMail.evans@thyme&gt;</td>\n",
       "      <td>('advdfeedback@investools.com')</td>\n",
       "      <td>('advdfeedback@investools.com')</td>\n",
       "      <td>2002-01-29 23:20:55</td>\n",
       "      <td>INVESTools Advisory\\nA Free Digest of Trusted ...</td>\n",
       "      <td>investools advisory free digest trusted invest...</td>\n",
       "    </tr>\n",
       "    <tr>\n",
       "      <th>1</th>\n",
       "      <td>&lt;1512159.1075863666797.JavaMail.evans@thyme&gt;</td>\n",
       "      <td>('richard.sanders@enron.com')</td>\n",
       "      <td>('richard.sanders@enron.com')</td>\n",
       "      <td>2000-09-20 19:07:00</td>\n",
       "      <td>----- Forwarded by Richard B Sanders/HOU/ECT o...</td>\n",
       "      <td>forwarded richard b sanders hou ect pm justin ...</td>\n",
       "    </tr>\n",
       "    <tr>\n",
       "      <th>2</th>\n",
       "      <td>&lt;26118676.1075862176383.JavaMail.evans@thyme&gt;</td>\n",
       "      <td>('m..love@enron.com')</td>\n",
       "      <td>('m..love@enron.com')</td>\n",
       "      <td>2001-10-30 16:15:17</td>\n",
       "      <td>hey you are not wearing your target purple shi...</td>\n",
       "      <td>hey wearing target purple shirt today mine wan...</td>\n",
       "    </tr>\n",
       "    <tr>\n",
       "      <th>3</th>\n",
       "      <td>&lt;10369289.1075860831062.JavaMail.evans@thyme&gt;</td>\n",
       "      <td>('leslie.milosevich@kp.org')</td>\n",
       "      <td>('leslie.milosevich@kp.org')</td>\n",
       "      <td>2002-01-30 17:54:18</td>\n",
       "      <td>Leslie Milosevich\\n1042 Santa Clara Avenue\\nAl...</td>\n",
       "      <td>leslie milosevich santa clara avenue alameda c...</td>\n",
       "    </tr>\n",
       "    <tr>\n",
       "      <th>4</th>\n",
       "      <td>&lt;26728895.1075860815046.JavaMail.evans@thyme&gt;</td>\n",
       "      <td>('rtwait@graphicaljazz.com')</td>\n",
       "      <td>('rtwait@graphicaljazz.com')</td>\n",
       "      <td>2002-01-30 19:36:01</td>\n",
       "      <td>Rini Twait\\n1010 E 5th Ave\\nLongmont, CO 80501...</td>\n",
       "      <td>rini twait e th ave longmont co rtwait graphic...</td>\n",
       "    </tr>\n",
       "  </tbody>\n",
       "</table>\n",
       "</div>"
      ],
      "text/plain": [
       "                                      Message-ID  \\\n",
       "0   <8345058.1075840404046.JavaMail.evans@thyme>   \n",
       "1   <1512159.1075863666797.JavaMail.evans@thyme>   \n",
       "2  <26118676.1075862176383.JavaMail.evans@thyme>   \n",
       "3  <10369289.1075860831062.JavaMail.evans@thyme>   \n",
       "4  <26728895.1075860815046.JavaMail.evans@thyme>   \n",
       "\n",
       "                              From                               To  \\\n",
       "0  ('advdfeedback@investools.com')  ('advdfeedback@investools.com')   \n",
       "1    ('richard.sanders@enron.com')    ('richard.sanders@enron.com')   \n",
       "2            ('m..love@enron.com')            ('m..love@enron.com')   \n",
       "3     ('leslie.milosevich@kp.org')     ('leslie.milosevich@kp.org')   \n",
       "4     ('rtwait@graphicaljazz.com')     ('rtwait@graphicaljazz.com')   \n",
       "\n",
       "                  Date                                            content  \\\n",
       "0  2002-01-29 23:20:55  INVESTools Advisory\\nA Free Digest of Trusted ...   \n",
       "1  2000-09-20 19:07:00  ----- Forwarded by Richard B Sanders/HOU/ECT o...   \n",
       "2  2001-10-30 16:15:17  hey you are not wearing your target purple shi...   \n",
       "3  2002-01-30 17:54:18  Leslie Milosevich\\n1042 Santa Clara Avenue\\nAl...   \n",
       "4  2002-01-30 19:36:01  Rini Twait\\n1010 E 5th Ave\\nLongmont, CO 80501...   \n",
       "\n",
       "                                       clean_content  \n",
       "0  investools advisory free digest trusted invest...  \n",
       "1  forwarded richard b sanders hou ect pm justin ...  \n",
       "2  hey wearing target purple shirt today mine wan...  \n",
       "3  leslie milosevich santa clara avenue alameda c...  \n",
       "4  rini twait e th ave longmont co rtwait graphic...  "
      ]
     },
     "execution_count": 146,
     "metadata": {},
     "output_type": "execute_result"
    }
   ],
   "source": [
    "# Create a list of terms to search for\n",
    "searchfor = ['enron stock', 'sell stock', 'stock bonus', 'sell enron stock']\n",
    "\n",
    "# Filter cleaned emails on searchfor list and select from df \n",
    "filtered_emails = df[df.clean_content.str.contains('|'.join(searchfor), na=False)]\n",
    "filtered_emails.head()"
   ]
  },
  {
   "cell_type": "markdown",
   "metadata": {},
   "source": [
    "**By joining the search terms with the 'or' sign, i.e. |, you can search on a multitude of terms in your dataset very easily. Let's now create a flag from this which you can use as a feature in a machine learning model.**"
   ]
  },
  {
   "cell_type": "markdown",
   "metadata": {},
   "source": [
    "### Creating a flag\n",
    "\n",
    "This time you are going to **create an actual flag** variable that gives a **1 when the emails get a hit** on the search terms of interest, and 0 otherwise. This is the last step you need to make in order to actually use the text data content as a feature in a machine learning model, or as an actual flag on top of model results. You can continue working with the dataframe `df` containing the emails, and the `searchfor` list is the one defined in the last exercise.\n",
    "\n",
    "**Instructions**\n",
    "\n",
    "* Use a numpy where condition to flag '1' where the cleaned email contains words on the `searchfor` list and 0 otherwise.\n",
    "* Join the words on the `searchfor` list with an \"or\" indicator.\n",
    "* Count the values of the newly created flag variable."
   ]
  },
  {
   "cell_type": "code",
   "execution_count": 147,
   "metadata": {},
   "outputs": [
    {
     "name": "stdout",
     "output_type": "stream",
     "text": [
      "0    1776\n",
      "1     314\n",
      "Name: flag, dtype: int64\n"
     ]
    }
   ],
   "source": [
    "# Create flag variable where the emails match the searchfor terms\n",
    "df['flag'] = np.where((df['clean_content'].str.contains('|'.join(searchfor)) == True), 1, 0)\n",
    "\n",
    "# Count the values of the flag variable\n",
    "count = df['flag'].value_counts()\n",
    "print(count)"
   ]
  },
  {
   "cell_type": "markdown",
   "metadata": {},
   "source": [
    "**You have now managed to search for a list of strings in several lines of text data. These skills come in handy when you want to flag certain words based on what you discovered in your topic model, or when you know beforehand what you want to search for. In the next exercises you're going to learn how to clean text data and to create your own topic model to further look for indications of fraud in your text data.**"
   ]
  },
  {
   "cell_type": "markdown",
   "metadata": {},
   "source": [
    "## Text mining to detect fraud"
   ]
  },
  {
   "cell_type": "markdown",
   "metadata": {},
   "source": [
    "#### Cleaning your text data\n",
    "\n",
    "**Must dos when working with textual data:**\n",
    "\n",
    "1. Tokenization\n",
    "    * Split the text into sentences and the sentences in words\n",
    "    * transform everything to lowercase\n",
    "    * remove punctuation\n",
    "1. Remove all stopwords\n",
    "1. Lemmatize \n",
    "    * change from third person into first person\n",
    "    * change past and future tense verbs to present tense\n",
    "    * this makes it possible to combine all words that point to the same thing\n",
    "1. Stem the words\n",
    "    * reduce words to their root form\n",
    "    * e.g. walking and walked to walk\n",
    "\n",
    "* **Unprocessed Text**\n",
    "    * ![](https://raw.githubusercontent.com/trenton3983/DataCamp/master/Images/fraud_detection/text_df.JPG)\n",
    "* **Processed Text**\n",
    "    * ![](https://raw.githubusercontent.com/trenton3983/DataCamp/master/Images/fraud_detection/text_processed.JPG)"
   ]
  },
  {
   "cell_type": "markdown",
   "metadata": {},
   "source": [
    "#### Data Preprocessing I\n",
    "\n",
    "* Tokenizers divide strings into list of substrings\n",
    "* nltk word tokenizer can be used to find the words and punctuation in a string\n",
    "    * it splits the words on whitespace, and separated the punctuation out\n",
    "\n",
    "```python\n",
    "from nltk import word_tokenize\n",
    "from nltk.corpus import stopwords \n",
    "import string\n",
    "\n",
    "# 1. Tokenization\n",
    "text = df.apply(lambda row: word_tokenize(row[\"email_body\"]), axis=1)\n",
    "text = text.rstrip()  # remove whitespace\n",
    "# replace with lowercase\n",
    "# text = re.sub(r'[^a-zA-Z]', ' ', text)\n",
    "text = text.lower()\n",
    "\n",
    " # 2. Remove all stopwords and punctuation\n",
    "exclude = set(string.punctuation)\n",
    "stop = set(stopwords.words('english'))\n",
    "stop_free = \" \".join([word for word in text if((word not in stop) and (not word.isdigit()))])\n",
    "punc_free = ''.join(word for word in stop_free if word not in exclude)\n",
    "```"
   ]
  },
  {
   "cell_type": "markdown",
   "metadata": {},
   "source": [
    "#### Data Preprocessing II\n",
    "\n",
    "```python\n",
    "from nltk.stem.wordnet import WordNetLemmatizer\n",
    "from nltk.stem.porter import PorterStemmer\n",
    "\n",
    "# Lemmatize words\n",
    "lemma = WordNetLemmatizer()\n",
    "normalized = \" \".join(lemma.lemmatize(word) for word in punc_free.split())\n",
    "\n",
    "# Stem words\n",
    "porter= PorterStemmer()\n",
    "cleaned_text = \" \".join(porter.stem(token) for token in normalized.split())\n",
    "print (cleaned_text)\n",
    "\n",
    "['philip','going','street','curious','hear','perspective','may','wish',\n",
    "'offer','trading','floor','enron','stock','lower','joined','company',\n",
    "'business','school','imagine','quite','happy','people','day','relate',\n",
    "'somewhat','stock','around','fact','broke','day','ago','knowing',\n",
    "'imagine','letting','event','get','much','taken','similar',\n",
    "'problem','hope','everything','else','going','well','family','knee',\n",
    "'surgery','yet','give','call','chance','later']\n",
    "```"
   ]
  },
  {
   "cell_type": "markdown",
   "metadata": {},
   "source": [
    "### Removing stopwords\n",
    "\n",
    "In the following exercises you're going to **clean the Enron emails**, in order to be able to use the data in a topic model. Text cleaning can be challenging, so you'll learn some steps to do this well. The dataframe containing the emails `df` is available. In a first step you need to **define the list of stopwords and punctuations** that are to be removed in the next exercise from the text data. Let's give it a try.\n",
    "\n",
    "**Instructions**\n",
    "\n",
    "* Import the stopwords from `ntlk`.\n",
    "* Define 'english' words to use as stopwords under the variable `stop`.\n",
    "* Get the punctuation set from the `string` package and assign it to `exclude`."
   ]
  },
  {
   "cell_type": "code",
   "execution_count": 149,
   "metadata": {},
   "outputs": [],
   "source": [
    "import nltk"
   ]
  },
  {
   "cell_type": "code",
   "execution_count": 151,
   "metadata": {},
   "outputs": [
    {
     "name": "stderr",
     "output_type": "stream",
     "text": [
      "[nltk_data] Downloading package stopwords to\n",
      "[nltk_data]     C:\\Users\\dell\\AppData\\Roaming\\nltk_data...\n",
      "[nltk_data]   Unzipping corpora\\stopwords.zip.\n"
     ]
    },
    {
     "data": {
      "text/plain": [
       "True"
      ]
     },
     "execution_count": 151,
     "metadata": {},
     "output_type": "execute_result"
    }
   ],
   "source": [
    "nltk.download('stopwords')"
   ]
  },
  {
   "cell_type": "code",
   "execution_count": 152,
   "metadata": {},
   "outputs": [],
   "source": [
    "# Define stopwords to exclude\n",
    "stop = set(stopwords.words('english'))\n",
    "stop.update((\"to\", \"cc\", \"subject\", \"http\", \"from\", \"sent\", \"ect\", \"u\", \"fwd\", \"www\", \"com\", 'html'))\n",
    "\n",
    "# Define punctuations to exclude and lemmatizer\n",
    "exclude = set(string.punctuation)"
   ]
  },
  {
   "cell_type": "markdown",
   "metadata": {},
   "source": [
    "### Cleaning text data\n",
    "\n",
    "Now that you've defined the **stopwords and punctuations**, let's use these to clean our enron emails in the dataframe `df` further. The lists containing stopwords and punctuations are available under `stop` and `exclude` There are a few more steps to take before you have cleaned data, such as **\"lemmatization\"** of words, and **stemming the verbs**. The verbs in the email data are already stemmed, and the lemmatization is already done for you in this exercise.\n",
    "\n",
    "**Instructions 1/2**\n",
    "\n",
    "* Use the previously defined variables `stop` and `exclude` to finish of the function: Strip the words from whitespaces using `rstrip`, and exclude stopwords and punctuations. Finally lemmatize the words and assign that to `normalized`."
   ]
  },
  {
   "cell_type": "code",
   "execution_count": 153,
   "metadata": {},
   "outputs": [],
   "source": [
    "# Import the lemmatizer from nltk\n",
    "lemma = WordNetLemmatizer()\n",
    "\n",
    "def clean(text, stop):\n",
    "    text = str(text).rstrip()\n",
    "    stop_free = \" \".join([i for i in text.lower().split() if((i not in stop) and (not i.isdigit()))])\n",
    "    punc_free = ''.join(i for i in stop_free if i not in exclude)\n",
    "    normalized = \" \".join(lemma.lemmatize(i) for i in punc_free.split())      \n",
    "    return normalized"
   ]
  },
  {
   "cell_type": "markdown",
   "metadata": {},
   "source": [
    "**Instructions 2/2**\n",
    "\n",
    "* Apply the function `clean(text,stop)` on each line of text data in our dataframe, and take the column `df['clean_content']` for this."
   ]
  },
  {
   "cell_type": "code",
   "execution_count": 155,
   "metadata": {},
   "outputs": [
    {
     "name": "stderr",
     "output_type": "stream",
     "text": [
      "[nltk_data] Downloading package wordnet to\n",
      "[nltk_data]     C:\\Users\\dell\\AppData\\Roaming\\nltk_data...\n",
      "[nltk_data]   Unzipping corpora\\wordnet.zip.\n"
     ]
    },
    {
     "data": {
      "text/plain": [
       "True"
      ]
     },
     "execution_count": 155,
     "metadata": {},
     "output_type": "execute_result"
    }
   ],
   "source": [
    "nltk.download('wordnet')"
   ]
  },
  {
   "cell_type": "code",
   "execution_count": 156,
   "metadata": {},
   "outputs": [],
   "source": [
    "# Clean the emails in df and print results\n",
    "text_clean=[]\n",
    "for text in df['clean_content']:\n",
    "    text_clean.append(clean(text, stop).split())    "
   ]
  },
  {
   "cell_type": "code",
   "execution_count": 157,
   "metadata": {},
   "outputs": [
    {
     "data": {
      "text/plain": [
       "['investools',\n",
       " 'advisory',\n",
       " 'free',\n",
       " 'digest',\n",
       " 'trusted',\n",
       " 'investment',\n",
       " 'advice',\n",
       " 'unsubscribe',\n",
       " 'free',\n",
       " 'newsletter']"
      ]
     },
     "execution_count": 157,
     "metadata": {},
     "output_type": "execute_result"
    }
   ],
   "source": [
    "text_clean[0][:10]"
   ]
  },
  {
   "cell_type": "markdown",
   "metadata": {},
   "source": [
    "**Now that you have cleaned your data entirely with the necessary steps, including splitting the text into words, removing stopwords and punctuations, and lemmatizing your words. You are now ready to run a topic model on this data. In the following exercises you're going to explore how to do that.**"
   ]
  },
  {
   "cell_type": "markdown",
   "metadata": {},
   "source": [
    "## Topic modeling on fraud\n",
    "\n",
    "1. Discovering topics in text data\n",
    "1. \"What is the text about\"\n",
    "1. Conceptually similar to clustering data\n",
    "1. Compare topics of fraud cases to non-fraud cases and use as a feature or flag\n",
    "1. Or.. is there a particular topic in the data that seems to point to fraud?"
   ]
  },
  {
   "cell_type": "markdown",
   "metadata": {},
   "source": [
    "#### Latent Dirichlet Allocation (LDA)\n",
    "\n",
    "* With LDA you obtain:\n",
    "    * \"topics per text item\" model (i.e. probabilities)\n",
    "    * \"words per topic\" model\n",
    "* Creating your own topic model:\n",
    "    * Clean your data\n",
    "    * Create a bag of words with dictionary and corpus\n",
    "        * Dictionary contain words and word frequency from the entire text\n",
    "        * Corpus: word count for each line of text\n",
    "    * Feed dictionary and corpus into the LDA model\n",
    "* LDA:\n",
    "    * ![lda](https://raw.githubusercontent.com/trenton3983/DataCamp/master/Images/fraud_detection/lda.JPG)\n",
    "    1. [LDA2vec: Word Embeddings in Topic Models](https://www.datacamp.com/community/tutorials/lda2vec-topic-model)\n",
    "    1. see how each word in the dataset is associated with each topic\n",
    "    1. see how each text item in the data associates with topics (in the form of probabilities)\n",
    "        1. image on the right "
   ]
  },
  {
   "cell_type": "markdown",
   "metadata": {},
   "source": [
    "#### Bag of words: dictionary and corpus\n",
    "\n",
    "* use the `Dictionary` function in `corpora` to create a `dict` from the text data\n",
    "    * contains word counts\n",
    "* filter out words that appear in less than 5 emails and keep only the 50000 most frequent words\n",
    "    * this is a way of cleaning the outlier noise\n",
    "* create the corpus, which for each email, counts the number of words and the count for each word (`doc2bow`)\n",
    "* `doc2bow`\n",
    "    * Document to Bag of Words\n",
    "    * converts text data into bag-of-words format\n",
    "    * each row is now a list of words with the associated word count\n",
    "    \n",
    "```python\n",
    "from gensim import corpora\n",
    "\n",
    " # Create dictionary number of times a word appears\n",
    "dictionary = corpora.Dictionary(cleaned_emails)\n",
    "\n",
    "# Filter out (non)frequent words \n",
    "dictionary.filter_extremes(no_below=5, keep_n=50000)\n",
    "\n",
    "# Create corpus\n",
    "corpus = [dictionary.doc2bow(text) for text in cleaned_emails]\n",
    "```"
   ]
  },
  {
   "cell_type": "markdown",
   "metadata": {},
   "source": [
    "#### Latent Dirichlet Allocation (LDA) with gensim\n",
    "\n",
    "* Run the LDA model after cleaning the text date, and creating the dictionary and corpus\n",
    "* Pass the corpus and dictionary into the model\n",
    "* As with K-means, beforehand, pick the number of topics to obtain, even if there is uncertainty about what topics exist\n",
    "* The calculated LDA model, will contain the associated words for each topic, and topic scores per email\n",
    "* Use `print_topics` to obtain the top words from the topics\n",
    "\n",
    "```python\n",
    "import gensim\n",
    "\n",
    "# Define the LDA model\n",
    "ldamodel = gensim.models.ldamodel.LdaModel(corpus, num_topics = 3, \n",
    "id2word=dictionary, passes=15)\n",
    "\n",
    "# Print the three topics from the model with top words\n",
    "topics = ldamodel.print_topics(num_words=4)\n",
    "for topic in topics:\n",
    "    print(topic)\n",
    "\n",
    ">>> (0, '0.029*\"email\" + 0.016*\"send\" + 0.016*\"results\" + 0.016*\"invoice\"')\n",
    ">>> (1, '0.026*\"price\" + 0.026*\"work\" + 0.026*\"management\" + 0.026*\"sell\"')\n",
    ">>> (2, '0.029*\"distribute\" + 0.029*\"contact\" + 0.016*\"supply\" + 0.016*\"fast\"')\n",
    "```"
   ]
  },
  {
   "cell_type": "markdown",
   "metadata": {},
   "source": [
    "### Create dictionary and corpus\n",
    "\n",
    "In order to run an LDA topic model, you first need to **define your dictionary and corpus** first, as those need to go into the model. You're going to continue working on the cleaned text data that you've done in the previous exercises. That means that `text_clean` is available for you already to continue working with, and you'll use that to create your dictionary and corpus.\n",
    "\n",
    "This exercise will take a little longer to execute than usual.\n",
    "\n",
    "**Instructions**\n",
    "\n",
    "* Import the gensim package and corpora from gensim separately.\n",
    "* Define your dictionary by running the correct function on your clean data `text_clean`.\n",
    "* Define the corpus by running `doc2bow` on each piece of text in `text_clean`.\n",
    "* Print your results so you can see `dictionary` and `corpus` look like."
   ]
  },
  {
   "cell_type": "code",
   "execution_count": 158,
   "metadata": {},
   "outputs": [],
   "source": [
    "# Define the dictionary\n",
    "dictionary = corpora.Dictionary(text_clean)\n",
    "\n",
    "# Define the corpus \n",
    "corpus = [dictionary.doc2bow(text) for text in text_clean]"
   ]
  },
  {
   "cell_type": "code",
   "execution_count": 159,
   "metadata": {},
   "outputs": [
    {
     "name": "stdout",
     "output_type": "stream",
     "text": [
      "Dictionary(33980 unique tokens: ['account', 'accurate', 'acquiring', 'acre', 'address']...)\n"
     ]
    }
   ],
   "source": [
    "print(dictionary)"
   ]
  },
  {
   "cell_type": "code",
   "execution_count": 160,
   "metadata": {},
   "outputs": [
    {
     "data": {
      "text/plain": [
       "[(0, 2),\n",
       " (1, 1),\n",
       " (2, 1),\n",
       " (3, 1),\n",
       " (4, 1),\n",
       " (5, 6),\n",
       " (6, 1),\n",
       " (7, 2),\n",
       " (8, 4),\n",
       " (9, 1)]"
      ]
     },
     "execution_count": 160,
     "metadata": {},
     "output_type": "execute_result"
    }
   ],
   "source": [
    "corpus[0][:10]"
   ]
  },
  {
   "cell_type": "markdown",
   "metadata": {},
   "source": [
    "**These are the two ingredients you need to run your topic model on the enron emails. You are now ready for the final step and create your first fraud detection topic model.**"
   ]
  },
  {
   "cell_type": "markdown",
   "metadata": {},
   "source": [
    "### LDA model\n",
    "\n",
    "Now it's time to **build the LDA model**. Using the `dictionary` and `corpus`, you are ready to discover which topics are present in the Enron emails. With a quick print of words assigned to the topics, you can do a first exploration about whether there are any obvious topics that jump out. Be mindful that the topic model is **heavy to calculate** so it will take a while to run. Let's give it a try!\n",
    "\n",
    "**Instructions**\n",
    "\n",
    "* Build the LDA model from gensim models, by inserting the `corpus` and `dictionary`.\n",
    "* Save the 5 topics by running `print_topics` on the model results, and select the top 5 words."
   ]
  },
  {
   "cell_type": "code",
   "execution_count": 161,
   "metadata": {},
   "outputs": [
    {
     "name": "stdout",
     "output_type": "stream",
     "text": [
      "(0, '0.051*\"td\" + 0.036*\"net\" + 0.034*\"money\" + 0.033*\"tr\" + 0.030*\"width\"')\n",
      "(1, '0.050*\"enron\" + 0.027*\"image\" + 0.014*\"hou\" + 0.010*\"development\" + 0.007*\"se\"')\n",
      "(2, '0.021*\"enron\" + 0.015*\"pm\" + 0.012*\"message\" + 0.010*\"original\" + 0.010*\"e\"')\n",
      "(3, '0.007*\"market\" + 0.007*\"please\" + 0.007*\"time\" + 0.006*\"gas\" + 0.006*\"message\"')\n",
      "(4, '0.018*\"enron\" + 0.009*\"company\" + 0.005*\"said\" + 0.005*\"new\" + 0.005*\"stock\"')\n"
     ]
    }
   ],
   "source": [
    "# Define the LDA model\n",
    "ldamodel = gensim.models.ldamodel.LdaModel(corpus, num_topics=5, id2word=dictionary, passes=5)\n",
    "\n",
    "# Save the topics and top 5 words\n",
    "topics = ldamodel.print_topics(num_words=5)\n",
    "\n",
    "# Print the results\n",
    "for topic in topics:\n",
    "    print(topic)"
   ]
  },
  {
   "cell_type": "markdown",
   "metadata": {},
   "source": [
    "**You have now successfully created your first topic model on the Enron email data. However, the print of words doesn't really give you enough information to find a topic that might lead you to signs of fraud. You'll therefore need to closely inspect the model results in order to be able to detect anything that can be related to fraud in your data. You'll learn more about this in the next video.**"
   ]
  },
  {
   "cell_type": "markdown",
   "metadata": {},
   "source": [
    "## Flagging fraud based on topic"
   ]
  },
  {
   "cell_type": "markdown",
   "metadata": {},
   "source": [
    "#### Using your LDA model results for fraud detection\n",
    "\n",
    "1. Are there any suspicious topics? (no labels)\n",
    "    1. if you don't have labels, first check for the frequency of suspicious words within topics and check whether topics seem to describe the fraudulent behavior\n",
    "    1. for the Enron email data, a suspicious topic would be one where employees are discussing stock bonuses, selling stock, stock price, and perhaps mentions of accounting or weak financials\n",
    "    1. Defining suspicious topics does require some pre-knowledge about the fraudulent behavior\n",
    "    1. If the fraudulent topic is noticeable, flag all instances that have a high probability for this topic\n",
    "1. Are the topics in fraud and non-fraud cases similar? (with labels)\n",
    "    1. If there a previous cases of fraud, ran a topic model on the fraud text only, and on the non-fraud text\n",
    "    1. Check whether the results are similar\n",
    "        1. Whether the frequency of the topics are the same in fraud vs non-fraud\n",
    "1. Are fraud cases associated more with certain topics? (with labels)\n",
    "    1. Check whether fraud cases have a higher probability score for certain topics\n",
    "        1. If so, run a topic model on new data and create a flag directly on the instances that score high on those topics"
   ]
  },
  {
   "cell_type": "markdown",
   "metadata": {},
   "source": [
    "#### To understand topics, you need to visualize\n",
    "\n",
    "```python\n",
    "import pyLDAvis.gensim\n",
    "lda_display = pyLDAvis.gensim.prepare(ldamodel, corpus, dictionary, sort_topics=False)\n",
    "```\n",
    "\n",
    "![topics](https://raw.githubusercontent.com/trenton3983/DataCamp/master/Images/fraud_detection/topics2.jpg)\n",
    "\n",
    "* Each bubble on the left-hand side, represents a topic\n",
    "* The larger the bubble, the more prevalent that topic is\n",
    "* Click on each topic to get the details per topic in the right panel\n",
    "* The words are the most important keywords that form the selected topic.\n",
    "* A good topic model will have fairly big, non-overlapping bubbles, scattered throughout the chart\n",
    "* A model with too many topics, will typically have many overlaps, or small sized bubbles, clustered in one region\n",
    "* In the case of the model above, there is a slight overlap between topic 2 and 3, which may point to 1 topic too many"
   ]
  },
  {
   "cell_type": "code",
   "execution_count": 178,
   "metadata": {},
   "outputs": [
    {
     "name": "stdout",
     "output_type": "stream",
     "text": [
      "Requirement already satisfied: gensim in d:\\download 01\\anaconda\\lib\\site-packages (4.1.2)Note: you may need to restart the kernel to use updated packages.\n",
      "Requirement already satisfied: numpy>=1.17.0 in d:\\download 01\\anaconda\\lib\\site-packages (from gensim) (1.20.3)\n",
      "Requirement already satisfied: smart-open>=1.8.1 in d:\\download 01\\anaconda\\lib\\site-packages (from gensim) (5.2.1)\n",
      "\n",
      "Requirement already satisfied: Cython==0.29.23 in d:\\download 01\\anaconda\\lib\\site-packages (from gensim) (0.29.23)\n",
      "Requirement already satisfied: scipy>=0.18.1 in d:\\download 01\\anaconda\\lib\\site-packages (from gensim) (1.7.1)\n"
     ]
    }
   ],
   "source": [
    "pip install gensim\n"
   ]
  },
  {
   "cell_type": "code",
   "execution_count": 179,
   "metadata": {},
   "outputs": [
    {
     "name": "stdout",
     "output_type": "stream",
     "text": [
      "Requirement already satisfied: pyldavis in d:\\download 01\\anaconda\\lib\\site-packages (3.3.1)\n",
      "Requirement already satisfied: numexpr in d:\\download 01\\anaconda\\lib\\site-packages (from pyldavis) (2.7.3)\n",
      "Requirement already satisfied: scipy in d:\\download 01\\anaconda\\lib\\site-packages (from pyldavis) (1.7.1)\n",
      "Requirement already satisfied: sklearn in d:\\download 01\\anaconda\\lib\\site-packages (from pyldavis) (0.0)\n",
      "Requirement already satisfied: scikit-learn in d:\\download 01\\anaconda\\lib\\site-packages (from pyldavis) (1.0.2)\n",
      "Requirement already satisfied: jinja2 in d:\\download 01\\anaconda\\lib\\site-packages (from pyldavis) (2.11.3)\n",
      "Requirement already satisfied: future in d:\\download 01\\anaconda\\lib\\site-packages (from pyldavis) (0.18.2)\n",
      "Requirement already satisfied: pandas>=1.2.0 in d:\\download 01\\anaconda\\lib\\site-packages (from pyldavis) (1.3.4)\n",
      "Requirement already satisfied: funcy in d:\\download 01\\anaconda\\lib\\site-packages (from pyldavis) (1.17)\n",
      "Requirement already satisfied: setuptools in d:\\download 01\\anaconda\\lib\\site-packages (from pyldavis) (58.0.4)\n",
      "Requirement already satisfied: joblib in d:\\download 01\\anaconda\\lib\\site-packages (from pyldavis) (1.1.0)\n",
      "Requirement already satisfied: numpy>=1.20.0 in d:\\download 01\\anaconda\\lib\\site-packages (from pyldavis) (1.20.3)\n",
      "Requirement already satisfied: gensim in d:\\download 01\\anaconda\\lib\\site-packages (from pyldavis) (4.1.2)\n",
      "Requirement already satisfied: pytz>=2017.3 in d:\\download 01\\anaconda\\lib\\site-packages (from pandas>=1.2.0->pyldavis) (2021.3)\n",
      "Requirement already satisfied: python-dateutil>=2.7.3 in d:\\download 01\\anaconda\\lib\\site-packages (from pandas>=1.2.0->pyldavis) (2.8.2)\n",
      "Requirement already satisfied: six>=1.5 in d:\\download 01\\anaconda\\lib\\site-packages (from python-dateutil>=2.7.3->pandas>=1.2.0->pyldavis) (1.16.0)\n",
      "Requirement already satisfied: Cython==0.29.23 in d:\\download 01\\anaconda\\lib\\site-packages (from gensim->pyldavis) (0.29.23)\n",
      "Requirement already satisfied: smart-open>=1.8.1 in d:\\download 01\\anaconda\\lib\\site-packages (from gensim->pyldavis) (5.2.1)\n",
      "Requirement already satisfied: MarkupSafe>=0.23 in d:\\download 01\\anaconda\\lib\\site-packages (from jinja2->pyldavis) (1.1.1)\n",
      "Requirement already satisfied: threadpoolctl>=2.0.0 in d:\\download 01\\anaconda\\lib\\site-packages (from scikit-learn->pyldavis) (2.2.0)\n",
      "Note: you may need to restart the kernel to use updated packages.\n"
     ]
    }
   ],
   "source": [
    "pip install pyldavis"
   ]
  },
  {
   "cell_type": "code",
   "execution_count": 181,
   "metadata": {},
   "outputs": [],
   "source": [
    "from pyLDAvis import gensim_models"
   ]
  },
  {
   "cell_type": "code",
   "execution_count": 182,
   "metadata": {},
   "outputs": [
    {
     "ename": "ModuleNotFoundError",
     "evalue": "No module named 'pyLDAvis.gensim'",
     "output_type": "error",
     "traceback": [
      "\u001b[1;31m---------------------------------------------------------------------------\u001b[0m",
      "\u001b[1;31mModuleNotFoundError\u001b[0m                       Traceback (most recent call last)",
      "\u001b[1;32m~\\AppData\\Local\\Temp/ipykernel_5768/2480509697.py\u001b[0m in \u001b[0;36m<module>\u001b[1;34m\u001b[0m\n\u001b[0;32m      1\u001b[0m \u001b[1;31m# if ipython is > 7.16.1 results in DeprecationWarning: `should_run_async` will not call `transform_cell` automatically in the future\u001b[0m\u001b[1;33m\u001b[0m\u001b[1;33m\u001b[0m\u001b[0m\n\u001b[1;32m----> 2\u001b[1;33m \u001b[1;32mimport\u001b[0m \u001b[0mpyLDAvis\u001b[0m\u001b[1;33m.\u001b[0m\u001b[0mgensim\u001b[0m\u001b[1;33m\u001b[0m\u001b[1;33m\u001b[0m\u001b[0m\n\u001b[0m",
      "\u001b[1;31mModuleNotFoundError\u001b[0m: No module named 'pyLDAvis.gensim'"
     ]
    }
   ],
   "source": [
    "# if ipython is > 7.16.1 results in DeprecationWarning: `should_run_async` will not call `transform_cell` automatically in the future\n",
    "import pyLDAvis.gensim  "
   ]
  },
  {
   "cell_type": "code",
   "execution_count": null,
   "metadata": {},
   "outputs": [],
   "source": []
  },
  {
   "cell_type": "code",
   "execution_count": 184,
   "metadata": {},
   "outputs": [],
   "source": [
    "lda_display = gensim_models.prepare(ldamodel, corpus, dictionary, sort_topics=False)"
   ]
  },
  {
   "cell_type": "code",
   "execution_count": 185,
   "metadata": {},
   "outputs": [
    {
     "data": {
      "text/html": [
       "\n",
       "<link rel=\"stylesheet\" type=\"text/css\" href=\"https://cdn.jsdelivr.net/gh/bmabey/pyLDAvis@3.3.1/pyLDAvis/js/ldavis.v1.0.0.css\">\n",
       "\n",
       "\n",
       "<div id=\"ldavis_el576831720883647203855677478\"></div>\n",
       "<script type=\"text/javascript\">\n",
       "\n",
       "var ldavis_el576831720883647203855677478_data = {\"mdsDat\": {\"x\": [-0.3342494765147673, 0.0789804869537431, 0.1205582702348495, 0.08396453195158946, 0.05074618737458508], \"y\": [0.021602160078853915, -0.17324951704947172, 0.15538125665656502, 0.0710699943884573, -0.0748038940744044], \"topics\": [1, 2, 3, 4, 5], \"cluster\": [1, 1, 1, 1, 1], \"Freq\": [4.469979821770278, 16.895794463303957, 9.383190989328254, 15.643947087453375, 53.607087638144144]}, \"tinfo\": {\"Term\": [\"enron\", \"image\", \"td\", \"net\", \"money\", \"tr\", \"width\", \"hou\", \"class\", \"pm\", \"message\", \"development\", \"table\", \"height\", \"original\", \"br\", \"right\", \"src\", \"gif\", \"corp\", \"script\", \"e\", \"align\", \"ne\", \"sp\", \"img\", \"se\", \"clear\", \"wscc\", \"please\", \"td\", \"width\", \"img\", \"nbsp\", \"bodydefault\", \"align\", \"src\", \"href\", \"cellpadding\", \"cellspacing\", \"height\", \"scoop\", \"valign\", \"font\", \"stocklookup\", \"coords\", \"rect\", \"bgcolor\", \"colspan\", \"script\", \"linkbarseperator\", \"aaaaaaaaaaaaaaaaaaaaaaaaaaaaaaaaaaaaaaaaaaaaaaaaaaaaaaaaaaaaaaaaaaaaaaaaaaaa\", \"tr\", \"ffffff\", \"underscore\", \"pep\", \"tab\", \"fname\", \"doubleclick\", \"athoc\", \"br\", \"table\", \"gif\", \"border\", \"money\", \"class\", \"net\", \"clear\", \"center\", \"image\", \"right\", \"f\", \"end\", \"start\", \"ctr\", \"syncrasy\", \"rk\", \"wscc\", \"mapp\", \"ecar\", \"npcc\", \"std\", \"frcc\", \"min\", \"nw\", \"sw\", \"serc\", \"tagline\", \"bradford\", \"neumin\", \"donate\", \"maac\", \"deviation\", \"commoditylogic\", \"hp\", \"enlarge\", \"max\", \"sp\", \"astronomical\", \"underhanded\", \"pocketbook\", \"stephanie\", \"temp\", \"royalty\", \"matrix\", \"ne\", \"declared\", \"hou\", \"se\", \"volatility\", \"nc\", \"development\", \"range\", \"enronxgate\", \"image\", \"reg\", \"enron\", \"ee\", \"choice\", \"na\", \"click\", \"corp\", \"employee\", \"please\", \"forecast\", \"p\", \"fund\", \"energy\", \"credit\", \"million\", \"made\", \"company\", \"pm\", \"e\", \"outage\", \"sat\", \"fri\", \"xl\", \"exotica\", \"savita\", \"eei\", \"bergfelt\", \"beth\", \"backout\", \"pt\", \"enform\", \"kristen\", \"coral\", \"fran\", \"cherry\", \"xll\", \"krishna\", \"eix\", \"gregwhalley\", \"epenergy\", \"reliantenergy\", \"hereto\", \"estoppel\", \"pinnamaneni\", \"krishnarao\", \"lover\", \"fagan\", \"breese\", \"pampa\", \"recipient\", \"powersrc\", \"privileged\", \"server\", \"impacted\", \"thru\", \"div\", \"wj\", \"tonight\", \"attachment\", \"intended\", \"matt\", \"ben\", \"doc\", \"scheduled\", \"pm\", \"team\", \"original\", \"november\", \"message\", \"london\", \"mail\", \"fw\", \"file\", \"e\", \"enron\", \"barry\", \"greg\", \"october\", \"corp\", \"know\", \"mark\", \"thanks\", \"contact\", \"copy\", \"may\", \"thursday\", \"please\", \"let\", \"energy\", \"simulation\", \"pseg\", \"tyrell\", \"euci\", \"certificate\", \"sfs\", \"epe\", \"gift\", \"harrison\", \"brochure\", \"kern\", \"hanagriff\", \"congestion\", \"stsw\", \"stwbom\", \"raquel\", \"curve\", \"vladimir\", \"emailed\", \"gorny\", \"blah\", \"anc\", \"validation\", \"baughman\", \"dietz\", \"laurel\", \"ubswenergy\", \"bolt\", \"wyndham\", \"lokay\", \"amazon\", \"design\", \"seller\", \"devon\", \"michelle\", \"peak\", \"password\", \"adult\", \"river\", \"atlanta\", \"blair\", \"businessweek\", \"desk\", \"ref\", \"capacity\", \"conference\", \"user\", \"january\", \"amy\", \"lynn\", \"customer\", \"process\", \"april\", \"gas\", \"settlement\", \"market\", \"available\", \"real\", \"order\", \"transmission\", \"marketing\", \"thanks\", \"link\", \"please\", \"service\", \"time\", \"john\", \"original\", \"point\", \"message\", \"buy\", \"system\", \"know\", \"power\", \"would\", \"thursday\", \"also\", \"like\", \"email\", \"day\", \"mail\", \"e\", \"price\", \"question\", \"enron\", \"classmate\", \"preferred\", \"hourahead\", \"bakernet\", \"detected\", \"awarded\", \"txt\", \"westdesk\", \"parsing\", \"assign\", \"locate\", \"interchange\", \"scientech\", \"alert\", \"intervention\", \"sec\", \"worker\", \"investor\", \"pension\", \"labour\", \"nyse\", \"employer\", \"shareholder\", \"military\", \"former\", \"partnership\", \"announced\", \"issuealert\", \"tmv\", \"fo\", \"share\", \"security\", \"said\", \"copyright\", \"chairman\", \"court\", \"earnings\", \"bush\", \"andersen\", \"member\", \"percent\", \"gov\", \"president\", \"federal\", \"schedule\", \"executive\", \"house\", \"law\", \"stock\", \"program\", \"company\", \"government\", \"skilling\", \"board\", \"business\", \"mr\", \"date\", \"say\", \"firm\", \"mailto\", \"year\", \"dynegy\", \"new\", \"enron\", \"one\", \"financial\", \"may\", \"c\", \"e\", \"energy\", \"u\", \"would\", \"time\", \"employee\", \"see\", \"million\", \"state\", \"market\", \"image\", \"also\", \"day\"], \"Freq\": [9052.0, 2872.0, 1002.0, 1051.0, 906.0, 664.0, 586.0, 1139.0, 548.0, 1038.0, 1283.0, 823.0, 395.0, 372.0, 787.0, 344.0, 599.0, 312.0, 323.0, 1027.0, 304.0, 1881.0, 301.0, 546.0, 531.0, 293.0, 590.0, 318.0, 490.0, 1376.0, 998.8584648601659, 584.2222057749779, 291.68113883409825, 219.1239978279233, 154.20511846502532, 299.3885024989396, 309.89437867409407, 263.1262112789021, 128.32598902760856, 128.46305453091887, 367.6634116123036, 184.1776015484285, 80.87625864268414, 129.29235224387364, 62.86799269710815, 62.86861705765378, 62.86861705765378, 72.04427013592064, 66.16206843607989, 298.68370962420084, 51.450848532953735, 65.3484302365158, 647.484876972876, 40.90483882919736, 34.32513917305165, 34.01401480410268, 36.08778474297832, 28.850130730231694, 23.14558715093968, 23.13970622550625, 329.158729492651, 352.7067812876556, 276.9854728539764, 215.63139838987436, 679.197838531393, 415.08892048076683, 713.9260942543734, 216.25353694649957, 158.21865496067167, 280.07506592336927, 140.76077201783755, 125.57670918267262, 111.31269670212367, 103.90571473213741, 298.04050815270926, 298.04050815270926, 333.44775426897945, 488.00617228754135, 167.24107738232692, 165.66839298502833, 165.66839298502833, 165.66839298502833, 149.12187208176763, 169.36932907151464, 341.38468272250276, 340.6088042631403, 149.60174645364114, 83.07769100275243, 96.40682030891135, 83.0544729543845, 131.56115802014534, 149.33782769607174, 165.87440544408966, 67.19220771872041, 339.08734533578354, 166.83356419258666, 156.23714538564857, 523.8716017738466, 65.01079138402652, 64.57632061720136, 65.00334269399518, 77.93902325600591, 154.0008204489007, 49.91413608745449, 320.1165339502433, 530.6117075099287, 132.08410204526936, 1041.9445914082105, 549.8951469667669, 294.27824726582514, 315.4170829615242, 729.0318647549522, 328.82698088212896, 250.44104490064333, 1993.6671091853204, 185.4330776850562, 3742.9032121426003, 206.43716887733447, 176.69087512647897, 247.93897916217162, 372.0589175320093, 479.4499223495252, 417.3611128085619, 491.57460238199667, 183.24639911331627, 302.76925067031107, 257.54517770598, 362.5385459442755, 228.65217326184813, 283.45679732941375, 241.11587497665457, 324.03295712539403, 249.70211055561225, 252.25871614910668, 243.08809480098438, 141.2286268133236, 147.9411007155731, 83.79063643268097, 65.95386366547565, 57.95704363392045, 57.49293569536424, 56.483051122363314, 83.20107412123237, 49.03603116976677, 100.08690698219019, 47.474679318044515, 47.928220293943134, 42.46742793374176, 39.34612641275659, 47.40119724758019, 38.121729606708726, 38.602059013475966, 37.695355313647994, 37.695355313647994, 38.11017967078067, 59.24621307814645, 34.642315022251864, 34.39729206984886, 29.901984247350477, 29.660163185821148, 29.165814363708606, 28.33902542707085, 47.391174775018506, 28.32131022496842, 167.55303647631794, 38.50858981984535, 52.07815997601101, 76.13088949996255, 49.858640060756805, 158.03151407684058, 70.49708902566141, 181.97329290213563, 60.715955675857714, 76.37210824943888, 163.95947893932376, 46.29713034347792, 83.86643138142875, 167.4337690528338, 171.47313387896628, 601.3318937176537, 306.9454884943827, 423.6892341134818, 168.90649429983148, 506.8172020069709, 117.10973933347205, 298.0864900792045, 109.92162201222753, 177.25450080624904, 403.80696142937103, 877.971757337753, 88.25588888373534, 149.04324503960225, 135.6603048869267, 257.5442586621529, 208.71498435543882, 167.20367621160023, 197.79690750043267, 139.9877868882292, 119.72081508662795, 171.3236448459115, 129.82521172451754, 160.82926801845082, 127.23437365634199, 119.7516631007337, 108.97972860426279, 78.93436031349813, 77.31834812451955, 90.93848748408668, 84.49093159956682, 102.1395250907721, 65.04785666245928, 166.11666663102318, 80.71203959645759, 67.1864671319807, 66.59854004959666, 76.65034264853576, 59.66525584715698, 51.58358417614881, 51.58358417614881, 52.119686848710224, 81.6206819305761, 42.492509411418915, 39.54853186750226, 42.1485370419606, 38.748177726253715, 39.519775787055806, 39.49692838021414, 40.8154824351821, 40.70686486689704, 80.42046201863828, 40.656904239911, 52.099586914843194, 39.30519172089981, 40.280620945587295, 237.26514644658155, 81.5601973574007, 128.26667557784563, 154.7963549563426, 123.57628933153602, 70.7700836984501, 107.08450246585073, 80.38376477726953, 72.96416580800023, 69.18139360183034, 97.39165078420972, 92.25849561100904, 257.7554785495057, 84.41653292349065, 162.71465240469414, 297.2185093793794, 115.06116363104638, 273.6444521707544, 108.55801560329718, 139.29429301171425, 300.29914960314375, 227.2800102350108, 126.25672235887598, 430.55379058261525, 123.35298886720028, 509.90334869069767, 270.33090336078976, 164.40323965464586, 207.10475383403104, 128.66656946594838, 119.8332992486713, 348.6871937537163, 178.71604747859476, 508.81489951412834, 366.28560971217445, 462.71725166460544, 241.5020711153298, 325.177790529009, 185.7016340868863, 403.0357760866421, 187.3344363884876, 213.84027220035097, 278.3083116458294, 282.8277600852554, 332.7536500153237, 196.35334580312656, 259.3730171123591, 239.76523438384118, 236.63838519940404, 249.98903120105612, 215.93455355912965, 254.32677688100793, 212.29203101141326, 208.8841201617995, 246.93644412240113, 350.24295988330323, 291.7467918107409, 314.9951954557775, 1120.344458684337, 155.4572923656054, 154.38252305865055, 156.19291004452677, 148.4461445479793, 148.4315957139358, 122.25999133207927, 121.26815175559932, 118.37736587608538, 157.8822127417743, 358.39212383137505, 92.7783069770006, 200.79265673664068, 259.2527073631008, 403.6331891844048, 114.42989005907363, 94.40386045487975, 126.60995506837436, 122.85814524033624, 153.98096422763393, 75.037614280636, 192.02138904943615, 256.6504068314746, 157.63701602498094, 61.734722013516816, 56.98645469620633, 74.85898845868776, 585.4009261295929, 383.5377394813478, 1223.038910967891, 223.51647649987484, 255.13600672097306, 269.93592858907357, 222.36685708929798, 248.31187404823697, 193.16741598538167, 536.2843927412907, 189.19296908009346, 182.30023528259608, 314.3108083920972, 194.18945437159803, 770.5234838096478, 384.16373850906547, 253.6907032489751, 300.7134433193714, 1122.4164769261247, 294.8077728964494, 2059.135765402424, 266.0932470464138, 256.2849929751015, 367.3096093653572, 777.4040775204599, 568.4898129055251, 748.8823615732446, 490.5625689441071, 424.98639040801555, 668.5797899026952, 874.0086659116786, 402.1646516236032, 1179.5720050404702, 4149.570381049083, 606.9885328818324, 436.1707136701161, 621.1963984135598, 475.58902456642807, 941.4613549896964, 754.6542708142985, 552.4098413984693, 621.3552380964943, 611.5598673824807, 544.6776247359653, 508.2949136103417, 474.93461608415436, 433.49025960991946, 492.77624905909784, 593.5760770205919, 461.5228759649861, 468.9184185681679], \"Total\": [9052.0, 2872.0, 1002.0, 1051.0, 906.0, 664.0, 586.0, 1139.0, 548.0, 1038.0, 1283.0, 823.0, 395.0, 372.0, 787.0, 344.0, 599.0, 312.0, 323.0, 1027.0, 304.0, 1881.0, 301.0, 546.0, 531.0, 293.0, 590.0, 318.0, 490.0, 1376.0, 1002.6178647323482, 586.7620897698591, 293.34404894317333, 220.62289129625722, 155.38364803977282, 301.6805775670452, 312.54625887590976, 265.8604571678479, 129.66620149300965, 129.83050628041894, 372.72165125247545, 186.74456498526607, 82.139980422905, 131.50050306678787, 63.96560778739908, 63.96747383072881, 63.96747383072881, 73.3123063779212, 67.3776650237785, 304.78107009214676, 52.53834931151007, 66.89573941662901, 664.6854827609657, 42.07742551376844, 35.39746851548536, 35.110033045581496, 37.401071710266876, 29.934675870672496, 24.194658418539756, 24.193798047013097, 344.3853904046881, 395.5971102636575, 323.04285656046903, 253.6155145806342, 906.8373640215921, 548.711599117842, 1051.9944530600715, 318.04125684707776, 343.8927120142899, 2872.859677469381, 599.6038080556582, 458.2219124215032, 406.61934409890205, 505.4993432663196, 299.3997836196988, 299.3997836196988, 335.1857130438341, 490.65392060543974, 168.30892360700503, 166.8201057157991, 166.8201057157991, 166.8201057157991, 150.2476409317531, 170.76229673240718, 344.22510249490733, 343.51691772699536, 151.02072695479416, 83.9757845367092, 97.46226098065395, 83.96601041614989, 133.02236132020778, 151.05708386731982, 167.9955039998054, 68.08715465846637, 343.63426192986196, 169.09844136214838, 158.38536104447016, 531.3669132068886, 66.02880127206605, 65.58877030154329, 66.0269604952238, 79.16814208591474, 156.50553696439135, 50.81889590692506, 327.9502254322959, 546.5807973093731, 135.69922803430342, 1139.3264641170929, 590.0330461147314, 311.45255330122336, 340.47535311881876, 823.8471954483648, 360.09851434544254, 271.1344292174837, 2872.859677469381, 198.51400423013658, 9052.54493356295, 231.88854542057206, 192.75690093088764, 324.9314899960608, 635.4420357338917, 1027.9126700792567, 993.4531437837857, 1376.2490985085365, 206.37879097900347, 656.6678153995857, 460.05436148887947, 1338.5345831061722, 390.44800077222266, 766.8766735242029, 523.6652536831389, 2502.6522455218073, 1038.9497070087116, 1881.8285742031085, 244.46699790365992, 142.49401167061285, 149.4423381133738, 85.0277244794254, 66.96544305424001, 59.00944113595535, 58.543773059487854, 57.5207261016822, 84.8902625712376, 50.03489802087821, 102.28838929597758, 48.565165355744455, 49.12911214308711, 43.539420464211986, 40.347566128679176, 48.63627505216728, 39.1252202805629, 39.62475706127083, 38.71736063624973, 38.71736063624973, 39.1456569447855, 60.96309929549225, 35.74452389590622, 35.49703976092006, 30.905003452249783, 30.661324465117143, 30.176285986018883, 29.330850593892663, 49.0882472293469, 29.348556477724696, 173.80984813406144, 39.91335543299224, 54.23283164569142, 79.98669158911802, 52.34675831108231, 173.93411507236942, 75.05593223573692, 210.59149589709097, 65.30141818660199, 84.77242939283323, 199.79409907995722, 48.636788154426064, 95.83324033693401, 215.66475631490442, 231.04426663020595, 1038.9497070087116, 481.95204338996973, 787.5536584371606, 270.27084294279337, 1283.6345648933034, 177.71853456448935, 690.7446322371184, 178.24060420157434, 425.11051241642633, 1881.8285742031085, 9052.54493356295, 130.1460280095243, 349.8789510349201, 294.71754962127187, 1027.9126700792567, 788.102737155782, 494.0566660932428, 730.3754339781844, 367.9319644448861, 251.94281516965032, 936.9511968574376, 395.4502500111024, 1376.2490985085365, 505.80541410011153, 1338.5345831061722, 110.25459036436247, 79.91245231077114, 78.28220587794051, 92.08284465310467, 85.60873747048993, 103.61243960845096, 65.99331169733608, 168.6478094201649, 81.94287500256743, 68.25769052374255, 67.66562238813493, 77.9882127683383, 60.74954553128652, 52.54682035529563, 52.54682035529563, 53.094306548780835, 83.46038915251127, 43.495297187091595, 40.50057546111222, 43.16690935020898, 39.69358290815534, 40.4843584795501, 40.48435973681783, 41.84177491631714, 41.73579705580745, 82.47173694760237, 41.70758517344886, 53.48044398970507, 40.36667739806162, 41.446478444560775, 244.45280195827436, 84.88987771152111, 134.79313691096516, 164.57006660934405, 130.5514099265184, 73.53525642402411, 112.75585800862584, 83.92476952127538, 75.96111695774574, 71.93715853524847, 102.38970936076971, 96.80876204383013, 283.6234766974165, 90.73869560900162, 190.09826174011178, 374.1462587537879, 129.85725196947595, 359.49764347608004, 121.78699059873269, 164.83725844941006, 421.6721617755775, 317.7112814418598, 152.77147243407583, 793.3931516592808, 149.0563267627995, 1071.3280065860363, 456.1322145740743, 227.65485654873447, 328.085655915596, 163.37434542544185, 147.22574734891296, 730.3754339781844, 270.07458787229695, 1376.2490985085365, 875.5804487350176, 1297.658518902231, 457.5185406748776, 787.5536584371606, 310.1700580977762, 1283.6345648933034, 329.6119132740816, 437.32875702514457, 788.102737155782, 850.0944545856021, 1245.5418077742243, 395.4502500111024, 813.8966095386036, 679.8561978749088, 689.6494962886811, 1031.5755485775796, 690.7446322371184, 1881.8285742031085, 704.4661070780578, 655.8020466874847, 9052.54493356295, 350.9051555011387, 292.4393321140647, 315.75564311255124, 1124.5446625339669, 156.0881954730288, 155.0506098187332, 156.91978300888726, 149.14768314138306, 149.13887076463118, 122.87455723786984, 121.88675354118705, 118.9854244030711, 158.76675968182596, 360.6978680507035, 93.50670911400354, 202.39193749904035, 261.38274136516765, 407.08529312164546, 115.53336144352816, 95.3288646909436, 127.85163609448631, 124.09219924921543, 155.56990265709229, 75.82805222865109, 194.08723403217138, 259.46021135043213, 159.37925019247822, 62.43235172435463, 57.64283961885787, 75.72419501284757, 592.1955634702998, 389.29409114128583, 1261.6293730725338, 227.17891295481306, 259.6633773828715, 275.32484090377744, 226.6749850955783, 253.7658778645282, 196.43740416102395, 562.6107866978437, 192.42192557583056, 185.20122180691456, 324.7871782468354, 197.73611637487258, 832.2653238413104, 404.8075488210407, 262.4040667214065, 315.1284574028427, 1291.4903971887352, 309.3997573494487, 2502.6522455218073, 277.7162016014022, 267.12728824205453, 395.0229173159461, 904.7075458054265, 644.271183303305, 879.1160115888416, 553.3408090563174, 472.2063240747628, 796.377269264473, 1094.9129211273887, 445.8228985208309, 1605.9646090602532, 9052.54493356295, 887.2892426839979, 549.7256454206288, 936.9511968574376, 639.5114333417554, 1881.8285742031085, 1338.5345831061722, 889.6246408816489, 1245.5418077742243, 1297.658518902231, 993.4531437837857, 890.0405845950446, 766.8766735242029, 609.5074230529804, 1071.3280065860363, 2872.859677469381, 813.8966095386036, 1031.5755485775796], \"Category\": [\"Default\", \"Default\", \"Default\", \"Default\", \"Default\", \"Default\", \"Default\", \"Default\", \"Default\", \"Default\", \"Default\", \"Default\", \"Default\", \"Default\", \"Default\", \"Default\", \"Default\", \"Default\", \"Default\", \"Default\", \"Default\", \"Default\", \"Default\", \"Default\", \"Default\", \"Default\", \"Default\", \"Default\", \"Default\", \"Default\", \"Topic1\", \"Topic1\", \"Topic1\", \"Topic1\", \"Topic1\", \"Topic1\", \"Topic1\", \"Topic1\", \"Topic1\", \"Topic1\", \"Topic1\", \"Topic1\", \"Topic1\", \"Topic1\", \"Topic1\", \"Topic1\", \"Topic1\", \"Topic1\", \"Topic1\", \"Topic1\", \"Topic1\", \"Topic1\", \"Topic1\", \"Topic1\", \"Topic1\", \"Topic1\", \"Topic1\", \"Topic1\", \"Topic1\", \"Topic1\", \"Topic1\", \"Topic1\", \"Topic1\", \"Topic1\", \"Topic1\", \"Topic1\", \"Topic1\", \"Topic1\", \"Topic1\", \"Topic1\", \"Topic1\", \"Topic1\", \"Topic1\", \"Topic1\", \"Topic2\", \"Topic2\", \"Topic2\", \"Topic2\", \"Topic2\", \"Topic2\", \"Topic2\", \"Topic2\", \"Topic2\", \"Topic2\", \"Topic2\", \"Topic2\", \"Topic2\", \"Topic2\", \"Topic2\", \"Topic2\", \"Topic2\", \"Topic2\", \"Topic2\", \"Topic2\", \"Topic2\", \"Topic2\", \"Topic2\", \"Topic2\", \"Topic2\", \"Topic2\", \"Topic2\", \"Topic2\", \"Topic2\", \"Topic2\", \"Topic2\", \"Topic2\", \"Topic2\", \"Topic2\", \"Topic2\", \"Topic2\", \"Topic2\", \"Topic2\", \"Topic2\", \"Topic2\", \"Topic2\", \"Topic2\", \"Topic2\", \"Topic2\", \"Topic2\", \"Topic2\", \"Topic2\", \"Topic2\", \"Topic2\", \"Topic2\", \"Topic2\", \"Topic2\", \"Topic2\", \"Topic2\", \"Topic2\", \"Topic2\", \"Topic2\", \"Topic2\", \"Topic2\", \"Topic2\", \"Topic3\", \"Topic3\", \"Topic3\", \"Topic3\", \"Topic3\", \"Topic3\", \"Topic3\", \"Topic3\", \"Topic3\", \"Topic3\", \"Topic3\", \"Topic3\", \"Topic3\", \"Topic3\", \"Topic3\", \"Topic3\", \"Topic3\", \"Topic3\", \"Topic3\", \"Topic3\", \"Topic3\", \"Topic3\", \"Topic3\", \"Topic3\", \"Topic3\", \"Topic3\", \"Topic3\", \"Topic3\", \"Topic3\", \"Topic3\", \"Topic3\", \"Topic3\", \"Topic3\", \"Topic3\", \"Topic3\", \"Topic3\", \"Topic3\", \"Topic3\", \"Topic3\", \"Topic3\", \"Topic3\", \"Topic3\", \"Topic3\", \"Topic3\", \"Topic3\", \"Topic3\", \"Topic3\", \"Topic3\", \"Topic3\", \"Topic3\", \"Topic3\", \"Topic3\", \"Topic3\", \"Topic3\", \"Topic3\", \"Topic3\", \"Topic3\", \"Topic3\", \"Topic3\", \"Topic3\", \"Topic3\", \"Topic3\", \"Topic3\", \"Topic3\", \"Topic3\", \"Topic3\", \"Topic3\", \"Topic3\", \"Topic3\", \"Topic3\", \"Topic4\", \"Topic4\", \"Topic4\", \"Topic4\", \"Topic4\", \"Topic4\", \"Topic4\", \"Topic4\", \"Topic4\", \"Topic4\", \"Topic4\", \"Topic4\", \"Topic4\", \"Topic4\", \"Topic4\", \"Topic4\", \"Topic4\", \"Topic4\", \"Topic4\", \"Topic4\", \"Topic4\", \"Topic4\", \"Topic4\", \"Topic4\", \"Topic4\", \"Topic4\", \"Topic4\", \"Topic4\", \"Topic4\", \"Topic4\", \"Topic4\", \"Topic4\", \"Topic4\", \"Topic4\", \"Topic4\", \"Topic4\", \"Topic4\", \"Topic4\", \"Topic4\", \"Topic4\", \"Topic4\", \"Topic4\", \"Topic4\", \"Topic4\", \"Topic4\", \"Topic4\", \"Topic4\", \"Topic4\", \"Topic4\", \"Topic4\", \"Topic4\", \"Topic4\", \"Topic4\", \"Topic4\", \"Topic4\", \"Topic4\", \"Topic4\", \"Topic4\", \"Topic4\", \"Topic4\", \"Topic4\", \"Topic4\", \"Topic4\", \"Topic4\", \"Topic4\", \"Topic4\", \"Topic4\", \"Topic4\", \"Topic4\", \"Topic4\", \"Topic4\", \"Topic4\", \"Topic4\", \"Topic4\", \"Topic4\", \"Topic4\", \"Topic4\", \"Topic4\", \"Topic4\", \"Topic4\", \"Topic4\", \"Topic4\", \"Topic4\", \"Topic4\", \"Topic4\", \"Topic5\", \"Topic5\", \"Topic5\", \"Topic5\", \"Topic5\", \"Topic5\", \"Topic5\", \"Topic5\", \"Topic5\", \"Topic5\", \"Topic5\", \"Topic5\", \"Topic5\", \"Topic5\", \"Topic5\", \"Topic5\", \"Topic5\", \"Topic5\", \"Topic5\", \"Topic5\", \"Topic5\", \"Topic5\", \"Topic5\", \"Topic5\", \"Topic5\", \"Topic5\", \"Topic5\", \"Topic5\", \"Topic5\", \"Topic5\", \"Topic5\", \"Topic5\", \"Topic5\", \"Topic5\", \"Topic5\", \"Topic5\", \"Topic5\", \"Topic5\", \"Topic5\", \"Topic5\", \"Topic5\", \"Topic5\", \"Topic5\", \"Topic5\", \"Topic5\", \"Topic5\", \"Topic5\", \"Topic5\", \"Topic5\", \"Topic5\", \"Topic5\", \"Topic5\", \"Topic5\", \"Topic5\", \"Topic5\", \"Topic5\", \"Topic5\", \"Topic5\", \"Topic5\", \"Topic5\", \"Topic5\", \"Topic5\", \"Topic5\", \"Topic5\", \"Topic5\", \"Topic5\", \"Topic5\", \"Topic5\", \"Topic5\", \"Topic5\", \"Topic5\", \"Topic5\", \"Topic5\", \"Topic5\", \"Topic5\", \"Topic5\", \"Topic5\", \"Topic5\", \"Topic5\", \"Topic5\", \"Topic5\"], \"logprob\": [30.0, 29.0, 28.0, 27.0, 26.0, 25.0, 24.0, 23.0, 22.0, 21.0, 20.0, 19.0, 18.0, 17.0, 16.0, 15.0, 14.0, 13.0, 12.0, 11.0, 10.0, 9.0, 8.0, 7.0, 6.0, 5.0, 4.0, 3.0, 2.0, 1.0, -2.9827, -3.519, -4.2136, -4.4996, -4.851, -4.1875, -4.153, -4.3166, -5.0347, -5.0336, -3.9821, -4.6734, -5.4964, -5.0272, -5.7482, -5.7482, -5.7482, -5.612, -5.6972, -4.1899, -5.9486, -5.7095, -3.4162, -6.178, -6.3534, -6.3625, -6.3033, -6.5272, -6.7475, -6.7477, -4.0927, -4.0236, -4.2653, -4.5157, -3.3684, -3.8608, -3.3185, -4.5128, -4.8253, -4.2542, -4.9422, -5.0564, -5.1769, -5.2458, -5.5217, -5.5217, -5.4095, -5.0286, -6.0995, -6.109, -6.109, -6.109, -6.2142, -6.0869, -5.3859, -5.3882, -6.211, -6.7992, -6.6504, -6.7995, -6.3395, -6.2127, -6.1077, -7.0114, -5.3927, -6.102, -6.1676, -4.9577, -7.0444, -7.0511, -7.0445, -6.863, -6.182, -7.3086, -5.4503, -4.9449, -6.3355, -4.2701, -4.9092, -5.5344, -5.4651, -4.6272, -5.4234, -5.6957, -3.6212, -5.9963, -2.9913, -5.889, -6.0446, -5.7058, -5.2999, -5.0463, -5.185, -5.0213, -6.0081, -5.506, -5.6678, -5.3258, -5.7868, -5.5719, -5.7337, -5.4381, -5.6987, -5.6885, -5.1374, -5.6804, -5.634, -6.2025, -6.4419, -6.5711, -6.5791, -6.5969, -6.2095, -6.7383, -6.0248, -6.7706, -6.7611, -6.8821, -6.9584, -6.7722, -6.99, -6.9775, -7.0013, -7.0013, -6.9903, -6.5491, -7.0857, -7.0928, -7.2329, -7.241, -7.2578, -7.2866, -6.7724, -7.2872, -5.5095, -6.9799, -6.6781, -6.2984, -6.7216, -5.568, -6.3752, -5.4269, -6.5246, -6.2952, -5.5312, -6.7957, -6.2016, -5.5102, -5.4864, -4.2317, -4.9041, -4.5818, -5.5015, -4.4027, -5.8677, -4.9334, -5.931, -5.4532, -4.6299, -3.8532, -6.1506, -5.6266, -5.7207, -5.0796, -5.2898, -5.5116, -5.3436, -5.6893, -5.8456, -5.4873, -5.7646, -5.5505, -5.7848, -5.8454, -6.4508, -6.7734, -6.794, -6.6318, -6.7053, -6.5156, -6.9668, -6.0293, -6.7511, -6.9345, -6.9433, -6.8027, -7.0532, -7.1988, -7.1988, -7.1884, -6.7399, -7.3926, -7.4644, -7.4008, -7.4849, -7.4652, -7.4657, -7.4329, -7.4356, -6.7547, -7.4368, -7.1888, -7.4706, -7.4461, -5.6728, -6.7406, -6.2879, -6.0999, -6.3251, -6.8825, -6.4684, -6.7552, -6.852, -6.9052, -6.5632, -6.6174, -5.59, -6.7062, -6.05, -5.4475, -6.3965, -5.5301, -6.4547, -6.2054, -5.4372, -5.7158, -6.3037, -5.0769, -6.3269, -4.9078, -5.5423, -6.0397, -5.8087, -6.2847, -6.3559, -5.2878, -5.9562, -4.9099, -5.2386, -5.0049, -5.6551, -5.3576, -5.9178, -5.1429, -5.9091, -5.7767, -5.5132, -5.4971, -5.3346, -5.8621, -5.5837, -5.6623, -5.6754, -5.6206, -5.767, -5.6034, -5.784, -5.8002, -5.6328, -6.5149, -6.6977, -6.621, -5.3522, -7.3272, -7.3341, -7.3225, -7.3733, -7.3734, -7.5674, -7.5756, -7.5997, -7.3117, -6.4919, -7.8434, -7.0713, -6.8158, -6.3731, -7.6336, -7.826, -7.5325, -7.5625, -7.3367, -8.0556, -7.116, -6.8259, -7.3133, -8.2507, -8.3308, -8.058, -6.0013, -6.4241, -5.2645, -6.9641, -6.8318, -6.7754, -6.9692, -6.8589, -7.11, -6.0889, -7.1308, -7.1679, -6.6232, -7.1047, -5.7265, -6.4225, -6.8375, -6.6674, -5.3503, -6.6872, -4.7435, -6.7897, -6.8273, -6.4674, -5.7176, -6.0306, -5.755, -6.178, -6.3215, -5.8684, -5.6005, -6.3767, -5.3007, -4.0428, -5.9651, -6.2955, -5.9419, -6.209, -5.5261, -5.7473, -6.0593, -5.9417, -5.9576, -6.0734, -6.1425, -6.2104, -6.3017, -6.1735, -5.9874, -6.239, -6.2231], \"loglift\": [30.0, 29.0, 28.0, 27.0, 26.0, 25.0, 24.0, 23.0, 22.0, 21.0, 20.0, 19.0, 18.0, 17.0, 16.0, 15.0, 14.0, 13.0, 12.0, 11.0, 10.0, 9.0, 8.0, 7.0, 6.0, 5.0, 4.0, 3.0, 2.0, 1.0, 3.104, 3.1034, 3.1021, 3.101, 3.1002, 3.1002, 3.0993, 3.0974, 3.0974, 3.0972, 3.0941, 3.0939, 3.0923, 3.0909, 3.0905, 3.0905, 3.0905, 3.0903, 3.0896, 3.0876, 3.0869, 3.0844, 3.0816, 3.0795, 3.077, 3.0761, 3.072, 3.0709, 3.0635, 3.0632, 3.0626, 2.993, 2.954, 2.9455, 2.8187, 2.8287, 2.7201, 2.7221, 2.3314, 0.7798, 1.6586, 1.8133, 1.8123, 1.5257, 1.7736, 1.7736, 1.7729, 1.7727, 1.7717, 1.7712, 1.7712, 1.7712, 1.7706, 1.7699, 1.7698, 1.7696, 1.7687, 1.7674, 1.7672, 1.7672, 1.7671, 1.7667, 1.7654, 1.7649, 1.7648, 1.7646, 1.7644, 1.7639, 1.7626, 1.7625, 1.7625, 1.7625, 1.762, 1.7601, 1.7539, 1.7485, 1.7511, 1.6888, 1.7077, 1.7214, 1.7017, 1.6558, 1.6873, 1.6987, 1.4128, 1.7099, 0.8949, 1.6618, 1.6911, 1.5077, 1.2428, 1.0155, 0.9109, 0.7486, 1.6592, 1.0039, 1.198, 0.4719, 1.243, 0.7828, 1.0025, -0.2662, 0.3524, -0.2314, 2.3606, 2.3573, 2.3562, 2.3516, 2.351, 2.3483, 2.3481, 2.348, 2.3462, 2.3461, 2.3445, 2.3435, 2.3415, 2.3413, 2.3411, 2.3405, 2.3403, 2.3401, 2.3395, 2.3395, 2.3394, 2.3377, 2.3349, 2.3348, 2.3333, 2.3331, 2.3322, 2.3319, 2.3311, 2.3306, 2.3296, 2.3304, 2.3257, 2.3168, 2.3176, 2.2704, 2.3036, 2.2202, 2.2934, 2.2619, 2.1686, 2.317, 2.2329, 2.1131, 2.0681, 1.8194, 1.9151, 1.7463, 1.8962, 1.4369, 1.9492, 1.5259, 1.8829, 1.4915, 0.8272, 0.0331, 1.9778, 1.5129, 1.5904, 0.9822, 1.0376, 1.2828, 1.0599, 1.3999, 1.6222, 0.6672, 1.2524, 0.2195, 0.9861, -0.0477, 1.8435, 1.8428, 1.8427, 1.8426, 1.8419, 1.8408, 1.8407, 1.84, 1.84, 1.8393, 1.8392, 1.8378, 1.8371, 1.8366, 1.8366, 1.8366, 1.8328, 1.8318, 1.8313, 1.8312, 1.831, 1.831, 1.8304, 1.8303, 1.8301, 1.8299, 1.8296, 1.8289, 1.8284, 1.8266, 1.8252, 1.8151, 1.8055, 1.7939, 1.8002, 1.8168, 1.8035, 1.812, 1.8148, 1.816, 1.805, 1.8069, 1.7594, 1.7829, 1.6995, 1.6249, 1.7341, 1.5822, 1.7401, 1.6867, 1.5156, 1.5201, 1.6645, 1.2438, 1.6658, 1.1127, 1.332, 1.5296, 1.395, 1.6163, 1.6492, 1.1157, 1.4422, 0.8601, 0.9836, 0.8239, 1.2161, 0.9705, 1.3421, 0.6967, 1.2901, 1.1396, 0.8142, 0.7546, 0.5352, 1.155, 0.7115, 0.8129, 0.7854, 0.4377, 0.6923, -0.1463, 0.6556, 0.711, -1.7466, 0.6216, 0.6211, 0.6211, 0.6197, 0.6194, 0.6192, 0.6188, 0.6188, 0.6187, 0.6185, 0.6184, 0.6184, 0.6179, 0.6171, 0.6157, 0.6156, 0.6153, 0.615, 0.6139, 0.6137, 0.6137, 0.6135, 0.6132, 0.613, 0.6128, 0.6126, 0.6125, 0.6123, 0.612, 0.612, 0.6119, 0.6086, 0.5924, 0.6072, 0.6059, 0.6037, 0.6043, 0.6018, 0.6067, 0.5756, 0.6066, 0.6077, 0.5907, 0.6054, 0.5464, 0.5711, 0.5897, 0.5767, 0.4832, 0.5752, 0.4284, 0.5807, 0.5821, 0.5508, 0.4718, 0.4984, 0.4632, 0.5031, 0.5181, 0.4486, 0.3981, 0.5204, 0.3149, -0.1566, 0.2438, 0.3921, 0.2125, 0.3273, -0.0691, 0.0504, 0.147, -0.0719, -0.1288, 0.0225, 0.0633, 0.1443, 0.2827, -0.1531, -0.9534, 0.0562, -0.1649]}, \"token.table\": {\"Topic\": [1, 5, 4, 5, 2, 5, 1, 2, 5, 1, 2, 3, 4, 5, 1, 4, 5, 2, 4, 5, 4, 5, 2, 5, 2, 5, 2, 3, 4, 5, 5, 2, 5, 1, 5, 4, 5, 2, 3, 4, 5, 2, 3, 4, 5, 5, 3, 5, 2, 3, 5, 3, 4, 5, 4, 5, 2, 3, 4, 5, 3, 5, 3, 4, 5, 1, 5, 4, 5, 4, 5, 2, 4, 5, 1, 5, 2, 4, 5, 1, 2, 4, 5, 1, 3, 5, 2, 5, 2, 3, 5, 4, 5, 2, 4, 5, 1, 2, 3, 4, 5, 4, 5, 2, 3, 4, 5, 1, 2, 3, 4, 5, 2, 4, 5, 1, 5, 1, 5, 1, 2, 3, 4, 5, 4, 5, 2, 4, 5, 3, 5, 2, 4, 5, 1, 3, 4, 5, 5, 1, 2, 3, 4, 5, 1, 2, 3, 4, 5, 1, 5, 2, 5, 1, 2, 3, 4, 5, 2, 3, 4, 5, 4, 5, 1, 2, 3, 4, 5, 1, 5, 1, 2, 3, 4, 5, 1, 2, 4, 5, 3, 5, 1, 2, 3, 4, 5, 2, 5, 2, 3, 4, 5, 2, 5, 2, 4, 5, 2, 3, 4, 5, 1, 2, 3, 4, 5, 1, 2, 3, 4, 5, 2, 5, 4, 5, 1, 2, 3, 4, 5, 5, 2, 3, 4, 5, 2, 4, 5, 1, 4, 5, 4, 5, 1, 3, 5, 1, 2, 3, 4, 5, 2, 5, 1, 5, 2, 3, 4, 5, 1, 2, 3, 4, 5, 2, 4, 5, 2, 5, 2, 3, 4, 5, 3, 5, 3, 5, 1, 2, 3, 4, 5, 4, 5, 1, 2, 3, 4, 5, 2, 5, 1, 2, 3, 4, 5, 1, 2, 3, 4, 5, 3, 5, 2, 5, 1, 2, 3, 4, 5, 2, 3, 4, 5, 4, 5, 3, 5, 3, 5, 4, 5, 2, 4, 5, 3, 5, 1, 2, 3, 4, 5, 3, 5, 2, 4, 5, 1, 5, 2, 3, 4, 5, 2, 3, 4, 5, 2, 3, 4, 5, 1, 5, 5, 1, 2, 5, 2, 4, 5, 2, 5, 3, 5, 2, 5, 3, 5, 1, 2, 3, 4, 5, 2, 3, 4, 5, 1, 2, 3, 4, 5, 1, 5, 3, 4, 5, 4, 5, 2, 5, 2, 4, 5, 2, 3, 4, 5, 3, 5, 4, 5, 4, 5, 1, 5, 3, 5, 1, 2, 3, 4, 5, 5, 2, 3, 4, 5, 2, 4, 5, 1, 5, 1, 2, 3, 4, 5, 1, 5, 3, 5, 2, 3, 4, 5, 5, 5, 2, 4, 5, 5, 2, 3, 4, 5, 2, 3, 4, 5, 4, 5, 1, 2, 3, 4, 5, 3, 5, 3, 5, 3, 5, 5, 2, 4, 5, 2, 3, 4, 5, 2, 3, 4, 5, 1, 2, 3, 4, 5, 1, 2, 3, 4, 5, 1, 5, 5, 4, 5, 1, 2, 3, 4, 5, 3, 5, 2, 4, 5, 2, 5, 1, 2, 3, 4, 5, 1, 2, 3, 4, 5, 1, 2, 3, 4, 5, 2, 5, 2, 3, 4, 5, 1, 2, 3, 4, 5, 2, 4, 5, 2, 4, 5, 2, 3, 5, 2, 5, 1, 2, 3, 4, 5, 1, 2, 3, 4, 5, 1, 2, 3, 4, 5, 2, 4, 5, 5, 1, 2, 4, 5, 2, 5, 1, 2, 3, 4, 5, 2, 3, 4, 5, 2, 3, 4, 5, 1, 5, 2, 3, 4, 5, 2, 3, 4, 5, 1, 2, 3, 4, 5, 2, 5, 1, 2, 3, 4, 5, 1, 2, 3, 4, 5, 2, 5, 1, 2, 4, 5, 2, 5, 1, 2, 3, 4, 5, 2, 3, 4, 5, 2, 3, 4, 5, 1, 2, 3, 4, 5, 2, 3, 5, 1, 2, 3, 4, 5, 3, 5, 5, 2, 5, 2, 4, 5, 4, 5, 2, 5, 1, 5, 2, 4, 5, 3, 5, 1, 2, 3, 4, 5, 1, 2, 3, 4, 5, 2, 5, 1, 2, 3, 4, 5, 1, 2, 3, 4, 5, 3, 5, 5, 2, 3, 4, 5, 1, 2, 3, 4, 5, 2, 3, 5, 1, 2, 3, 4, 5, 2, 3, 4, 5, 4, 5, 1, 3, 5, 1, 2, 3, 4, 5, 2, 4, 5, 4, 5, 1, 2, 3, 4, 5, 3, 4, 5, 1, 5, 2, 4, 5, 2, 3, 4, 5, 3, 5, 1, 2, 3, 4, 5, 2, 4, 5, 2, 5, 2, 5, 2, 3, 4, 5, 3, 5, 3, 5, 2, 3, 4, 5, 2, 3, 4, 5, 2, 3, 4, 5, 5, 1, 3, 5, 1, 3, 5, 1, 2, 3, 4, 5, 2, 4, 5, 2, 4, 5, 2, 3, 4, 5, 4, 5, 2, 5, 3, 4, 5, 1, 2, 3, 4, 5, 2, 4, 5, 4, 5, 2, 4, 5, 2, 4, 5, 4, 5, 2, 3, 4, 5, 2, 4, 5, 1, 5, 1, 2, 3, 4, 5, 1, 2, 3, 4, 5, 2, 5, 2, 5, 1, 2, 3, 4, 5, 1, 5, 4, 5, 4, 5, 2, 4, 5, 2, 5, 2, 3, 4, 5, 1, 5, 1, 2, 3, 4, 5, 2, 5, 1, 2, 3, 5, 2, 3, 4, 5, 2, 4, 5, 1, 2, 3, 4, 5, 3, 4, 5, 2, 3, 4, 5, 1, 2, 3, 4, 5, 5, 3, 4, 5, 1, 2, 3, 5, 2, 4, 5, 5, 4, 5, 1, 2, 3, 4, 5, 4, 5, 2, 5, 1, 5, 2, 3, 4, 5, 4, 5, 1, 5, 4, 5, 2, 3, 4, 5, 5, 1, 3, 5, 1, 3, 5, 2, 5, 1, 2, 3, 4, 5, 2, 4, 5, 4, 5, 3, 5, 3, 5, 1, 2, 3, 4, 5], \"Freq\": [0.9716612831674932, 0.014948635125653741, 0.9532346702449933, 0.035746300134187246, 0.0027724034117646333, 0.9925204214117388, 0.9911145172531054, 0.003314764271749516, 0.003314764271749516, 0.001228657286785969, 0.049146291471438765, 0.0638901789128704, 0.318222237277566, 0.5676396664951178, 0.024544615369244734, 0.969512307085167, 0.004090769228207456, 0.05747740350251205, 0.8950052831105447, 0.04926634585929604, 0.9880359107136459, 0.024700897767841148, 0.015272040540409686, 0.9825012747663564, 0.006274342480544523, 0.9913461119260346, 0.013091449392575848, 0.01963717408886377, 0.8247613117322784, 0.14400594331833433, 0.992882519721501, 0.9844189012636022, 0.015144906173286189, 0.9506568565756678, 0.04133290680763773, 0.9591704955400859, 0.027802043348988, 0.01179628809935393, 0.8965178955508987, 0.03538886429806179, 0.04718515239741572, 0.08988621871025894, 0.09427091230588132, 0.5919336354090222, 0.22142702657893054, 0.9932240845749563, 0.9793164758635787, 0.019986050527828137, 0.0026677464221296636, 0.0008892488073765545, 0.9959586642617411, 0.6761635475618205, 0.31503074375039364, 0.007683676676838869, 0.9798819500845584, 0.02389955975815996, 0.03130437820376824, 0.8765225897055106, 0.020869585469178824, 0.07304354914212588, 0.9735621191743313, 0.017385037842398775, 0.977732869306991, 0.011779914088036036, 0.011779914088036036, 0.9820997804767411, 0.013640274728843627, 0.9825265733818944, 0.025192989061074218, 0.9473608295753717, 0.039066425961871, 0.06581896609103506, 0.0025314986958090407, 0.9290600213619179, 0.99109527896128, 0.006435683629618702, 0.018698423674128415, 0.9723180310546775, 0.018698423674128415, 0.8516829120535733, 0.0039429764446924686, 0.0749165524491569, 0.06703059955977198, 0.9553250781439692, 0.002903723641774982, 0.04065213098484975, 0.9849966441785687, 0.010260381710193424, 0.020371474975015208, 0.9574593238257149, 0.020371474975015208, 0.9815743762484158, 0.01465036382460322, 0.015762560489457855, 0.003940640122364464, 0.9772787503463871, 0.0011053295671472909, 0.02542258004438769, 0.01326395480576749, 0.10058499061040348, 0.8588410736734451, 0.9503272023904926, 0.041318574016977944, 0.024270967394760926, 0.030338709243451157, 0.5673338628525366, 0.37619999461879433, 0.006254774803787436, 0.11414964016912071, 0.01720063071041545, 0.11884072127196128, 0.744318201650705, 0.005260437369843632, 0.857451291284512, 0.13677137161593445, 0.9871500709219165, 0.007712109929077473, 0.9859007999517058, 0.007702349999622701, 0.45944561917158216, 0.014539418328214624, 0.10759169562878822, 0.0697892079754302, 0.348946039877151, 0.9812082560960034, 0.011681050667809565, 0.01155341977847159, 0.003851139926157197, 0.9820406811700851, 0.9663569002681186, 0.02056078511208763, 0.91825506192104, 0.015563645117305763, 0.06225458046922305, 0.7563171630911234, 0.0018224509954002973, 0.029159215926404757, 0.21140431546643448, 0.9974205123893206, 0.6791571701776359, 0.08175040011397469, 0.006288492316459592, 0.003144246158229796, 0.2326742157090049, 0.06924313710090495, 0.5854192500349237, 0.01888449193661044, 0.24707210283731992, 0.08025909073059437, 0.9795530904300066, 0.014841713491363737, 0.9840328963088606, 0.014687058153863591, 0.0003995760904414022, 0.12946265330301432, 0.02197668497427712, 0.025173293697808338, 0.8227271702188471, 0.016036509412080967, 0.08552805019776515, 0.7938072158980078, 0.10156455960984612, 0.9876617096517949, 0.016461028494196582, 0.008153681359341046, 0.027178937864470152, 0.38050513010258213, 0.38594091767547617, 0.1984062464106321, 0.9848755348180711, 0.01563294499711224, 0.04762985597314843, 0.015876618657716144, 0.4762985597314843, 0.2659333625167454, 0.19051942389259371, 0.004401816995219555, 0.00880363399043911, 0.004401816995219555, 0.9860070069291803, 0.964643064886972, 0.022967692021118383, 0.009728452903716961, 0.46599289408804245, 0.2509940849158976, 0.0029185358711150884, 0.2704509907233315, 0.014528293149538038, 0.9806597875938176, 0.5865057563288504, 0.06402901269965615, 0.10244642031944985, 0.24587140876667962, 0.995324700630122, 0.003340015773926584, 0.011981731814988916, 0.982502008829091, 0.011981731814988916, 0.07114531790212561, 0.0023715105967375204, 0.7114531790212562, 0.21580746430311437, 0.005687531490824986, 0.07166289678439482, 0.018200100770639955, 0.05232528971558987, 0.851992217325583, 0.01841842803098498, 0.23459260965780868, 0.05040832934795889, 0.24234773724980235, 0.4546443550806292, 0.9727395056855571, 0.022107716038308117, 0.9659573344970327, 0.03533990248159876, 0.007051602438868975, 0.007051602438868975, 0.0035258012194344874, 0.9096567146140978, 0.07404182560812424, 0.9930283294663571, 0.8848728308205919, 0.001213817326228521, 0.001213817326228521, 0.11288501133925247, 0.9881216821147325, 0.005952540253703208, 0.005952540253703208, 0.03645863505811651, 0.9418480723346765, 0.024305756705411005, 0.9823701209102687, 0.023960246851469965, 0.013323397234734004, 0.9326378064313803, 0.03997019170420201, 0.004636826234787491, 0.013910478704362472, 0.7743499812095109, 0.06491556728702487, 0.13910478704362472, 0.9923143649679562, 0.007517533067939062, 0.950623050845623, 0.04133143699328796, 0.002243043153049877, 0.09196476927504496, 0.002243043153049877, 0.9017033475260506, 0.015941940945765475, 0.13391230394443, 0.2146848047363084, 0.13497510000748103, 0.5000455476655105, 0.013234808414060507, 0.004411602804686836, 0.9793758226404776, 0.9950838916431557, 0.00599448127495877, 0.8883578083875662, 0.03881174891013639, 0.00431241654557071, 0.06468624818356065, 0.9736304481448576, 0.017081235932365924, 0.9814718610860553, 0.025828206870685665, 0.06525053703680718, 0.1870515395055139, 0.02755022674887414, 0.34365282839385114, 0.37700310287933037, 0.9876402876894216, 0.024691007192235537, 0.014092259999981387, 0.4197480299994456, 0.012079079999984046, 0.005032949999993352, 0.5485915499992754, 0.00805852427509719, 0.9911984858369546, 0.272982585828483, 0.06640116952584722, 0.11312791845144342, 0.19920350857754165, 0.34922096565445576, 0.00074708566563848, 0.27119209662676824, 0.0896502798766176, 0.07545565222948648, 0.5640496775570524, 0.9677718516084632, 0.020590890459754537, 0.9875904157055223, 0.005913715064104924, 0.0038663160754093613, 0.41347488772163543, 0.09698930040598341, 0.02728514487503178, 0.4584346203699671, 0.92205184240718, 0.0073764147392574395, 0.06269952528368823, 0.0073764147392574395, 0.98494829745942, 0.015153050730144923, 0.9707334852905538, 0.02554561803396194, 0.9578263491546638, 0.02817136321043129, 0.9882405386455645, 0.010859786138962248, 0.012351548321077441, 0.03952495462744782, 0.9485989110587475, 0.98558296622546, 0.014933075245840303, 0.27497593760661704, 0.10911743555818136, 0.05892341520141794, 0.006547046133490882, 0.5477695265020704, 0.9546262530085038, 0.034093794750303705, 0.010114490143056896, 0.005057245071528448, 0.9811055438765189, 0.9743942149356098, 0.02376571255940512, 0.016466306514535206, 0.416362321867533, 0.007056988506229374, 0.5575020919921205, 0.13279351365196584, 0.001819089228109121, 0.07094447989625573, 0.7931229034555768, 0.008470873421353615, 0.04658980381744488, 0.04447208546210648, 0.9000303010188216, 0.9687761486140488, 0.03340607409013961, 0.9904364118664489, 0.980984840297395, 0.00760453364571624, 0.00760453364571624, 0.8867190234611755, 0.009690918289193174, 0.09690918289193175, 0.005152322382183275, 0.9892458973791888, 0.966601055330539, 0.024784642444372795, 0.9916961030202144, 0.006655678543759828, 0.9903485308676074, 0.006691544127483834, 0.002173656166987936, 0.5608032910828875, 0.04347312333975872, 0.004347312333975872, 0.3934317662248164, 0.005610393908164093, 0.6171433298980503, 0.3422340283980097, 0.03366236344898456, 0.0012604091652525956, 0.06176004909737718, 0.08192659574141871, 0.5432363502238686, 0.3125814729826437, 0.8574713675742572, 0.13930040267451832, 0.005929516685915708, 0.9842997698620075, 0.011859033371831416, 0.9729675029374478, 0.02316589292708209, 0.010799064825204784, 0.9827148990936352, 0.0360079820418713, 0.00360079820418713, 0.9578123223137767, 0.1914948007069822, 0.4258615717214977, 0.36584081329095103, 0.01714878812301333, 0.9814718610860553, 0.025828206870685665, 0.9873286906667068, 0.012822450528139049, 0.9884935084040206, 0.012203623560543464, 0.9873319641168978, 0.010731869175183671, 0.979170966213611, 0.027976313320388885, 0.0008777115528295376, 0.9145754380483782, 0.060562097145238095, 0.007899403975465838, 0.015798807950931675, 0.9976068737676308, 0.015243666190001493, 0.01143274964250112, 0.0038109165475003733, 0.9679728030650948, 0.9865139701034589, 0.005820141416539581, 0.005820141416539581, 0.9892407573569995, 0.007522743401954368, 0.09746386229578881, 0.6940819336350103, 0.00069617044496992, 0.00104425566745488, 0.20676262215606625, 0.9954181823424899, 0.0034089663778852394, 0.9551689849228834, 0.038206759396915334, 0.010010305655722113, 0.8208450637692133, 0.010010305655722113, 0.1601648904915538, 0.9917181082639761, 0.9945810400258471, 0.004912975324319464, 0.002456487662159732, 0.9924210155125316, 0.9930748768480882, 0.07510480385609677, 0.04728820983532019, 0.7621746761692784, 0.11682969488726165, 0.13769933762043784, 0.12458511498991996, 0.5289403127642216, 0.20982756208828626, 0.9901630641285337, 0.014778553195948264, 0.0012688701013892467, 0.18652390490421927, 0.26519385119035255, 0.35274588818621055, 0.19413712551255474, 0.984233163617766, 0.025236747785070925, 0.978431314476662, 0.032614377149222065, 0.9770174527111622, 0.02035453026481588, 0.9860602064731203, 0.012125366058863784, 0.9700292847091027, 0.012125366058863784, 0.034906400046055545, 0.0031733090950959585, 0.006346618190191917, 0.9551660376238835, 0.2530617435713442, 0.2510846986996931, 0.3875007948436208, 0.10873746794081197, 0.03383068371207512, 0.22210579306623232, 0.10737564830354278, 0.35301583003904474, 0.28388356332306514, 0.1147831058235592, 0.003702680833018039, 0.044432169996216464, 0.662779869110229, 0.17772867998486586, 0.9707194966787233, 0.019033715621151436, 0.9927247751258925, 0.9651000881414907, 0.02412750220353727, 0.03376125070299158, 0.02813437558582632, 0.6583443887083359, 0.0056268751171652635, 0.27571688074109796, 0.9610195241865128, 0.033138604282293545, 0.12739838188005945, 0.8432559562537268, 0.02426635845334466, 0.9863820761353592, 0.006620013933794357, 0.0019096168649086719, 0.46021766444298995, 0.0477404216227168, 0.1565885829225111, 0.3341829513590176, 0.01882026930545494, 0.06659479908084055, 0.4314184810019671, 0.3127060130752513, 0.17083013677259098, 0.015068235198479604, 0.005022745066159868, 0.11301176398859702, 0.026369411597339305, 0.8400541123152379, 0.9922230884794836, 0.005941455619637627, 0.22062246596512583, 0.33801790657042213, 0.16192474566247766, 0.277296126946993, 0.02240210267299925, 0.029869470230665666, 0.011201051336499625, 0.47604468180123405, 0.4601765257411929, 0.02037687058154472, 0.8150748232617888, 0.16301496465235776, 0.9757578290369641, 0.006098486431481026, 0.018295459294443078, 0.02056056820250779, 0.9457861373153583, 0.02056056820250779, 0.9849395106420193, 0.006313714811807817, 0.008538331587421245, 0.05976832111194871, 0.1825068376811291, 0.08538331587421244, 0.6627879894735741, 0.010664566236307101, 0.008887138530255918, 0.023106560178665386, 0.0035548554121023674, 0.9527012504434345, 0.013243644620471132, 0.015580758377024861, 0.39497222485758027, 0.31395228129705094, 0.2625357786528689, 0.02297945308816325, 0.9498173943107477, 0.03063927078421767, 0.9890798694636889, 0.007823943806279612, 0.3690293495295217, 0.002607981268759871, 0.6193955513304693, 0.9896798253119728, 0.0058560936408992475, 0.748756091157083, 0.10034875448496988, 0.0011027335657688997, 0.0011027335657688997, 0.14776629781303258, 0.11330632487039799, 0.0015521414365807942, 0.0015521414365807942, 0.8816163359778911, 0.7632378136172845, 0.07386172389844689, 0.05539629292383517, 0.10771501401856838, 0.9926440484633212, 0.004532621225859914, 0.9251771005288351, 0.0029370701604090003, 0.0058741403208180006, 0.06461554352899801, 0.9714940638491657, 0.0018295556757988054, 0.0018295556757988054, 0.025613779461183275, 0.6787108030114574, 0.056083945907109224, 0.06083682267889814, 0.037072438819953556, 0.1663506870126121, 0.988495220728457, 0.011909580972632013, 0.0062267872801079985, 0.12329038814613838, 0.023661791664410396, 0.11270484976995478, 0.7347608990527439, 0.0036999921601297706, 0.007399984320259541, 0.6252986750619313, 0.15909966288558014, 0.20349956880713738, 0.9950838916431557, 0.00599448127495877, 0.002905075756393433, 0.9906308329301607, 0.002905075756393433, 0.002905075756393433, 0.00782156592240219, 0.9933388721450782, 0.02035847545458466, 0.16286780363667727, 0.4614587769705856, 0.10857853575778485, 0.24769478469744668, 0.1003055099944413, 0.049589240896128275, 0.1645461175189711, 0.6841061187261332, 0.015239922592916741, 0.039623798741583525, 0.6309327953467531, 0.31394240541408486, 0.0012697547516754893, 0.024125340281834298, 0.5383760147104075, 0.412670294294534, 0.024125340281834298, 0.004090531681474986, 0.9939991985984217, 0.004090531681474986, 0.06852779890334243, 0.46142051261583905, 0.02588827958570714, 0.015228399756298317, 0.4294408731276126, 0.9540503302522481, 0.03407322608043743, 0.9923636892327787, 0.007708310995317737, 0.9905179628983293, 0.04434359410060539, 0.9489529137529554, 0.008868718820121078, 0.9655232530990966, 0.02719783811546751, 0.008655508569174563, 0.9867279768859001, 0.9683841640325317, 0.028481887177427404, 0.010393825932335505, 0.005196912966167752, 0.9822165506057051, 0.9707166040719565, 0.03235722013573188, 0.034150794395385736, 0.3574934221814847, 0.1169846361203639, 0.3698458371755604, 0.12207092464733625, 0.0019250209962119273, 0.24062762452649092, 0.5784688093616842, 0.14148904322157665, 0.03753790942613258, 0.9844463460452932, 0.015145328400696819, 0.019344226959871785, 0.01289615130658119, 0.09994517262600422, 0.5996710357560253, 0.2740432152648503, 0.0011763398697706747, 0.05764065361876307, 0.07646209153509387, 0.33290418314510095, 0.5328819610061157, 0.9771165460011096, 0.02505427041028486, 0.9984976982716766, 0.021552574943953177, 0.003078939277707597, 0.006157878555415194, 0.9667869332001854, 0.05110252947344569, 0.046843985350658555, 0.017034176491148564, 0.3009371180102913, 0.5834205448218384, 0.0184390150699322, 0.9588287836364744, 0.0184390150699322, 0.04721267665386618, 0.07868779442311029, 0.003147511776924412, 0.7144851733618415, 0.15422807706929617, 0.016160322951878713, 0.006464129180751485, 0.02585651672300594, 0.953459054160844, 0.9885818507080384, 0.01251369431275998, 0.009776280640283035, 0.9776280640283035, 0.009776280640283035, 0.021347905317946572, 0.13113713266738608, 0.028972157217213204, 0.31869372938934526, 0.5001509245918911, 0.9136388707352185, 0.047209303351059925, 0.038878249818519936, 0.9793893805209523, 0.018834411163864466, 0.05271137274170621, 0.09663751669312805, 0.004392614395142184, 0.7203887608033183, 0.12738581745912333, 0.9665735388619623, 0.005753413921797394, 0.028767069608986975, 0.9848755348180711, 0.01563294499711224, 0.05510328274439048, 0.9257351501057601, 0.011020656548878098, 0.9319241769237104, 0.05037427983371408, 0.0050374279833714074, 0.010074855966742815, 0.9677985647354151, 0.01640336550399009, 0.23515527771116437, 0.020013215124354413, 0.025016518905443017, 0.07338178878929952, 0.6470939556874594, 0.013164630011381502, 0.9610179908308497, 0.026329260022763003, 0.9934790984258084, 0.0029834207159934187, 0.9838859957047302, 0.019677719914094605, 0.009511509684318435, 0.018230393561610332, 0.0023778774210796087, 0.9693813619934538, 0.9895152669708929, 0.007017838772843212, 0.982893565563015, 0.016946440785569224, 0.05421613499131362, 0.043372907993050894, 0.016264840497394087, 0.8873374093578329, 0.004806159628924642, 0.031240037588010177, 0.03844927703139714, 0.9263872684752249, 0.004328174918967079, 0.7401179111433707, 0.1471579472448807, 0.10387619805520991, 0.9951705276131946, 0.9853031064894305, 0.005354908187442557, 0.005354908187442557, 0.9810320565827828, 0.0032810436675009456, 0.016405218337504728, 0.013558562613871642, 0.9321511797036754, 0.0016948203267339553, 0.0016948203267339553, 0.05084460980201866, 0.004940908281016587, 0.004940908281016587, 0.993122564484334, 0.010275008254744578, 0.005137504127372289, 0.9864007924554795, 0.2752683464557646, 0.10224252868356971, 0.05055949220616084, 0.5707604897939935, 0.9496032434095496, 0.04451265203482264, 0.9932411465937407, 0.006621607643958272, 0.9501580636739274, 0.012502079785183256, 0.03750623935554977, 0.04111558229973098, 0.018273592133213768, 0.027410388199820654, 0.41800842004726496, 0.49452908710509763, 0.0067088732274433955, 0.8251914069755376, 0.16772183068608487, 0.9844377797246708, 0.00965135078161442, 0.005065894081373775, 0.005065894081373775, 0.9878493458678863, 0.0064279785673209775, 0.0064279785673209775, 0.9899086993674305, 0.9886209693381801, 0.009069917149891561, 0.01871766839286484, 0.014974134714291872, 0.007487067357145936, 0.9583446217146798, 0.9861359203522325, 0.0018819387792981537, 0.011291632675788922, 0.9918531775582037, 0.006399052758440023, 0.20573716145306278, 0.009891209685243403, 0.043521322615070974, 0.10286858072653139, 0.6389721456667238, 0.006562676431345623, 0.18047360186200462, 0.0032813382156728116, 0.09844014647018434, 0.7104097236931637, 0.9950838916431557, 0.00599448127495877, 0.9852447960109124, 0.012631343538601443, 0.010065889787719585, 0.11304768530823534, 0.0030971968577598722, 0.005420094501079776, 0.8687637186016441, 0.9849042662017932, 0.015633401050822116, 0.9895936547330876, 0.01903064720640553, 0.9895936547330876, 0.01903064720640553, 0.9926730894546637, 0.005822129556918848, 0.002911064778459424, 0.995324700630122, 0.003340015773926584, 0.057165232330154324, 0.2103680549749679, 0.489334388746121, 0.24238058507985435, 0.9625392630157635, 0.026737201750437874, 0.8923219883096027, 0.0025278243294889597, 0.0025278243294889597, 0.0025278243294889597, 0.10364079750904734, 0.9883801676627071, 0.011908194791116952, 0.9963915816188713, 0.000997388970589461, 0.000997388970589461, 0.001994777941178922, 0.15769203812360408, 0.6369928382098218, 0.026973638100090173, 0.17844099050828885, 0.983990745548118, 0.006389550295767, 0.006389550295767, 0.001369158864713225, 0.2409719601895276, 0.27109345521321854, 0.4778364437849155, 0.0109532709177058, 0.9083899379616261, 0.08623955107230628, 0.005749303404820418, 0.06827660369222668, 0.3287392029625729, 0.49563756754357147, 0.10620805018790817, 0.016182993980392614, 0.08939177627264491, 0.06704383220448369, 0.3567964863296086, 0.47161868171429905, 0.9888478842626697, 0.9341297891217235, 0.015313603100356123, 0.06125441240142449, 0.9733927049414351, 0.0015044709504504407, 0.0015044709504504407, 0.02407153520720705, 0.006120912052598637, 0.7895976547852241, 0.20199009773575502, 0.9941385146521954, 0.9836207237192606, 0.01277429511323715, 0.02697767001621624, 0.10678661048085594, 0.0663201054565316, 0.17760299427342358, 0.6204864103729735, 0.9830346165929714, 0.023976454063243204, 0.9910233062941045, 0.015246512404524685, 0.9605206650618531, 0.028250607795936855, 0.00770076360644886, 0.00770076360644886, 0.885587814741619, 0.10010992688383519, 0.9633349830288188, 0.024700897000738943, 0.986121491421891, 0.012174339400270259, 0.9656216353538247, 0.022990991317948208, 0.9439640063430657, 0.03210761926336958, 0.003210761926336958, 0.019264571558021748, 0.9923050555180591, 0.9952926581011011, 0.0017042682501731184, 0.0017042682501731184, 0.13295883521185806, 0.8642324288770774, 0.0047485298289949305, 0.003825807299966064, 0.9908840906912105, 0.009634361468318697, 0.17582709679681624, 0.04817180734159349, 0.26735353074584384, 0.4985782059854926, 0.994591053909923, 0.0020380964219465637, 0.0040761928438931274, 0.9661434260594546, 0.024772908360498835, 0.9879130661708572, 0.011760869835367347, 0.971240538136423, 0.025558961529905867, 0.0027399439189292043, 0.0885915200453776, 0.001826629279286136, 0.10868444211752509, 0.7982369950480415], \"Term\": [\"aaaaaaaaaaaaaaaaaaaaaaaaaaaaaaaaaaaaaaaaaaaaaaaaaaaaaaaaaaaaaaaaaaaaaaaaaaaa\", \"aaaaaaaaaaaaaaaaaaaaaaaaaaaaaaaaaaaaaaaaaaaaaaaaaaaaaaaaaaaaaaaaaaaaaaaaaaaa\", \"adult\", \"adult\", \"alert\", \"alert\", \"align\", \"align\", \"align\", \"also\", \"also\", \"also\", \"also\", \"also\", \"amazon\", \"amazon\", \"amazon\", \"amy\", \"amy\", \"amy\", \"anc\", \"anc\", \"andersen\", \"andersen\", \"announced\", \"announced\", \"april\", \"april\", \"april\", \"april\", \"assign\", \"astronomical\", \"astronomical\", \"athoc\", \"athoc\", \"atlanta\", \"atlanta\", \"attachment\", \"attachment\", \"attachment\", \"attachment\", \"available\", \"available\", \"available\", \"available\", \"awarded\", \"backout\", \"backout\", \"bakernet\", \"bakernet\", \"bakernet\", \"barry\", \"barry\", \"barry\", \"baughman\", \"baughman\", \"ben\", \"ben\", \"ben\", \"ben\", \"bergfelt\", \"bergfelt\", \"beth\", \"beth\", \"beth\", \"bgcolor\", \"bgcolor\", \"blah\", \"blah\", \"blair\", \"blair\", \"board\", \"board\", \"board\", \"bodydefault\", \"bodydefault\", \"bolt\", \"bolt\", \"bolt\", \"border\", \"border\", \"border\", \"border\", \"br\", \"br\", \"br\", \"bradford\", \"bradford\", \"breese\", \"breese\", \"breese\", \"brochure\", \"brochure\", \"bush\", \"bush\", \"bush\", \"business\", \"business\", \"business\", \"business\", \"business\", \"businessweek\", \"businessweek\", \"buy\", \"buy\", \"buy\", \"buy\", \"c\", \"c\", \"c\", \"c\", \"c\", \"capacity\", \"capacity\", \"capacity\", \"cellpadding\", \"cellpadding\", \"cellspacing\", \"cellspacing\", \"center\", \"center\", \"center\", \"center\", \"center\", \"certificate\", \"certificate\", \"chairman\", \"chairman\", \"chairman\", \"cherry\", \"cherry\", \"choice\", \"choice\", \"choice\", \"class\", \"class\", \"class\", \"class\", \"classmate\", \"clear\", \"clear\", \"clear\", \"clear\", \"clear\", \"click\", \"click\", \"click\", \"click\", \"click\", \"colspan\", \"colspan\", \"commoditylogic\", \"commoditylogic\", \"company\", \"company\", \"company\", \"company\", \"company\", \"conference\", \"conference\", \"conference\", \"conference\", \"congestion\", \"congestion\", \"contact\", \"contact\", \"contact\", \"contact\", \"contact\", \"coords\", \"coords\", \"copy\", \"copy\", \"copy\", \"copy\", \"copy\", \"copyright\", \"copyright\", \"copyright\", \"copyright\", \"coral\", \"coral\", \"corp\", \"corp\", \"corp\", \"corp\", \"corp\", \"court\", \"court\", \"credit\", \"credit\", \"credit\", \"credit\", \"ctr\", \"ctr\", \"curve\", \"curve\", \"curve\", \"customer\", \"customer\", \"customer\", \"customer\", \"date\", \"date\", \"date\", \"date\", \"date\", \"day\", \"day\", \"day\", \"day\", \"day\", \"declared\", \"declared\", \"design\", \"design\", \"desk\", \"desk\", \"desk\", \"desk\", \"desk\", \"detected\", \"development\", \"development\", \"development\", \"development\", \"deviation\", \"deviation\", \"deviation\", \"devon\", \"devon\", \"devon\", \"dietz\", \"dietz\", \"div\", \"div\", \"div\", \"doc\", \"doc\", \"doc\", \"doc\", \"doc\", \"donate\", \"donate\", \"doubleclick\", \"doubleclick\", \"dynegy\", \"dynegy\", \"dynegy\", \"dynegy\", \"e\", \"e\", \"e\", \"e\", \"e\", \"earnings\", \"earnings\", \"earnings\", \"ecar\", \"ecar\", \"ee\", \"ee\", \"ee\", \"ee\", \"eei\", \"eei\", \"eix\", \"eix\", \"email\", \"email\", \"email\", \"email\", \"email\", \"emailed\", \"emailed\", \"employee\", \"employee\", \"employee\", \"employee\", \"employee\", \"employer\", \"employer\", \"end\", \"end\", \"end\", \"end\", \"end\", \"energy\", \"energy\", \"energy\", \"energy\", \"energy\", \"enform\", \"enform\", \"enlarge\", \"enlarge\", \"enron\", \"enron\", \"enron\", \"enron\", \"enron\", \"enronxgate\", \"enronxgate\", \"enronxgate\", \"enronxgate\", \"epe\", \"epe\", \"epenergy\", \"epenergy\", \"estoppel\", \"estoppel\", \"euci\", \"euci\", \"executive\", \"executive\", \"executive\", \"exotica\", \"exotica\", \"f\", \"f\", \"f\", \"f\", \"f\", \"fagan\", \"fagan\", \"federal\", \"federal\", \"federal\", \"ffffff\", \"ffffff\", \"file\", \"file\", \"file\", \"file\", \"financial\", \"financial\", \"financial\", \"financial\", \"firm\", \"firm\", \"firm\", \"firm\", \"fname\", \"fname\", \"fo\", \"font\", \"font\", \"font\", \"forecast\", \"forecast\", \"forecast\", \"former\", \"former\", \"fran\", \"fran\", \"frcc\", \"frcc\", \"fri\", \"fri\", \"fund\", \"fund\", \"fund\", \"fund\", \"fund\", \"fw\", \"fw\", \"fw\", \"fw\", \"gas\", \"gas\", \"gas\", \"gas\", \"gas\", \"gif\", \"gif\", \"gift\", \"gift\", \"gift\", \"gorny\", \"gorny\", \"gov\", \"gov\", \"government\", \"government\", \"government\", \"greg\", \"greg\", \"greg\", \"greg\", \"gregwhalley\", \"gregwhalley\", \"hanagriff\", \"hanagriff\", \"harrison\", \"harrison\", \"height\", \"height\", \"hereto\", \"hereto\", \"hou\", \"hou\", \"hou\", \"hou\", \"hou\", \"hourahead\", \"house\", \"house\", \"house\", \"house\", \"hp\", \"hp\", \"hp\", \"href\", \"href\", \"image\", \"image\", \"image\", \"image\", \"image\", \"img\", \"img\", \"impacted\", \"impacted\", \"intended\", \"intended\", \"intended\", \"intended\", \"interchange\", \"intervention\", \"investor\", \"investor\", \"investor\", \"issuealert\", \"january\", \"january\", \"january\", \"january\", \"john\", \"john\", \"john\", \"john\", \"kern\", \"kern\", \"know\", \"know\", \"know\", \"know\", \"know\", \"krishna\", \"krishna\", \"krishnarao\", \"krishnarao\", \"kristen\", \"kristen\", \"labour\", \"laurel\", \"laurel\", \"laurel\", \"law\", \"law\", \"law\", \"law\", \"let\", \"let\", \"let\", \"let\", \"like\", \"like\", \"like\", \"like\", \"like\", \"link\", \"link\", \"link\", \"link\", \"link\", \"linkbarseperator\", \"linkbarseperator\", \"locate\", \"lokay\", \"lokay\", \"london\", \"london\", \"london\", \"london\", \"london\", \"lover\", \"lover\", \"lynn\", \"lynn\", \"lynn\", \"maac\", \"maac\", \"made\", \"made\", \"made\", \"made\", \"made\", \"mail\", \"mail\", \"mail\", \"mail\", \"mail\", \"mailto\", \"mailto\", \"mailto\", \"mailto\", \"mailto\", \"mapp\", \"mapp\", \"mark\", \"mark\", \"mark\", \"mark\", \"market\", \"market\", \"market\", \"market\", \"market\", \"marketing\", \"marketing\", \"marketing\", \"matrix\", \"matrix\", \"matrix\", \"matt\", \"matt\", \"matt\", \"max\", \"max\", \"may\", \"may\", \"may\", \"may\", \"may\", \"member\", \"member\", \"member\", \"member\", \"member\", \"message\", \"message\", \"message\", \"message\", \"message\", \"michelle\", \"michelle\", \"michelle\", \"military\", \"million\", \"million\", \"million\", \"million\", \"min\", \"min\", \"money\", \"money\", \"money\", \"money\", \"money\", \"mr\", \"mr\", \"mr\", \"mr\", \"na\", \"na\", \"na\", \"na\", \"nbsp\", \"nbsp\", \"nc\", \"nc\", \"nc\", \"nc\", \"ne\", \"ne\", \"ne\", \"ne\", \"net\", \"net\", \"net\", \"net\", \"net\", \"neumin\", \"neumin\", \"new\", \"new\", \"new\", \"new\", \"new\", \"november\", \"november\", \"november\", \"november\", \"november\", \"npcc\", \"npcc\", \"nw\", \"nw\", \"nw\", \"nw\", \"nyse\", \"nyse\", \"october\", \"october\", \"october\", \"october\", \"october\", \"one\", \"one\", \"one\", \"one\", \"order\", \"order\", \"order\", \"order\", \"original\", \"original\", \"original\", \"original\", \"original\", \"outage\", \"outage\", \"outage\", \"p\", \"p\", \"p\", \"p\", \"p\", \"pampa\", \"pampa\", \"parsing\", \"partnership\", \"partnership\", \"password\", \"password\", \"password\", \"peak\", \"peak\", \"pension\", \"pension\", \"pep\", \"pep\", \"percent\", \"percent\", \"percent\", \"pinnamaneni\", \"pinnamaneni\", \"please\", \"please\", \"please\", \"please\", \"please\", \"pm\", \"pm\", \"pm\", \"pm\", \"pm\", \"pocketbook\", \"pocketbook\", \"point\", \"point\", \"point\", \"point\", \"point\", \"power\", \"power\", \"power\", \"power\", \"power\", \"powersrc\", \"powersrc\", \"preferred\", \"president\", \"president\", \"president\", \"president\", \"price\", \"price\", \"price\", \"price\", \"price\", \"privileged\", \"privileged\", \"privileged\", \"process\", \"process\", \"process\", \"process\", \"process\", \"program\", \"program\", \"program\", \"program\", \"pseg\", \"pseg\", \"pt\", \"pt\", \"pt\", \"question\", \"question\", \"question\", \"question\", \"question\", \"range\", \"range\", \"range\", \"raquel\", \"raquel\", \"real\", \"real\", \"real\", \"real\", \"real\", \"recipient\", \"recipient\", \"recipient\", \"rect\", \"rect\", \"ref\", \"ref\", \"ref\", \"reg\", \"reg\", \"reg\", \"reg\", \"reliantenergy\", \"reliantenergy\", \"right\", \"right\", \"right\", \"right\", \"right\", \"river\", \"river\", \"river\", \"rk\", \"rk\", \"royalty\", \"royalty\", \"said\", \"said\", \"said\", \"said\", \"sat\", \"sat\", \"savita\", \"savita\", \"say\", \"say\", \"say\", \"say\", \"schedule\", \"schedule\", \"schedule\", \"schedule\", \"scheduled\", \"scheduled\", \"scheduled\", \"scheduled\", \"scientech\", \"scoop\", \"scoop\", \"scoop\", \"script\", \"script\", \"script\", \"se\", \"se\", \"se\", \"se\", \"se\", \"sec\", \"sec\", \"sec\", \"security\", \"security\", \"security\", \"see\", \"see\", \"see\", \"see\", \"seller\", \"seller\", \"serc\", \"serc\", \"server\", \"server\", \"server\", \"service\", \"service\", \"service\", \"service\", \"service\", \"settlement\", \"settlement\", \"settlement\", \"sfs\", \"sfs\", \"share\", \"share\", \"share\", \"shareholder\", \"shareholder\", \"shareholder\", \"simulation\", \"simulation\", \"skilling\", \"skilling\", \"skilling\", \"skilling\", \"sp\", \"sp\", \"sp\", \"src\", \"src\", \"start\", \"start\", \"start\", \"start\", \"start\", \"state\", \"state\", \"state\", \"state\", \"state\", \"std\", \"std\", \"stephanie\", \"stephanie\", \"stock\", \"stock\", \"stock\", \"stock\", \"stock\", \"stocklookup\", \"stocklookup\", \"stsw\", \"stsw\", \"stwbom\", \"stwbom\", \"sw\", \"sw\", \"sw\", \"syncrasy\", \"syncrasy\", \"system\", \"system\", \"system\", \"system\", \"tab\", \"tab\", \"table\", \"table\", \"table\", \"table\", \"table\", \"tagline\", \"tagline\", \"td\", \"td\", \"td\", \"td\", \"team\", \"team\", \"team\", \"team\", \"temp\", \"temp\", \"temp\", \"thanks\", \"thanks\", \"thanks\", \"thanks\", \"thanks\", \"thru\", \"thru\", \"thru\", \"thursday\", \"thursday\", \"thursday\", \"thursday\", \"time\", \"time\", \"time\", \"time\", \"time\", \"tmv\", \"tonight\", \"tonight\", \"tonight\", \"tr\", \"tr\", \"tr\", \"tr\", \"transmission\", \"transmission\", \"transmission\", \"txt\", \"tyrell\", \"tyrell\", \"u\", \"u\", \"u\", \"u\", \"u\", \"ubswenergy\", \"ubswenergy\", \"underhanded\", \"underhanded\", \"underscore\", \"underscore\", \"user\", \"user\", \"user\", \"user\", \"validation\", \"validation\", \"valign\", \"valign\", \"vladimir\", \"vladimir\", \"volatility\", \"volatility\", \"volatility\", \"volatility\", \"westdesk\", \"width\", \"width\", \"width\", \"wj\", \"wj\", \"wj\", \"worker\", \"worker\", \"would\", \"would\", \"would\", \"would\", \"would\", \"wscc\", \"wscc\", \"wscc\", \"wyndham\", \"wyndham\", \"xl\", \"xl\", \"xll\", \"xll\", \"year\", \"year\", \"year\", \"year\", \"year\"]}, \"R\": 30, \"lambda.step\": 0.01, \"plot.opts\": {\"xlab\": \"PC1\", \"ylab\": \"PC2\"}, \"topic.order\": [1, 2, 3, 4, 5]};\n",
       "\n",
       "function LDAvis_load_lib(url, callback){\n",
       "  var s = document.createElement('script');\n",
       "  s.src = url;\n",
       "  s.async = true;\n",
       "  s.onreadystatechange = s.onload = callback;\n",
       "  s.onerror = function(){console.warn(\"failed to load library \" + url);};\n",
       "  document.getElementsByTagName(\"head\")[0].appendChild(s);\n",
       "}\n",
       "\n",
       "if(typeof(LDAvis) !== \"undefined\"){\n",
       "   // already loaded: just create the visualization\n",
       "   !function(LDAvis){\n",
       "       new LDAvis(\"#\" + \"ldavis_el576831720883647203855677478\", ldavis_el576831720883647203855677478_data);\n",
       "   }(LDAvis);\n",
       "}else if(typeof define === \"function\" && define.amd){\n",
       "   // require.js is available: use it to load d3/LDAvis\n",
       "   require.config({paths: {d3: \"https://d3js.org/d3.v5\"}});\n",
       "   require([\"d3\"], function(d3){\n",
       "      window.d3 = d3;\n",
       "      LDAvis_load_lib(\"https://cdn.jsdelivr.net/gh/bmabey/pyLDAvis@3.3.1/pyLDAvis/js/ldavis.v3.0.0.js\", function(){\n",
       "        new LDAvis(\"#\" + \"ldavis_el576831720883647203855677478\", ldavis_el576831720883647203855677478_data);\n",
       "      });\n",
       "    });\n",
       "}else{\n",
       "    // require.js not available: dynamically load d3 & LDAvis\n",
       "    LDAvis_load_lib(\"https://d3js.org/d3.v5.js\", function(){\n",
       "         LDAvis_load_lib(\"https://cdn.jsdelivr.net/gh/bmabey/pyLDAvis@3.3.1/pyLDAvis/js/ldavis.v3.0.0.js\", function(){\n",
       "                 new LDAvis(\"#\" + \"ldavis_el576831720883647203855677478\", ldavis_el576831720883647203855677478_data);\n",
       "            })\n",
       "         });\n",
       "}\n",
       "</script>"
      ],
      "text/plain": [
       "<IPython.core.display.HTML object>"
      ]
     },
     "execution_count": 185,
     "metadata": {},
     "output_type": "execute_result"
    }
   ],
   "source": [
    "pyLDAvis.display(lda_display)"
   ]
  },
  {
   "cell_type": "markdown",
   "metadata": {},
   "source": [
    "#### Assign topics to your original data\n",
    "\n",
    "* One practical application of topic modeling is to determine what topic a given text is about\n",
    "* To find that, find the topic number that has the highest percentage contribution in that text\n",
    "* The function, `get_topic_details` shown here, nicely aggregates this information in a presentable table\n",
    "* Combine the original text data with the output of the `get_topic_details` function\n",
    "* Each row contains the dominant topic number, the probability score with that topic and the original text data\n",
    "\n",
    "```python\n",
    "def get_topic_details(ldamodel, corpus):\n",
    "    topic_details_df = pd.DataFrame()\n",
    "    for i, row in enumerate(ldamodel[corpus]):\n",
    "        row = sorted(row, key=lambda x: (x[1]), reverse=True)\n",
    "        for j, (topic_num, prop_topic) in enumerate(row):\n",
    "            if j == 0:  # => dominant topic\n",
    "                wp = ldamodel.show_topic(topic_num)\n",
    "                topic_details_df = topic_details_df.append(pd.Series([topic_num, prop_topic]), ignore_index=True)\n",
    "    topic_details_df.columns = ['Dominant_Topic', '% Score']\n",
    "    return topic_details_df\n",
    "\n",
    "\n",
    "contents = pd.DataFrame({'Original text':text_clean})\n",
    "topic_details = pd.concat([get_topic_details(ldamodel,\n",
    "                           corpus), contents], axis=1)\n",
    "topic_details.head()\n",
    "\n",
    "\n",
    "     Dominant_Topic    % Score     Original text\n",
    "0    0.0              0.989108    [investools, advisory, free, ...\n",
    "1    0.0              0.993513    [forwarded, richard, b, ...\n",
    "2    1.0              0.964858    [hey, wearing, target, purple, ...\n",
    "3    0.0              0.989241    [leslie, milosevich, santa, clara, ...\n",
    "```"
   ]
  },
  {
   "cell_type": "markdown",
   "metadata": {},
   "source": [
    "### Interpreting the topic model\n",
    "\n",
    "* Use the visualization results from the pyLDAvis library shown in 4.4.0.2.\n",
    "* Have a look at topic 1 and 3 from the LDA model on the Enron email data. Which one would you research further for fraud detection purposes?\n",
    "\n",
    "**Possible Answers**\n",
    "\n",
    "* __**Topic 1.**__\n",
    "* ~~Topic 3.~~\n",
    "* ~~None of these topics seem related to fraud.~~\n",
    "\n",
    "\n",
    "**Topic 1 seems to discuss the employee share option program, and seems to point to internal conversation (with \"please, may, know\" etc), so this is more likely to be related to the internal accounting fraud and trading stock with insider knowledge. Topic 3 seems to be more related to general news around Enron.**"
   ]
  },
  {
   "cell_type": "markdown",
   "metadata": {},
   "source": [
    "### Finding fraudsters based on topic\n",
    "\n",
    "In this exercise you're going to **link the results** from the topic model **back to your original data**. You now learned that you want to **flag everything related to topic 3**. As you will see, this is actually not that straightforward. You'll be given the function `get_topic_details()` which takes the arguments `ldamodel` and `corpus`. It retrieves the details of the topics for each line of text. With that function, you can append the results back to your original data. If you want to learn more detail on how to work with the model results, which is beyond the scope of this course, you're highly encouraged to read this [article](https://www.machinelearningplus.com/nlp/topic-modeling-gensim-python/).\n",
    "\n",
    "Available for you are the `dictionary` and `corpus`, the text data `text_clean` as well as your model results `ldamodel`. Also defined is `get_topic_details()`.\n",
    "\n",
    "**Instructions 1/3**\n",
    "\n",
    "* Print and inspect the results from the `get_topic_details()` function by inserting your LDA model results and `corpus`."
   ]
  },
  {
   "cell_type": "markdown",
   "metadata": {},
   "source": [
    "#### def get_topic_details"
   ]
  },
  {
   "cell_type": "code",
   "execution_count": 186,
   "metadata": {},
   "outputs": [],
   "source": [
    "def get_topic_details(ldamodel, corpus):\n",
    "    topic_details_df = pd.DataFrame()\n",
    "    for i, row in enumerate(ldamodel[corpus]):\n",
    "        row = sorted(row, key=lambda x: (x[1]), reverse=True)\n",
    "        for j, (topic_num, prop_topic) in enumerate(row):\n",
    "            if j == 0:  # => dominant topic\n",
    "                wp = ldamodel.show_topic(topic_num)\n",
    "                topic_details_df = topic_details_df.append(pd.Series([topic_num, prop_topic]), ignore_index=True)\n",
    "    topic_details_df.columns = ['Dominant_Topic', '% Score']\n",
    "    return topic_details_df"
   ]
  },
  {
   "cell_type": "code",
   "execution_count": 187,
   "metadata": {},
   "outputs": [],
   "source": [
    "# Run get_topic_details function and check the results\n",
    "topic_details_df = get_topic_details(ldamodel, corpus)"
   ]
  },
  {
   "cell_type": "code",
   "execution_count": 188,
   "metadata": {},
   "outputs": [
    {
     "data": {
      "text/html": [
       "<div>\n",
       "<style scoped>\n",
       "    .dataframe tbody tr th:only-of-type {\n",
       "        vertical-align: middle;\n",
       "    }\n",
       "\n",
       "    .dataframe tbody tr th {\n",
       "        vertical-align: top;\n",
       "    }\n",
       "\n",
       "    .dataframe thead th {\n",
       "        text-align: right;\n",
       "    }\n",
       "</style>\n",
       "<table border=\"1\" class=\"dataframe\">\n",
       "  <thead>\n",
       "    <tr style=\"text-align: right;\">\n",
       "      <th></th>\n",
       "      <th>Dominant_Topic</th>\n",
       "      <th>% Score</th>\n",
       "    </tr>\n",
       "  </thead>\n",
       "  <tbody>\n",
       "    <tr>\n",
       "      <th>0</th>\n",
       "      <td>4.0</td>\n",
       "      <td>0.626007</td>\n",
       "    </tr>\n",
       "    <tr>\n",
       "      <th>1</th>\n",
       "      <td>2.0</td>\n",
       "      <td>0.523907</td>\n",
       "    </tr>\n",
       "    <tr>\n",
       "      <th>2</th>\n",
       "      <td>2.0</td>\n",
       "      <td>0.876044</td>\n",
       "    </tr>\n",
       "    <tr>\n",
       "      <th>3</th>\n",
       "      <td>1.0</td>\n",
       "      <td>0.993493</td>\n",
       "    </tr>\n",
       "    <tr>\n",
       "      <th>4</th>\n",
       "      <td>1.0</td>\n",
       "      <td>0.993383</td>\n",
       "    </tr>\n",
       "  </tbody>\n",
       "</table>\n",
       "</div>"
      ],
      "text/plain": [
       "   Dominant_Topic   % Score\n",
       "0             4.0  0.626007\n",
       "1             2.0  0.523907\n",
       "2             2.0  0.876044\n",
       "3             1.0  0.993493\n",
       "4             1.0  0.993383"
      ]
     },
     "execution_count": 188,
     "metadata": {},
     "output_type": "execute_result"
    }
   ],
   "source": [
    "topic_details_df.head()"
   ]
  },
  {
   "cell_type": "code",
   "execution_count": 189,
   "metadata": {},
   "outputs": [
    {
     "data": {
      "text/html": [
       "<div>\n",
       "<style scoped>\n",
       "    .dataframe tbody tr th:only-of-type {\n",
       "        vertical-align: middle;\n",
       "    }\n",
       "\n",
       "    .dataframe tbody tr th {\n",
       "        vertical-align: top;\n",
       "    }\n",
       "\n",
       "    .dataframe thead th {\n",
       "        text-align: right;\n",
       "    }\n",
       "</style>\n",
       "<table border=\"1\" class=\"dataframe\">\n",
       "  <thead>\n",
       "    <tr style=\"text-align: right;\">\n",
       "      <th></th>\n",
       "      <th>Dominant_Topic</th>\n",
       "      <th>% Score</th>\n",
       "    </tr>\n",
       "  </thead>\n",
       "  <tbody>\n",
       "    <tr>\n",
       "      <th>2085</th>\n",
       "      <td>1.0</td>\n",
       "      <td>0.908817</td>\n",
       "    </tr>\n",
       "    <tr>\n",
       "      <th>2086</th>\n",
       "      <td>3.0</td>\n",
       "      <td>0.599689</td>\n",
       "    </tr>\n",
       "    <tr>\n",
       "      <th>2087</th>\n",
       "      <td>1.0</td>\n",
       "      <td>0.999324</td>\n",
       "    </tr>\n",
       "    <tr>\n",
       "      <th>2088</th>\n",
       "      <td>3.0</td>\n",
       "      <td>0.998147</td>\n",
       "    </tr>\n",
       "    <tr>\n",
       "      <th>2089</th>\n",
       "      <td>3.0</td>\n",
       "      <td>0.691293</td>\n",
       "    </tr>\n",
       "  </tbody>\n",
       "</table>\n",
       "</div>"
      ],
      "text/plain": [
       "      Dominant_Topic   % Score\n",
       "2085             1.0  0.908817\n",
       "2086             3.0  0.599689\n",
       "2087             1.0  0.999324\n",
       "2088             3.0  0.998147\n",
       "2089             3.0  0.691293"
      ]
     },
     "execution_count": 189,
     "metadata": {},
     "output_type": "execute_result"
    }
   ],
   "source": [
    "topic_details_df.tail()"
   ]
  },
  {
   "cell_type": "markdown",
   "metadata": {},
   "source": [
    "**Instructions 2/3**\n",
    "\n",
    "* Concatenate column-wise the results from the previously defined function `get_topic_details()` to the original text data contained under `contents` and inspect the results."
   ]
  },
  {
   "cell_type": "code",
   "execution_count": 190,
   "metadata": {},
   "outputs": [],
   "source": [
    "# Add original text to topic details in a dataframe\n",
    "contents = pd.DataFrame({'Original text': text_clean})\n",
    "topic_details = pd.concat([get_topic_details(ldamodel, corpus), contents], axis=1)"
   ]
  },
  {
   "cell_type": "code",
   "execution_count": 191,
   "metadata": {},
   "outputs": [
    {
     "data": {
      "text/html": [
       "<div>\n",
       "<style scoped>\n",
       "    .dataframe tbody tr th:only-of-type {\n",
       "        vertical-align: middle;\n",
       "    }\n",
       "\n",
       "    .dataframe tbody tr th {\n",
       "        vertical-align: top;\n",
       "    }\n",
       "\n",
       "    .dataframe thead th {\n",
       "        text-align: right;\n",
       "    }\n",
       "</style>\n",
       "<table border=\"1\" class=\"dataframe\">\n",
       "  <thead>\n",
       "    <tr style=\"text-align: right;\">\n",
       "      <th></th>\n",
       "      <th>Dominant_Topic</th>\n",
       "      <th>% Score</th>\n",
       "      <th>Original text</th>\n",
       "    </tr>\n",
       "  </thead>\n",
       "  <tbody>\n",
       "    <tr>\n",
       "      <th>442</th>\n",
       "      <td>4.0</td>\n",
       "      <td>0.999963</td>\n",
       "      <td>[pleased, send, web, based, e, mail, alert, pr...</td>\n",
       "    </tr>\n",
       "    <tr>\n",
       "      <th>2081</th>\n",
       "      <td>0.0</td>\n",
       "      <td>0.999631</td>\n",
       "      <td>[unsubscribe, mailing, please, go, money, net,...</td>\n",
       "    </tr>\n",
       "    <tr>\n",
       "      <th>849</th>\n",
       "      <td>0.0</td>\n",
       "      <td>0.999435</td>\n",
       "      <td>[original, message, received, thu, aug, cdt, e...</td>\n",
       "    </tr>\n",
       "    <tr>\n",
       "      <th>2087</th>\n",
       "      <td>1.0</td>\n",
       "      <td>0.999324</td>\n",
       "      <td>[image, image, image, image, image, image, ima...</td>\n",
       "    </tr>\n",
       "    <tr>\n",
       "      <th>1411</th>\n",
       "      <td>2.0</td>\n",
       "      <td>0.999132</td>\n",
       "      <td>[inline, attachment, follows, scasey, tfsbroke...</td>\n",
       "    </tr>\n",
       "  </tbody>\n",
       "</table>\n",
       "</div>"
      ],
      "text/plain": [
       "      Dominant_Topic   % Score  \\\n",
       "442              4.0  0.999963   \n",
       "2081             0.0  0.999631   \n",
       "849              0.0  0.999435   \n",
       "2087             1.0  0.999324   \n",
       "1411             2.0  0.999132   \n",
       "\n",
       "                                          Original text  \n",
       "442   [pleased, send, web, based, e, mail, alert, pr...  \n",
       "2081  [unsubscribe, mailing, please, go, money, net,...  \n",
       "849   [original, message, received, thu, aug, cdt, e...  \n",
       "2087  [image, image, image, image, image, image, ima...  \n",
       "1411  [inline, attachment, follows, scasey, tfsbroke...  "
      ]
     },
     "execution_count": 191,
     "metadata": {},
     "output_type": "execute_result"
    }
   ],
   "source": [
    "topic_details.sort_values(by=['% Score'], ascending=False).head(10).head()"
   ]
  },
  {
   "cell_type": "code",
   "execution_count": 192,
   "metadata": {},
   "outputs": [
    {
     "data": {
      "text/html": [
       "<div>\n",
       "<style scoped>\n",
       "    .dataframe tbody tr th:only-of-type {\n",
       "        vertical-align: middle;\n",
       "    }\n",
       "\n",
       "    .dataframe tbody tr th {\n",
       "        vertical-align: top;\n",
       "    }\n",
       "\n",
       "    .dataframe thead th {\n",
       "        text-align: right;\n",
       "    }\n",
       "</style>\n",
       "<table border=\"1\" class=\"dataframe\">\n",
       "  <thead>\n",
       "    <tr style=\"text-align: right;\">\n",
       "      <th></th>\n",
       "      <th>Dominant_Topic</th>\n",
       "      <th>% Score</th>\n",
       "      <th>Original text</th>\n",
       "    </tr>\n",
       "  </thead>\n",
       "  <tbody>\n",
       "    <tr>\n",
       "      <th>1138</th>\n",
       "      <td>1.0</td>\n",
       "      <td>0.998666</td>\n",
       "      <td>[greg, great, time, million, club, lavo, dave,...</td>\n",
       "    </tr>\n",
       "    <tr>\n",
       "      <th>2088</th>\n",
       "      <td>3.0</td>\n",
       "      <td>0.998147</td>\n",
       "      <td>[transmission, expansion, system, transition, ...</td>\n",
       "    </tr>\n",
       "    <tr>\n",
       "      <th>1769</th>\n",
       "      <td>1.0</td>\n",
       "      <td>0.998001</td>\n",
       "      <td>[please, make, sure, know, asst, forwarded, je...</td>\n",
       "    </tr>\n",
       "    <tr>\n",
       "      <th>2014</th>\n",
       "      <td>2.0</td>\n",
       "      <td>0.997885</td>\n",
       "      <td>[forwarded, chris, h, foster, hou, pm, enron, ...</td>\n",
       "    </tr>\n",
       "    <tr>\n",
       "      <th>769</th>\n",
       "      <td>1.0</td>\n",
       "      <td>0.997872</td>\n",
       "      <td>[congratulation, mark, haedicke, michael, guer...</td>\n",
       "    </tr>\n",
       "  </tbody>\n",
       "</table>\n",
       "</div>"
      ],
      "text/plain": [
       "      Dominant_Topic   % Score  \\\n",
       "1138             1.0  0.998666   \n",
       "2088             3.0  0.998147   \n",
       "1769             1.0  0.998001   \n",
       "2014             2.0  0.997885   \n",
       "769              1.0  0.997872   \n",
       "\n",
       "                                          Original text  \n",
       "1138  [greg, great, time, million, club, lavo, dave,...  \n",
       "2088  [transmission, expansion, system, transition, ...  \n",
       "1769  [please, make, sure, know, asst, forwarded, je...  \n",
       "2014  [forwarded, chris, h, foster, hou, pm, enron, ...  \n",
       "769   [congratulation, mark, haedicke, michael, guer...  "
      ]
     },
     "execution_count": 192,
     "metadata": {},
     "output_type": "execute_result"
    }
   ],
   "source": [
    "topic_details.sort_values(by=['% Score'], ascending=False).head(10).tail()"
   ]
  },
  {
   "cell_type": "markdown",
   "metadata": {},
   "source": [
    "**Instructions 3/3**\n",
    "\n",
    "* Create a flag with the `np.where()` function to flag all content that has topic 3 as a dominant topic with a 1, and 0 otherwise"
   ]
  },
  {
   "cell_type": "code",
   "execution_count": 193,
   "metadata": {},
   "outputs": [],
   "source": [
    "# Create flag for text highest associated with topic 3\n",
    "topic_details['flag'] = np.where((topic_details['Dominant_Topic'] == 3.0), 1, 0)"
   ]
  },
  {
   "cell_type": "code",
   "execution_count": 194,
   "metadata": {},
   "outputs": [],
   "source": [
    "topic_details_1 = topic_details[topic_details.flag == 1]"
   ]
  },
  {
   "cell_type": "code",
   "execution_count": 195,
   "metadata": {},
   "outputs": [
    {
     "data": {
      "text/html": [
       "<div>\n",
       "<style scoped>\n",
       "    .dataframe tbody tr th:only-of-type {\n",
       "        vertical-align: middle;\n",
       "    }\n",
       "\n",
       "    .dataframe tbody tr th {\n",
       "        vertical-align: top;\n",
       "    }\n",
       "\n",
       "    .dataframe thead th {\n",
       "        text-align: right;\n",
       "    }\n",
       "</style>\n",
       "<table border=\"1\" class=\"dataframe\">\n",
       "  <thead>\n",
       "    <tr style=\"text-align: right;\">\n",
       "      <th></th>\n",
       "      <th>Dominant_Topic</th>\n",
       "      <th>% Score</th>\n",
       "      <th>Original text</th>\n",
       "      <th>flag</th>\n",
       "    </tr>\n",
       "  </thead>\n",
       "  <tbody>\n",
       "    <tr>\n",
       "      <th>2088</th>\n",
       "      <td>3.0</td>\n",
       "      <td>0.998147</td>\n",
       "      <td>[transmission, expansion, system, transition, ...</td>\n",
       "      <td>1</td>\n",
       "    </tr>\n",
       "    <tr>\n",
       "      <th>2000</th>\n",
       "      <td>3.0</td>\n",
       "      <td>0.997228</td>\n",
       "      <td>[raquel, nunes, thomas, auto, confirm, amazon,...</td>\n",
       "      <td>1</td>\n",
       "    </tr>\n",
       "    <tr>\n",
       "      <th>2023</th>\n",
       "      <td>3.0</td>\n",
       "      <td>0.997104</td>\n",
       "      <td>[fyi, kim, original, message, schoolcraft, dar...</td>\n",
       "      <td>1</td>\n",
       "    </tr>\n",
       "    <tr>\n",
       "      <th>2009</th>\n",
       "      <td>3.0</td>\n",
       "      <td>0.995515</td>\n",
       "      <td>[information, organizational, change, bring, c...</td>\n",
       "      <td>1</td>\n",
       "    </tr>\n",
       "    <tr>\n",
       "      <th>2060</th>\n",
       "      <td>3.0</td>\n",
       "      <td>0.995332</td>\n",
       "      <td>[preparation, continuing, simulation, thursday...</td>\n",
       "      <td>1</td>\n",
       "    </tr>\n",
       "    <tr>\n",
       "      <th>2057</th>\n",
       "      <td>3.0</td>\n",
       "      <td>0.994930</td>\n",
       "      <td>[reservation, status, changed, detail, reserva...</td>\n",
       "      <td>1</td>\n",
       "    </tr>\n",
       "    <tr>\n",
       "      <th>2048</th>\n",
       "      <td>3.0</td>\n",
       "      <td>0.994863</td>\n",
       "      <td>[possible, probably, tomorrow, stacey, origina...</td>\n",
       "      <td>1</td>\n",
       "    </tr>\n",
       "    <tr>\n",
       "      <th>2074</th>\n",
       "      <td>3.0</td>\n",
       "      <td>0.993166</td>\n",
       "      <td>[dear, friend, hot, deal, value, one, opt, sub...</td>\n",
       "      <td>1</td>\n",
       "    </tr>\n",
       "    <tr>\n",
       "      <th>2035</th>\n",
       "      <td>3.0</td>\n",
       "      <td>0.992500</td>\n",
       "      <td>[hello, greg, belated, congrats, new, post, en...</td>\n",
       "      <td>1</td>\n",
       "    </tr>\n",
       "    <tr>\n",
       "      <th>2008</th>\n",
       "      <td>3.0</td>\n",
       "      <td>0.992348</td>\n",
       "      <td>[kim, e, mail, sending, follow, call, tyrell, ...</td>\n",
       "      <td>1</td>\n",
       "    </tr>\n",
       "  </tbody>\n",
       "</table>\n",
       "</div>"
      ],
      "text/plain": [
       "      Dominant_Topic   % Score  \\\n",
       "2088             3.0  0.998147   \n",
       "2000             3.0  0.997228   \n",
       "2023             3.0  0.997104   \n",
       "2009             3.0  0.995515   \n",
       "2060             3.0  0.995332   \n",
       "2057             3.0  0.994930   \n",
       "2048             3.0  0.994863   \n",
       "2074             3.0  0.993166   \n",
       "2035             3.0  0.992500   \n",
       "2008             3.0  0.992348   \n",
       "\n",
       "                                          Original text  flag  \n",
       "2088  [transmission, expansion, system, transition, ...     1  \n",
       "2000  [raquel, nunes, thomas, auto, confirm, amazon,...     1  \n",
       "2023  [fyi, kim, original, message, schoolcraft, dar...     1  \n",
       "2009  [information, organizational, change, bring, c...     1  \n",
       "2060  [preparation, continuing, simulation, thursday...     1  \n",
       "2057  [reservation, status, changed, detail, reserva...     1  \n",
       "2048  [possible, probably, tomorrow, stacey, origina...     1  \n",
       "2074  [dear, friend, hot, deal, value, one, opt, sub...     1  \n",
       "2035  [hello, greg, belated, congrats, new, post, en...     1  \n",
       "2008  [kim, e, mail, sending, follow, call, tyrell, ...     1  "
      ]
     },
     "execution_count": 195,
     "metadata": {},
     "output_type": "execute_result"
    }
   ],
   "source": [
    "topic_details_1.sort_values(by=['% Score'], ascending=False).head(10)"
   ]
  },
  {
   "cell_type": "markdown",
   "metadata": {},
   "source": [
    "**You have now flagged all data that is highest associated with topic 3, that seems to cover internal conversation about enron stock options. You are a true detective. With these exercises you have demonstrated that text mining and topic modeling can be a powerful tool for fraud detection.**"
   ]
  },
  {
   "cell_type": "markdown",
   "metadata": {},
   "source": [
    "## Lesson 4: Recap"
   ]
  },
  {
   "cell_type": "markdown",
   "metadata": {},
   "source": [
    "### Working with imbalanced data\n",
    "\n",
    "* Worked with highly imbalanced fraud data\n",
    "* Learned how to resample your data\n",
    "* Learned about different resampling methods"
   ]
  },
  {
   "cell_type": "markdown",
   "metadata": {},
   "source": [
    "### Fraud detection with labeled data\n",
    "\n",
    "* Refreshed supervised learning techniques to detect fraud\n",
    "* Learned how to get reliable performance metrics and worked with the precision recall trade-off\n",
    "* Explored how to optimize your model parameters to handle fraud data\n",
    "* Applied ensemble methods to fraud detection"
   ]
  },
  {
   "cell_type": "markdown",
   "metadata": {},
   "source": [
    "### Fraud detection without labels\n",
    "\n",
    "* Learned about the importance of segmentation\n",
    "* Refreshed your knowledge on clustering methods\n",
    "* Learned how to detect fraud using outliers and small clusters with K-means clustering\n",
    "* Applied a DB-scan clustering model for fraud detection"
   ]
  },
  {
   "cell_type": "markdown",
   "metadata": {},
   "source": [
    "### Text mining for fraud detection\n",
    "\n",
    "* Know how to augment fraud detection analysis with text mining techniques\n",
    "* Applied word searches to flag use of certain words, and learned how to apply topic modeling for fraud detection\n",
    "* Learned how to effectively clean messy text data"
   ]
  },
  {
   "cell_type": "markdown",
   "metadata": {},
   "source": [
    "### Further learning for fraud detection\n",
    "\n",
    "* Network analysis to detect fraud\n",
    "* Different supervised and unsupervised learning techniques (e.g. Neural Networks)\n",
    "* Working with very large data"
   ]
  }
 ],
 "metadata": {
  "kernelspec": {
   "display_name": "Python 3 (ipykernel)",
   "language": "python",
   "name": "python3"
  },
  "language_info": {
   "codemirror_mode": {
    "name": "ipython",
    "version": 3
   },
   "file_extension": ".py",
   "mimetype": "text/x-python",
   "name": "python",
   "nbconvert_exporter": "python",
   "pygments_lexer": "ipython3",
   "version": "3.9.7"
  },
  "toc-autonumbering": true
 },
 "nbformat": 4,
 "nbformat_minor": 4
}
